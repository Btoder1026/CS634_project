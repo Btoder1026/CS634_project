{
  "cells": [
    {
      "cell_type": "code",
      "execution_count": null,
      "metadata": {
        "colab": {
          "base_uri": "https://localhost:8080/"
        },
        "id": "tyPxnS_2fWLb",
        "outputId": "b0db8ee8-13e6-447f-bf0e-d6354a50a5c1"
      },
      "outputs": [
        {
          "name": "stdout",
          "output_type": "stream",
          "text": [
            "Collecting optuna\n",
            "  Downloading optuna-3.2.0-py3-none-any.whl (390 kB)\n",
            "\u001b[2K     \u001b[90m━━━━━━━━━━━━━━━━━━━━━━━━━━━━━━━━━━━━━━\u001b[0m \u001b[32m390.6/390.6 kB\u001b[0m \u001b[31m10.4 MB/s\u001b[0m eta \u001b[36m0:00:00\u001b[0m\n",
            "\u001b[?25hCollecting alembic>=1.5.0 (from optuna)\n",
            "  Downloading alembic-1.11.1-py3-none-any.whl (224 kB)\n",
            "\u001b[2K     \u001b[90m━━━━━━━━━━━━━━━━━━━━━━━━━━━━━━━━━━━━━━\u001b[0m \u001b[32m224.5/224.5 kB\u001b[0m \u001b[31m20.3 MB/s\u001b[0m eta \u001b[36m0:00:00\u001b[0m\n",
            "\u001b[?25hCollecting cmaes>=0.9.1 (from optuna)\n",
            "  Downloading cmaes-0.9.1-py3-none-any.whl (21 kB)\n",
            "Collecting colorlog (from optuna)\n",
            "  Downloading colorlog-6.7.0-py2.py3-none-any.whl (11 kB)\n",
            "Requirement already satisfied: numpy in /usr/local/lib/python3.10/dist-packages (from optuna) (1.22.4)\n",
            "Requirement already satisfied: packaging>=20.0 in /usr/local/lib/python3.10/dist-packages (from optuna) (23.1)\n",
            "Requirement already satisfied: sqlalchemy>=1.3.0 in /usr/local/lib/python3.10/dist-packages (from optuna) (2.0.18)\n",
            "Requirement already satisfied: tqdm in /usr/local/lib/python3.10/dist-packages (from optuna) (4.65.0)\n",
            "Requirement already satisfied: PyYAML in /usr/local/lib/python3.10/dist-packages (from optuna) (6.0)\n",
            "Collecting Mako (from alembic>=1.5.0->optuna)\n",
            "  Downloading Mako-1.2.4-py3-none-any.whl (78 kB)\n",
            "\u001b[2K     \u001b[90m━━━━━━━━━━━━━━━━━━━━━━━━━━━━━━━━━━━━━━━━\u001b[0m \u001b[32m78.7/78.7 kB\u001b[0m \u001b[31m9.2 MB/s\u001b[0m eta \u001b[36m0:00:00\u001b[0m\n",
            "\u001b[?25hRequirement already satisfied: typing-extensions>=4 in /usr/local/lib/python3.10/dist-packages (from alembic>=1.5.0->optuna) (4.7.1)\n",
            "Requirement already satisfied: greenlet!=0.4.17 in /usr/local/lib/python3.10/dist-packages (from sqlalchemy>=1.3.0->optuna) (2.0.2)\n",
            "Requirement already satisfied: MarkupSafe>=0.9.2 in /usr/local/lib/python3.10/dist-packages (from Mako->alembic>=1.5.0->optuna) (2.1.3)\n",
            "Installing collected packages: Mako, colorlog, cmaes, alembic, optuna\n",
            "Successfully installed Mako-1.2.4 alembic-1.11.1 cmaes-0.9.1 colorlog-6.7.0 optuna-3.2.0\n"
          ]
        }
      ],
      "source": [
        "pip install optuna"
      ]
    },
    {
      "cell_type": "code",
      "execution_count": null,
      "metadata": {
        "id": "QvYcjv4YfpDo"
      },
      "outputs": [],
      "source": [
        "import pandas as pd\n",
        "import numpy as np\n",
        "import optuna\n",
        "import lightgbm as lgb\n",
        "from sklearn.model_selection import train_test_split\n",
        "from sklearn.metrics import mean_squared_error"
      ]
    },
    {
      "cell_type": "code",
      "execution_count": null,
      "metadata": {
        "colab": {
          "base_uri": "https://localhost:8080/",
          "height": 300
        },
        "id": "lHX_rPq8fve5",
        "outputId": "35ae2298-6506-4d02-a6da-913000710d7e"
      },
      "outputs": [
        {
          "data": {
            "text/html": [
              "\n",
              "\n",
              "  <div id=\"df-136397e6-e258-4f6b-8bd6-6e2d7fac7005\">\n",
              "    <div class=\"colab-df-container\">\n",
              "      <div>\n",
              "<style scoped>\n",
              "    .dataframe tbody tr th:only-of-type {\n",
              "        vertical-align: middle;\n",
              "    }\n",
              "\n",
              "    .dataframe tbody tr th {\n",
              "        vertical-align: top;\n",
              "    }\n",
              "\n",
              "    .dataframe thead th {\n",
              "        text-align: right;\n",
              "    }\n",
              "</style>\n",
              "<table border=\"1\" class=\"dataframe\">\n",
              "  <thead>\n",
              "    <tr style=\"text-align: right;\">\n",
              "      <th></th>\n",
              "      <th>Id</th>\n",
              "      <th>MSSubClass</th>\n",
              "      <th>MSZoning</th>\n",
              "      <th>LotFrontage</th>\n",
              "      <th>LotArea</th>\n",
              "      <th>Street</th>\n",
              "      <th>Alley</th>\n",
              "      <th>LotShape</th>\n",
              "      <th>LandContour</th>\n",
              "      <th>Utilities</th>\n",
              "      <th>...</th>\n",
              "      <th>PoolArea</th>\n",
              "      <th>PoolQC</th>\n",
              "      <th>Fence</th>\n",
              "      <th>MiscFeature</th>\n",
              "      <th>MiscVal</th>\n",
              "      <th>MoSold</th>\n",
              "      <th>YrSold</th>\n",
              "      <th>SaleType</th>\n",
              "      <th>SaleCondition</th>\n",
              "      <th>SalePrice</th>\n",
              "    </tr>\n",
              "  </thead>\n",
              "  <tbody>\n",
              "    <tr>\n",
              "      <th>0</th>\n",
              "      <td>1</td>\n",
              "      <td>60</td>\n",
              "      <td>RL</td>\n",
              "      <td>65.0</td>\n",
              "      <td>8450</td>\n",
              "      <td>Pave</td>\n",
              "      <td>NaN</td>\n",
              "      <td>Reg</td>\n",
              "      <td>Lvl</td>\n",
              "      <td>AllPub</td>\n",
              "      <td>...</td>\n",
              "      <td>0</td>\n",
              "      <td>NaN</td>\n",
              "      <td>NaN</td>\n",
              "      <td>NaN</td>\n",
              "      <td>0</td>\n",
              "      <td>2</td>\n",
              "      <td>2008</td>\n",
              "      <td>WD</td>\n",
              "      <td>Normal</td>\n",
              "      <td>208500</td>\n",
              "    </tr>\n",
              "    <tr>\n",
              "      <th>1</th>\n",
              "      <td>2</td>\n",
              "      <td>20</td>\n",
              "      <td>RL</td>\n",
              "      <td>80.0</td>\n",
              "      <td>9600</td>\n",
              "      <td>Pave</td>\n",
              "      <td>NaN</td>\n",
              "      <td>Reg</td>\n",
              "      <td>Lvl</td>\n",
              "      <td>AllPub</td>\n",
              "      <td>...</td>\n",
              "      <td>0</td>\n",
              "      <td>NaN</td>\n",
              "      <td>NaN</td>\n",
              "      <td>NaN</td>\n",
              "      <td>0</td>\n",
              "      <td>5</td>\n",
              "      <td>2007</td>\n",
              "      <td>WD</td>\n",
              "      <td>Normal</td>\n",
              "      <td>181500</td>\n",
              "    </tr>\n",
              "    <tr>\n",
              "      <th>2</th>\n",
              "      <td>3</td>\n",
              "      <td>60</td>\n",
              "      <td>RL</td>\n",
              "      <td>68.0</td>\n",
              "      <td>11250</td>\n",
              "      <td>Pave</td>\n",
              "      <td>NaN</td>\n",
              "      <td>IR1</td>\n",
              "      <td>Lvl</td>\n",
              "      <td>AllPub</td>\n",
              "      <td>...</td>\n",
              "      <td>0</td>\n",
              "      <td>NaN</td>\n",
              "      <td>NaN</td>\n",
              "      <td>NaN</td>\n",
              "      <td>0</td>\n",
              "      <td>9</td>\n",
              "      <td>2008</td>\n",
              "      <td>WD</td>\n",
              "      <td>Normal</td>\n",
              "      <td>223500</td>\n",
              "    </tr>\n",
              "    <tr>\n",
              "      <th>3</th>\n",
              "      <td>4</td>\n",
              "      <td>70</td>\n",
              "      <td>RL</td>\n",
              "      <td>60.0</td>\n",
              "      <td>9550</td>\n",
              "      <td>Pave</td>\n",
              "      <td>NaN</td>\n",
              "      <td>IR1</td>\n",
              "      <td>Lvl</td>\n",
              "      <td>AllPub</td>\n",
              "      <td>...</td>\n",
              "      <td>0</td>\n",
              "      <td>NaN</td>\n",
              "      <td>NaN</td>\n",
              "      <td>NaN</td>\n",
              "      <td>0</td>\n",
              "      <td>2</td>\n",
              "      <td>2006</td>\n",
              "      <td>WD</td>\n",
              "      <td>Abnorml</td>\n",
              "      <td>140000</td>\n",
              "    </tr>\n",
              "    <tr>\n",
              "      <th>4</th>\n",
              "      <td>5</td>\n",
              "      <td>60</td>\n",
              "      <td>RL</td>\n",
              "      <td>84.0</td>\n",
              "      <td>14260</td>\n",
              "      <td>Pave</td>\n",
              "      <td>NaN</td>\n",
              "      <td>IR1</td>\n",
              "      <td>Lvl</td>\n",
              "      <td>AllPub</td>\n",
              "      <td>...</td>\n",
              "      <td>0</td>\n",
              "      <td>NaN</td>\n",
              "      <td>NaN</td>\n",
              "      <td>NaN</td>\n",
              "      <td>0</td>\n",
              "      <td>12</td>\n",
              "      <td>2008</td>\n",
              "      <td>WD</td>\n",
              "      <td>Normal</td>\n",
              "      <td>250000</td>\n",
              "    </tr>\n",
              "  </tbody>\n",
              "</table>\n",
              "<p>5 rows × 81 columns</p>\n",
              "</div>\n",
              "      <button class=\"colab-df-convert\" onclick=\"convertToInteractive('df-136397e6-e258-4f6b-8bd6-6e2d7fac7005')\"\n",
              "              title=\"Convert this dataframe to an interactive table.\"\n",
              "              style=\"display:none;\">\n",
              "\n",
              "  <svg xmlns=\"http://www.w3.org/2000/svg\" height=\"24px\"viewBox=\"0 0 24 24\"\n",
              "       width=\"24px\">\n",
              "    <path d=\"M0 0h24v24H0V0z\" fill=\"none\"/>\n",
              "    <path d=\"M18.56 5.44l.94 2.06.94-2.06 2.06-.94-2.06-.94-.94-2.06-.94 2.06-2.06.94zm-11 1L8.5 8.5l.94-2.06 2.06-.94-2.06-.94L8.5 2.5l-.94 2.06-2.06.94zm10 10l.94 2.06.94-2.06 2.06-.94-2.06-.94-.94-2.06-.94 2.06-2.06.94z\"/><path d=\"M17.41 7.96l-1.37-1.37c-.4-.4-.92-.59-1.43-.59-.52 0-1.04.2-1.43.59L10.3 9.45l-7.72 7.72c-.78.78-.78 2.05 0 2.83L4 21.41c.39.39.9.59 1.41.59.51 0 1.02-.2 1.41-.59l7.78-7.78 2.81-2.81c.8-.78.8-2.07 0-2.86zM5.41 20L4 18.59l7.72-7.72 1.47 1.35L5.41 20z\"/>\n",
              "  </svg>\n",
              "      </button>\n",
              "\n",
              "\n",
              "\n",
              "    <div id=\"df-f725daa7-5115-4c29-a179-ad347a1051e8\">\n",
              "      <button class=\"colab-df-quickchart\" onclick=\"quickchart('df-f725daa7-5115-4c29-a179-ad347a1051e8')\"\n",
              "              title=\"Suggest charts.\"\n",
              "              style=\"display:none;\">\n",
              "\n",
              "<svg xmlns=\"http://www.w3.org/2000/svg\" height=\"24px\"viewBox=\"0 0 24 24\"\n",
              "     width=\"24px\">\n",
              "    <g>\n",
              "        <path d=\"M19 3H5c-1.1 0-2 .9-2 2v14c0 1.1.9 2 2 2h14c1.1 0 2-.9 2-2V5c0-1.1-.9-2-2-2zM9 17H7v-7h2v7zm4 0h-2V7h2v10zm4 0h-2v-4h2v4z\"/>\n",
              "    </g>\n",
              "</svg>\n",
              "      </button>\n",
              "    </div>\n",
              "\n",
              "<style>\n",
              "  .colab-df-quickchart {\n",
              "    background-color: #E8F0FE;\n",
              "    border: none;\n",
              "    border-radius: 50%;\n",
              "    cursor: pointer;\n",
              "    display: none;\n",
              "    fill: #1967D2;\n",
              "    height: 32px;\n",
              "    padding: 0 0 0 0;\n",
              "    width: 32px;\n",
              "  }\n",
              "\n",
              "  .colab-df-quickchart:hover {\n",
              "    background-color: #E2EBFA;\n",
              "    box-shadow: 0px 1px 2px rgba(60, 64, 67, 0.3), 0px 1px 3px 1px rgba(60, 64, 67, 0.15);\n",
              "    fill: #174EA6;\n",
              "  }\n",
              "\n",
              "  [theme=dark] .colab-df-quickchart {\n",
              "    background-color: #3B4455;\n",
              "    fill: #D2E3FC;\n",
              "  }\n",
              "\n",
              "  [theme=dark] .colab-df-quickchart:hover {\n",
              "    background-color: #434B5C;\n",
              "    box-shadow: 0px 1px 3px 1px rgba(0, 0, 0, 0.15);\n",
              "    filter: drop-shadow(0px 1px 2px rgba(0, 0, 0, 0.3));\n",
              "    fill: #FFFFFF;\n",
              "  }\n",
              "</style>\n",
              "\n",
              "    <script>\n",
              "      async function quickchart(key) {\n",
              "        const containerElement = document.querySelector('#' + key);\n",
              "        const charts = await google.colab.kernel.invokeFunction(\n",
              "            'suggestCharts', [key], {});\n",
              "      }\n",
              "    </script>\n",
              "\n",
              "      <script>\n",
              "\n",
              "function displayQuickchartButton(domScope) {\n",
              "  let quickchartButtonEl =\n",
              "    domScope.querySelector('#df-f725daa7-5115-4c29-a179-ad347a1051e8 button.colab-df-quickchart');\n",
              "  quickchartButtonEl.style.display =\n",
              "    google.colab.kernel.accessAllowed ? 'block' : 'none';\n",
              "}\n",
              "\n",
              "        displayQuickchartButton(document);\n",
              "      </script>\n",
              "      <style>\n",
              "    .colab-df-container {\n",
              "      display:flex;\n",
              "      flex-wrap:wrap;\n",
              "      gap: 12px;\n",
              "    }\n",
              "\n",
              "    .colab-df-convert {\n",
              "      background-color: #E8F0FE;\n",
              "      border: none;\n",
              "      border-radius: 50%;\n",
              "      cursor: pointer;\n",
              "      display: none;\n",
              "      fill: #1967D2;\n",
              "      height: 32px;\n",
              "      padding: 0 0 0 0;\n",
              "      width: 32px;\n",
              "    }\n",
              "\n",
              "    .colab-df-convert:hover {\n",
              "      background-color: #E2EBFA;\n",
              "      box-shadow: 0px 1px 2px rgba(60, 64, 67, 0.3), 0px 1px 3px 1px rgba(60, 64, 67, 0.15);\n",
              "      fill: #174EA6;\n",
              "    }\n",
              "\n",
              "    [theme=dark] .colab-df-convert {\n",
              "      background-color: #3B4455;\n",
              "      fill: #D2E3FC;\n",
              "    }\n",
              "\n",
              "    [theme=dark] .colab-df-convert:hover {\n",
              "      background-color: #434B5C;\n",
              "      box-shadow: 0px 1px 3px 1px rgba(0, 0, 0, 0.15);\n",
              "      filter: drop-shadow(0px 1px 2px rgba(0, 0, 0, 0.3));\n",
              "      fill: #FFFFFF;\n",
              "    }\n",
              "  </style>\n",
              "\n",
              "      <script>\n",
              "        const buttonEl =\n",
              "          document.querySelector('#df-136397e6-e258-4f6b-8bd6-6e2d7fac7005 button.colab-df-convert');\n",
              "        buttonEl.style.display =\n",
              "          google.colab.kernel.accessAllowed ? 'block' : 'none';\n",
              "\n",
              "        async function convertToInteractive(key) {\n",
              "          const element = document.querySelector('#df-136397e6-e258-4f6b-8bd6-6e2d7fac7005');\n",
              "          const dataTable =\n",
              "            await google.colab.kernel.invokeFunction('convertToInteractive',\n",
              "                                                     [key], {});\n",
              "          if (!dataTable) return;\n",
              "\n",
              "          const docLinkHtml = 'Like what you see? Visit the ' +\n",
              "            '<a target=\"_blank\" href=https://colab.research.google.com/notebooks/data_table.ipynb>data table notebook</a>'\n",
              "            + ' to learn more about interactive tables.';\n",
              "          element.innerHTML = '';\n",
              "          dataTable['output_type'] = 'display_data';\n",
              "          await google.colab.output.renderOutput(dataTable, element);\n",
              "          const docLink = document.createElement('div');\n",
              "          docLink.innerHTML = docLinkHtml;\n",
              "          element.appendChild(docLink);\n",
              "        }\n",
              "      </script>\n",
              "    </div>\n",
              "  </div>\n"
            ],
            "text/plain": [
              "   Id  MSSubClass MSZoning  LotFrontage  LotArea Street Alley LotShape  \\\n",
              "0   1          60       RL         65.0     8450   Pave   NaN      Reg   \n",
              "1   2          20       RL         80.0     9600   Pave   NaN      Reg   \n",
              "2   3          60       RL         68.0    11250   Pave   NaN      IR1   \n",
              "3   4          70       RL         60.0     9550   Pave   NaN      IR1   \n",
              "4   5          60       RL         84.0    14260   Pave   NaN      IR1   \n",
              "\n",
              "  LandContour Utilities  ... PoolArea PoolQC Fence MiscFeature MiscVal MoSold  \\\n",
              "0         Lvl    AllPub  ...        0    NaN   NaN         NaN       0      2   \n",
              "1         Lvl    AllPub  ...        0    NaN   NaN         NaN       0      5   \n",
              "2         Lvl    AllPub  ...        0    NaN   NaN         NaN       0      9   \n",
              "3         Lvl    AllPub  ...        0    NaN   NaN         NaN       0      2   \n",
              "4         Lvl    AllPub  ...        0    NaN   NaN         NaN       0     12   \n",
              "\n",
              "  YrSold  SaleType  SaleCondition  SalePrice  \n",
              "0   2008        WD         Normal     208500  \n",
              "1   2007        WD         Normal     181500  \n",
              "2   2008        WD         Normal     223500  \n",
              "3   2006        WD        Abnorml     140000  \n",
              "4   2008        WD         Normal     250000  \n",
              "\n",
              "[5 rows x 81 columns]"
            ]
          },
          "execution_count": 4,
          "metadata": {},
          "output_type": "execute_result"
        }
      ],
      "source": [
        "# Loading the dataset\n",
        "train_dataset = pd.read_csv('train.csv')\n",
        "train_dataset.head()"
      ]
    },
    {
      "cell_type": "code",
      "execution_count": null,
      "metadata": {
        "id": "FHYJ-hC6fzQn"
      },
      "outputs": [],
      "source": [
        "# Selecting features\n",
        "features = ['LotArea', 'OverallQual', 'OverallCond', 'YearBuilt', 'YearRemodAdd', 'BsmtFinSF1', 'BsmtFinSF2',\n",
        "            'TotalBsmtSF', '1stFlrSF', 'LowQualFinSF', 'GrLivArea', 'BsmtFullBath', 'BsmtHalfBath', 'HalfBath',\n",
        "            'BedroomAbvGr', 'Fireplaces', 'GarageCars', 'GarageArea', 'WoodDeckSF', 'OpenPorchSF', 'EnclosedPorch',\n",
        "            'PoolArea', 'YrSold']\n",
        "X = train_dataset[features]\n",
        "y = train_dataset[\"SalePrice\"]"
      ]
    },
    {
      "cell_type": "code",
      "execution_count": null,
      "metadata": {
        "id": "syW5t1uyf7bO"
      },
      "outputs": [],
      "source": [
        "# Splitting the dataset into train and validation sets\n",
        "X_train, X_val, y_train, y_val = train_test_split(X, y, test_size=0.2, random_state=42)"
      ]
    },
    {
      "cell_type": "code",
      "execution_count": null,
      "metadata": {
        "id": "w5Ixrt3jgA_u"
      },
      "outputs": [],
      "source": [
        "# LightGBM objective function for Optuna\n",
        "def objective(trial):\n",
        "    params = {\n",
        "        'objective': 'regression',\n",
        "        'metric': 'rmse',\n",
        "        'verbosity': -1,\n",
        "        'boosting_type': 'gbdt',\n",
        "        'lambda_l1': trial.suggest_loguniform('lambda_l1', 1e-8, 10.0),\n",
        "        'lambda_l2': trial.suggest_loguniform('lambda_l2', 1e-8, 10.0),\n",
        "        'num_leaves': trial.suggest_int('num_leaves', 2, 256),\n",
        "        'learning_rate': trial.suggest_loguniform('learning_rate', 0.01, 0.5),\n",
        "        'feature_fraction': trial.suggest_uniform('feature_fraction', 0.1, 1.0),\n",
        "        'bagging_fraction': trial.suggest_uniform('bagging_fraction', 0.1, 1.0),\n",
        "        'bagging_freq': trial.suggest_int('bagging_freq', 1, 10),\n",
        "        'min_child_samples': trial.suggest_int('min_child_samples', 1, 100)\n",
        "    }\n",
        "\n",
        "    model = lgb.LGBMRegressor(**params)\n",
        "    model.fit(X_train, y_train)\n",
        "    y_pred = model.predict(X_val)\n",
        "    rmse = np.sqrt(mean_squared_error(y_val, y_pred))\n",
        "\n",
        "    return rmse"
      ]
    },
    {
      "cell_type": "code",
      "execution_count": null,
      "metadata": {
        "colab": {
          "base_uri": "https://localhost:8080/"
        },
        "id": "XIVENx5egFvc",
        "outputId": "672768d5-ffe3-40fc-cbd6-54d391646044"
      },
      "outputs": [
        {
          "name": "stderr",
          "output_type": "stream",
          "text": [
            "[I 2023-07-12 14:28:09,289] A new study created in memory with name: no-name-5f21b65c-348f-4a4e-a08c-024be07b6a81\n",
            "<ipython-input-7-bd34402695c0>:8: FutureWarning: suggest_loguniform has been deprecated in v3.0.0. This feature will be removed in v6.0.0. See https://github.com/optuna/optuna/releases/tag/v3.0.0. Use suggest_float(..., log=True) instead.\n",
            "  'lambda_l1': trial.suggest_loguniform('lambda_l1', 1e-8, 10.0),\n",
            "<ipython-input-7-bd34402695c0>:9: FutureWarning: suggest_loguniform has been deprecated in v3.0.0. This feature will be removed in v6.0.0. See https://github.com/optuna/optuna/releases/tag/v3.0.0. Use suggest_float(..., log=True) instead.\n",
            "  'lambda_l2': trial.suggest_loguniform('lambda_l2', 1e-8, 10.0),\n",
            "<ipython-input-7-bd34402695c0>:11: FutureWarning: suggest_loguniform has been deprecated in v3.0.0. This feature will be removed in v6.0.0. See https://github.com/optuna/optuna/releases/tag/v3.0.0. Use suggest_float(..., log=True) instead.\n",
            "  'learning_rate': trial.suggest_loguniform('learning_rate', 0.01, 0.5),\n",
            "<ipython-input-7-bd34402695c0>:12: FutureWarning: suggest_uniform has been deprecated in v3.0.0. This feature will be removed in v6.0.0. See https://github.com/optuna/optuna/releases/tag/v3.0.0. Use suggest_float instead.\n",
            "  'feature_fraction': trial.suggest_uniform('feature_fraction', 0.1, 1.0),\n",
            "<ipython-input-7-bd34402695c0>:13: FutureWarning: suggest_uniform has been deprecated in v3.0.0. This feature will be removed in v6.0.0. See https://github.com/optuna/optuna/releases/tag/v3.0.0. Use suggest_float instead.\n",
            "  'bagging_fraction': trial.suggest_uniform('bagging_fraction', 0.1, 1.0),\n"
          ]
        },
        {
          "name": "stdout",
          "output_type": "stream",
          "text": [
            "[LightGBM] [Warning] bagging_fraction is set=0.18831047342229987, subsample=1.0 will be ignored. Current value: bagging_fraction=0.18831047342229987\n",
            "[LightGBM] [Warning] lambda_l2 is set=2.2658829529891475e-06, reg_lambda=0.0 will be ignored. Current value: lambda_l2=2.2658829529891475e-06\n",
            "[LightGBM] [Warning] lambda_l1 is set=0.0001162018346307885, reg_alpha=0.0 will be ignored. Current value: lambda_l1=0.0001162018346307885\n",
            "[LightGBM] [Warning] bagging_freq is set=2, subsample_freq=0 will be ignored. Current value: bagging_freq=2\n",
            "[LightGBM] [Warning] feature_fraction is set=0.8349045546477206, colsample_bytree=1.0 will be ignored. Current value: feature_fraction=0.8349045546477206\n"
          ]
        },
        {
          "name": "stderr",
          "output_type": "stream",
          "text": [
            "[I 2023-07-12 14:28:10,017] Trial 0 finished with value: 64036.116070974604 and parameters: {'lambda_l1': 0.0001162018346307885, 'lambda_l2': 2.2658829529891475e-06, 'num_leaves': 195, 'learning_rate': 0.014222768877965124, 'feature_fraction': 0.8349045546477206, 'bagging_fraction': 0.18831047342229987, 'bagging_freq': 2, 'min_child_samples': 91}. Best is trial 0 with value: 64036.116070974604.\n",
            "<ipython-input-7-bd34402695c0>:8: FutureWarning: suggest_loguniform has been deprecated in v3.0.0. This feature will be removed in v6.0.0. See https://github.com/optuna/optuna/releases/tag/v3.0.0. Use suggest_float(..., log=True) instead.\n",
            "  'lambda_l1': trial.suggest_loguniform('lambda_l1', 1e-8, 10.0),\n",
            "<ipython-input-7-bd34402695c0>:9: FutureWarning: suggest_loguniform has been deprecated in v3.0.0. This feature will be removed in v6.0.0. See https://github.com/optuna/optuna/releases/tag/v3.0.0. Use suggest_float(..., log=True) instead.\n",
            "  'lambda_l2': trial.suggest_loguniform('lambda_l2', 1e-8, 10.0),\n",
            "<ipython-input-7-bd34402695c0>:11: FutureWarning: suggest_loguniform has been deprecated in v3.0.0. This feature will be removed in v6.0.0. See https://github.com/optuna/optuna/releases/tag/v3.0.0. Use suggest_float(..., log=True) instead.\n",
            "  'learning_rate': trial.suggest_loguniform('learning_rate', 0.01, 0.5),\n",
            "<ipython-input-7-bd34402695c0>:12: FutureWarning: suggest_uniform has been deprecated in v3.0.0. This feature will be removed in v6.0.0. See https://github.com/optuna/optuna/releases/tag/v3.0.0. Use suggest_float instead.\n",
            "  'feature_fraction': trial.suggest_uniform('feature_fraction', 0.1, 1.0),\n",
            "<ipython-input-7-bd34402695c0>:13: FutureWarning: suggest_uniform has been deprecated in v3.0.0. This feature will be removed in v6.0.0. See https://github.com/optuna/optuna/releases/tag/v3.0.0. Use suggest_float instead.\n",
            "  'bagging_fraction': trial.suggest_uniform('bagging_fraction', 0.1, 1.0),\n"
          ]
        },
        {
          "name": "stdout",
          "output_type": "stream",
          "text": [
            "[LightGBM] [Warning] bagging_fraction is set=0.6444694686982728, subsample=1.0 will be ignored. Current value: bagging_fraction=0.6444694686982728\n",
            "[LightGBM] [Warning] lambda_l2 is set=1.8265469401425536, reg_lambda=0.0 will be ignored. Current value: lambda_l2=1.8265469401425536\n",
            "[LightGBM] [Warning] lambda_l1 is set=3.0805645312470566e-06, reg_alpha=0.0 will be ignored. Current value: lambda_l1=3.0805645312470566e-06\n",
            "[LightGBM] [Warning] bagging_freq is set=2, subsample_freq=0 will be ignored. Current value: bagging_freq=2\n",
            "[LightGBM] [Warning] feature_fraction is set=0.8249884854576126, colsample_bytree=1.0 will be ignored. Current value: feature_fraction=0.8249884854576126\n"
          ]
        },
        {
          "name": "stderr",
          "output_type": "stream",
          "text": [
            "[I 2023-07-12 14:28:10,265] Trial 1 finished with value: 41740.037847868145 and parameters: {'lambda_l1': 3.0805645312470566e-06, 'lambda_l2': 1.8265469401425536, 'num_leaves': 76, 'learning_rate': 0.021503463602538155, 'feature_fraction': 0.8249884854576126, 'bagging_fraction': 0.6444694686982728, 'bagging_freq': 2, 'min_child_samples': 51}. Best is trial 1 with value: 41740.037847868145.\n",
            "<ipython-input-7-bd34402695c0>:8: FutureWarning: suggest_loguniform has been deprecated in v3.0.0. This feature will be removed in v6.0.0. See https://github.com/optuna/optuna/releases/tag/v3.0.0. Use suggest_float(..., log=True) instead.\n",
            "  'lambda_l1': trial.suggest_loguniform('lambda_l1', 1e-8, 10.0),\n",
            "<ipython-input-7-bd34402695c0>:9: FutureWarning: suggest_loguniform has been deprecated in v3.0.0. This feature will be removed in v6.0.0. See https://github.com/optuna/optuna/releases/tag/v3.0.0. Use suggest_float(..., log=True) instead.\n",
            "  'lambda_l2': trial.suggest_loguniform('lambda_l2', 1e-8, 10.0),\n",
            "<ipython-input-7-bd34402695c0>:11: FutureWarning: suggest_loguniform has been deprecated in v3.0.0. This feature will be removed in v6.0.0. See https://github.com/optuna/optuna/releases/tag/v3.0.0. Use suggest_float(..., log=True) instead.\n",
            "  'learning_rate': trial.suggest_loguniform('learning_rate', 0.01, 0.5),\n",
            "<ipython-input-7-bd34402695c0>:12: FutureWarning: suggest_uniform has been deprecated in v3.0.0. This feature will be removed in v6.0.0. See https://github.com/optuna/optuna/releases/tag/v3.0.0. Use suggest_float instead.\n",
            "  'feature_fraction': trial.suggest_uniform('feature_fraction', 0.1, 1.0),\n",
            "<ipython-input-7-bd34402695c0>:13: FutureWarning: suggest_uniform has been deprecated in v3.0.0. This feature will be removed in v6.0.0. See https://github.com/optuna/optuna/releases/tag/v3.0.0. Use suggest_float instead.\n",
            "  'bagging_fraction': trial.suggest_uniform('bagging_fraction', 0.1, 1.0),\n"
          ]
        },
        {
          "name": "stdout",
          "output_type": "stream",
          "text": [
            "[LightGBM] [Warning] bagging_fraction is set=0.7556713754260315, subsample=1.0 will be ignored. Current value: bagging_fraction=0.7556713754260315\n",
            "[LightGBM] [Warning] lambda_l2 is set=0.04043888863436172, reg_lambda=0.0 will be ignored. Current value: lambda_l2=0.04043888863436172\n",
            "[LightGBM] [Warning] lambda_l1 is set=1.7502931163395057, reg_alpha=0.0 will be ignored. Current value: lambda_l1=1.7502931163395057\n",
            "[LightGBM] [Warning] bagging_freq is set=3, subsample_freq=0 will be ignored. Current value: bagging_freq=3\n",
            "[LightGBM] [Warning] feature_fraction is set=0.43598642585661596, colsample_bytree=1.0 will be ignored. Current value: feature_fraction=0.43598642585661596\n"
          ]
        },
        {
          "name": "stderr",
          "output_type": "stream",
          "text": [
            "[I 2023-07-12 14:28:11,331] Trial 2 finished with value: 34742.73430569191 and parameters: {'lambda_l1': 1.7502931163395057, 'lambda_l2': 0.04043888863436172, 'num_leaves': 240, 'learning_rate': 0.3845874792640695, 'feature_fraction': 0.43598642585661596, 'bagging_fraction': 0.7556713754260315, 'bagging_freq': 3, 'min_child_samples': 44}. Best is trial 2 with value: 34742.73430569191.\n",
            "<ipython-input-7-bd34402695c0>:8: FutureWarning: suggest_loguniform has been deprecated in v3.0.0. This feature will be removed in v6.0.0. See https://github.com/optuna/optuna/releases/tag/v3.0.0. Use suggest_float(..., log=True) instead.\n",
            "  'lambda_l1': trial.suggest_loguniform('lambda_l1', 1e-8, 10.0),\n",
            "<ipython-input-7-bd34402695c0>:9: FutureWarning: suggest_loguniform has been deprecated in v3.0.0. This feature will be removed in v6.0.0. See https://github.com/optuna/optuna/releases/tag/v3.0.0. Use suggest_float(..., log=True) instead.\n",
            "  'lambda_l2': trial.suggest_loguniform('lambda_l2', 1e-8, 10.0),\n",
            "<ipython-input-7-bd34402695c0>:11: FutureWarning: suggest_loguniform has been deprecated in v3.0.0. This feature will be removed in v6.0.0. See https://github.com/optuna/optuna/releases/tag/v3.0.0. Use suggest_float(..., log=True) instead.\n",
            "  'learning_rate': trial.suggest_loguniform('learning_rate', 0.01, 0.5),\n",
            "<ipython-input-7-bd34402695c0>:12: FutureWarning: suggest_uniform has been deprecated in v3.0.0. This feature will be removed in v6.0.0. See https://github.com/optuna/optuna/releases/tag/v3.0.0. Use suggest_float instead.\n",
            "  'feature_fraction': trial.suggest_uniform('feature_fraction', 0.1, 1.0),\n",
            "<ipython-input-7-bd34402695c0>:13: FutureWarning: suggest_uniform has been deprecated in v3.0.0. This feature will be removed in v6.0.0. See https://github.com/optuna/optuna/releases/tag/v3.0.0. Use suggest_float instead.\n",
            "  'bagging_fraction': trial.suggest_uniform('bagging_fraction', 0.1, 1.0),\n",
            "[I 2023-07-12 14:28:11,371] Trial 3 finished with value: 51889.13309304255 and parameters: {'lambda_l1': 0.10461888693775723, 'lambda_l2': 4.6665485144772656e-07, 'num_leaves': 184, 'learning_rate': 0.031152892772441935, 'feature_fraction': 0.4085795258991144, 'bagging_fraction': 0.16011224476395933, 'bagging_freq': 10, 'min_child_samples': 53}. Best is trial 2 with value: 34742.73430569191.\n",
            "<ipython-input-7-bd34402695c0>:8: FutureWarning: suggest_loguniform has been deprecated in v3.0.0. This feature will be removed in v6.0.0. See https://github.com/optuna/optuna/releases/tag/v3.0.0. Use suggest_float(..., log=True) instead.\n",
            "  'lambda_l1': trial.suggest_loguniform('lambda_l1', 1e-8, 10.0),\n",
            "<ipython-input-7-bd34402695c0>:9: FutureWarning: suggest_loguniform has been deprecated in v3.0.0. This feature will be removed in v6.0.0. See https://github.com/optuna/optuna/releases/tag/v3.0.0. Use suggest_float(..., log=True) instead.\n",
            "  'lambda_l2': trial.suggest_loguniform('lambda_l2', 1e-8, 10.0),\n",
            "<ipython-input-7-bd34402695c0>:11: FutureWarning: suggest_loguniform has been deprecated in v3.0.0. This feature will be removed in v6.0.0. See https://github.com/optuna/optuna/releases/tag/v3.0.0. Use suggest_float(..., log=True) instead.\n",
            "  'learning_rate': trial.suggest_loguniform('learning_rate', 0.01, 0.5),\n",
            "<ipython-input-7-bd34402695c0>:12: FutureWarning: suggest_uniform has been deprecated in v3.0.0. This feature will be removed in v6.0.0. See https://github.com/optuna/optuna/releases/tag/v3.0.0. Use suggest_float instead.\n",
            "  'feature_fraction': trial.suggest_uniform('feature_fraction', 0.1, 1.0),\n",
            "<ipython-input-7-bd34402695c0>:13: FutureWarning: suggest_uniform has been deprecated in v3.0.0. This feature will be removed in v6.0.0. See https://github.com/optuna/optuna/releases/tag/v3.0.0. Use suggest_float instead.\n",
            "  'bagging_fraction': trial.suggest_uniform('bagging_fraction', 0.1, 1.0),\n",
            "[I 2023-07-12 14:28:11,469] Trial 4 finished with value: 30626.57494993342 and parameters: {'lambda_l1': 6.186891319585907e-08, 'lambda_l2': 4.199530499154642e-06, 'num_leaves': 106, 'learning_rate': 0.06628153392547491, 'feature_fraction': 0.26566324080049664, 'bagging_fraction': 0.6822936320404188, 'bagging_freq': 2, 'min_child_samples': 28}. Best is trial 4 with value: 30626.57494993342.\n",
            "<ipython-input-7-bd34402695c0>:8: FutureWarning: suggest_loguniform has been deprecated in v3.0.0. This feature will be removed in v6.0.0. See https://github.com/optuna/optuna/releases/tag/v3.0.0. Use suggest_float(..., log=True) instead.\n",
            "  'lambda_l1': trial.suggest_loguniform('lambda_l1', 1e-8, 10.0),\n",
            "<ipython-input-7-bd34402695c0>:9: FutureWarning: suggest_loguniform has been deprecated in v3.0.0. This feature will be removed in v6.0.0. See https://github.com/optuna/optuna/releases/tag/v3.0.0. Use suggest_float(..., log=True) instead.\n",
            "  'lambda_l2': trial.suggest_loguniform('lambda_l2', 1e-8, 10.0),\n",
            "<ipython-input-7-bd34402695c0>:11: FutureWarning: suggest_loguniform has been deprecated in v3.0.0. This feature will be removed in v6.0.0. See https://github.com/optuna/optuna/releases/tag/v3.0.0. Use suggest_float(..., log=True) instead.\n",
            "  'learning_rate': trial.suggest_loguniform('learning_rate', 0.01, 0.5),\n",
            "<ipython-input-7-bd34402695c0>:12: FutureWarning: suggest_uniform has been deprecated in v3.0.0. This feature will be removed in v6.0.0. See https://github.com/optuna/optuna/releases/tag/v3.0.0. Use suggest_float instead.\n",
            "  'feature_fraction': trial.suggest_uniform('feature_fraction', 0.1, 1.0),\n",
            "<ipython-input-7-bd34402695c0>:13: FutureWarning: suggest_uniform has been deprecated in v3.0.0. This feature will be removed in v6.0.0. See https://github.com/optuna/optuna/releases/tag/v3.0.0. Use suggest_float instead.\n",
            "  'bagging_fraction': trial.suggest_uniform('bagging_fraction', 0.1, 1.0),\n"
          ]
        },
        {
          "name": "stdout",
          "output_type": "stream",
          "text": [
            "[LightGBM] [Warning] bagging_fraction is set=0.16011224476395933, subsample=1.0 will be ignored. Current value: bagging_fraction=0.16011224476395933\n",
            "[LightGBM] [Warning] lambda_l2 is set=4.6665485144772656e-07, reg_lambda=0.0 will be ignored. Current value: lambda_l2=4.6665485144772656e-07\n",
            "[LightGBM] [Warning] lambda_l1 is set=0.10461888693775723, reg_alpha=0.0 will be ignored. Current value: lambda_l1=0.10461888693775723\n",
            "[LightGBM] [Warning] bagging_freq is set=10, subsample_freq=0 will be ignored. Current value: bagging_freq=10\n",
            "[LightGBM] [Warning] feature_fraction is set=0.4085795258991144, colsample_bytree=1.0 will be ignored. Current value: feature_fraction=0.4085795258991144\n",
            "[LightGBM] [Warning] bagging_fraction is set=0.6822936320404188, subsample=1.0 will be ignored. Current value: bagging_fraction=0.6822936320404188\n",
            "[LightGBM] [Warning] lambda_l2 is set=4.199530499154642e-06, reg_lambda=0.0 will be ignored. Current value: lambda_l2=4.199530499154642e-06\n",
            "[LightGBM] [Warning] lambda_l1 is set=6.186891319585907e-08, reg_alpha=0.0 will be ignored. Current value: lambda_l1=6.186891319585907e-08\n",
            "[LightGBM] [Warning] bagging_freq is set=2, subsample_freq=0 will be ignored. Current value: bagging_freq=2\n",
            "[LightGBM] [Warning] feature_fraction is set=0.26566324080049664, colsample_bytree=1.0 will be ignored. Current value: feature_fraction=0.26566324080049664\n",
            "[LightGBM] [Warning] bagging_fraction is set=0.8685550429700877, subsample=1.0 will be ignored. Current value: bagging_fraction=0.8685550429700877\n",
            "[LightGBM] [Warning] lambda_l2 is set=0.0015409516985226417, reg_lambda=0.0 will be ignored. Current value: lambda_l2=0.0015409516985226417\n",
            "[LightGBM] [Warning] lambda_l1 is set=1.4527326010343013e-07, reg_alpha=0.0 will be ignored. Current value: lambda_l1=1.4527326010343013e-07\n",
            "[LightGBM] [Warning] bagging_freq is set=2, subsample_freq=0 will be ignored. Current value: bagging_freq=2\n",
            "[LightGBM] [Warning] feature_fraction is set=0.20470084066816213, colsample_bytree=1.0 will be ignored. Current value: feature_fraction=0.20470084066816213\n"
          ]
        },
        {
          "name": "stderr",
          "output_type": "stream",
          "text": [
            "[I 2023-07-12 14:28:11,561] Trial 5 finished with value: 52607.290844817406 and parameters: {'lambda_l1': 1.4527326010343013e-07, 'lambda_l2': 0.0015409516985226417, 'num_leaves': 208, 'learning_rate': 0.011638581442454131, 'feature_fraction': 0.20470084066816213, 'bagging_fraction': 0.8685550429700877, 'bagging_freq': 2, 'min_child_samples': 42}. Best is trial 4 with value: 30626.57494993342.\n",
            "<ipython-input-7-bd34402695c0>:8: FutureWarning: suggest_loguniform has been deprecated in v3.0.0. This feature will be removed in v6.0.0. See https://github.com/optuna/optuna/releases/tag/v3.0.0. Use suggest_float(..., log=True) instead.\n",
            "  'lambda_l1': trial.suggest_loguniform('lambda_l1', 1e-8, 10.0),\n",
            "<ipython-input-7-bd34402695c0>:9: FutureWarning: suggest_loguniform has been deprecated in v3.0.0. This feature will be removed in v6.0.0. See https://github.com/optuna/optuna/releases/tag/v3.0.0. Use suggest_float(..., log=True) instead.\n",
            "  'lambda_l2': trial.suggest_loguniform('lambda_l2', 1e-8, 10.0),\n",
            "<ipython-input-7-bd34402695c0>:11: FutureWarning: suggest_loguniform has been deprecated in v3.0.0. This feature will be removed in v6.0.0. See https://github.com/optuna/optuna/releases/tag/v3.0.0. Use suggest_float(..., log=True) instead.\n",
            "  'learning_rate': trial.suggest_loguniform('learning_rate', 0.01, 0.5),\n",
            "<ipython-input-7-bd34402695c0>:12: FutureWarning: suggest_uniform has been deprecated in v3.0.0. This feature will be removed in v6.0.0. See https://github.com/optuna/optuna/releases/tag/v3.0.0. Use suggest_float instead.\n",
            "  'feature_fraction': trial.suggest_uniform('feature_fraction', 0.1, 1.0),\n",
            "<ipython-input-7-bd34402695c0>:13: FutureWarning: suggest_uniform has been deprecated in v3.0.0. This feature will be removed in v6.0.0. See https://github.com/optuna/optuna/releases/tag/v3.0.0. Use suggest_float instead.\n",
            "  'bagging_fraction': trial.suggest_uniform('bagging_fraction', 0.1, 1.0),\n",
            "[I 2023-07-12 14:28:11,657] Trial 6 finished with value: 31356.232436842278 and parameters: {'lambda_l1': 0.510818310024119, 'lambda_l2': 0.002169269517316716, 'num_leaves': 197, 'learning_rate': 0.061939787514199714, 'feature_fraction': 0.27280728687180855, 'bagging_fraction': 0.9386166759527008, 'bagging_freq': 5, 'min_child_samples': 40}. Best is trial 4 with value: 30626.57494993342.\n",
            "<ipython-input-7-bd34402695c0>:8: FutureWarning: suggest_loguniform has been deprecated in v3.0.0. This feature will be removed in v6.0.0. See https://github.com/optuna/optuna/releases/tag/v3.0.0. Use suggest_float(..., log=True) instead.\n",
            "  'lambda_l1': trial.suggest_loguniform('lambda_l1', 1e-8, 10.0),\n",
            "<ipython-input-7-bd34402695c0>:9: FutureWarning: suggest_loguniform has been deprecated in v3.0.0. This feature will be removed in v6.0.0. See https://github.com/optuna/optuna/releases/tag/v3.0.0. Use suggest_float(..., log=True) instead.\n",
            "  'lambda_l2': trial.suggest_loguniform('lambda_l2', 1e-8, 10.0),\n",
            "<ipython-input-7-bd34402695c0>:11: FutureWarning: suggest_loguniform has been deprecated in v3.0.0. This feature will be removed in v6.0.0. See https://github.com/optuna/optuna/releases/tag/v3.0.0. Use suggest_float(..., log=True) instead.\n",
            "  'learning_rate': trial.suggest_loguniform('learning_rate', 0.01, 0.5),\n",
            "<ipython-input-7-bd34402695c0>:12: FutureWarning: suggest_uniform has been deprecated in v3.0.0. This feature will be removed in v6.0.0. See https://github.com/optuna/optuna/releases/tag/v3.0.0. Use suggest_float instead.\n",
            "  'feature_fraction': trial.suggest_uniform('feature_fraction', 0.1, 1.0),\n",
            "<ipython-input-7-bd34402695c0>:13: FutureWarning: suggest_uniform has been deprecated in v3.0.0. This feature will be removed in v6.0.0. See https://github.com/optuna/optuna/releases/tag/v3.0.0. Use suggest_float instead.\n",
            "  'bagging_fraction': trial.suggest_uniform('bagging_fraction', 0.1, 1.0),\n",
            "[I 2023-07-12 14:28:11,736] Trial 7 finished with value: 46276.40980510825 and parameters: {'lambda_l1': 1.1539388992756601e-08, 'lambda_l2': 0.0032400419463888934, 'num_leaves': 123, 'learning_rate': 0.02090112304833115, 'feature_fraction': 0.9436496962390867, 'bagging_fraction': 0.84920101901269, 'bagging_freq': 7, 'min_child_samples': 86}. Best is trial 4 with value: 30626.57494993342.\n",
            "<ipython-input-7-bd34402695c0>:8: FutureWarning: suggest_loguniform has been deprecated in v3.0.0. This feature will be removed in v6.0.0. See https://github.com/optuna/optuna/releases/tag/v3.0.0. Use suggest_float(..., log=True) instead.\n",
            "  'lambda_l1': trial.suggest_loguniform('lambda_l1', 1e-8, 10.0),\n",
            "<ipython-input-7-bd34402695c0>:9: FutureWarning: suggest_loguniform has been deprecated in v3.0.0. This feature will be removed in v6.0.0. See https://github.com/optuna/optuna/releases/tag/v3.0.0. Use suggest_float(..., log=True) instead.\n",
            "  'lambda_l2': trial.suggest_loguniform('lambda_l2', 1e-8, 10.0),\n",
            "<ipython-input-7-bd34402695c0>:11: FutureWarning: suggest_loguniform has been deprecated in v3.0.0. This feature will be removed in v6.0.0. See https://github.com/optuna/optuna/releases/tag/v3.0.0. Use suggest_float(..., log=True) instead.\n",
            "  'learning_rate': trial.suggest_loguniform('learning_rate', 0.01, 0.5),\n",
            "<ipython-input-7-bd34402695c0>:12: FutureWarning: suggest_uniform has been deprecated in v3.0.0. This feature will be removed in v6.0.0. See https://github.com/optuna/optuna/releases/tag/v3.0.0. Use suggest_float instead.\n",
            "  'feature_fraction': trial.suggest_uniform('feature_fraction', 0.1, 1.0),\n",
            "<ipython-input-7-bd34402695c0>:13: FutureWarning: suggest_uniform has been deprecated in v3.0.0. This feature will be removed in v6.0.0. See https://github.com/optuna/optuna/releases/tag/v3.0.0. Use suggest_float instead.\n",
            "  'bagging_fraction': trial.suggest_uniform('bagging_fraction', 0.1, 1.0),\n"
          ]
        },
        {
          "name": "stdout",
          "output_type": "stream",
          "text": [
            "[LightGBM] [Warning] bagging_fraction is set=0.9386166759527008, subsample=1.0 will be ignored. Current value: bagging_fraction=0.9386166759527008\n",
            "[LightGBM] [Warning] lambda_l2 is set=0.002169269517316716, reg_lambda=0.0 will be ignored. Current value: lambda_l2=0.002169269517316716\n",
            "[LightGBM] [Warning] lambda_l1 is set=0.510818310024119, reg_alpha=0.0 will be ignored. Current value: lambda_l1=0.510818310024119\n",
            "[LightGBM] [Warning] bagging_freq is set=5, subsample_freq=0 will be ignored. Current value: bagging_freq=5\n",
            "[LightGBM] [Warning] feature_fraction is set=0.27280728687180855, colsample_bytree=1.0 will be ignored. Current value: feature_fraction=0.27280728687180855\n",
            "[LightGBM] [Warning] bagging_fraction is set=0.84920101901269, subsample=1.0 will be ignored. Current value: bagging_fraction=0.84920101901269\n",
            "[LightGBM] [Warning] lambda_l2 is set=0.0032400419463888934, reg_lambda=0.0 will be ignored. Current value: lambda_l2=0.0032400419463888934\n",
            "[LightGBM] [Warning] lambda_l1 is set=1.1539388992756601e-08, reg_alpha=0.0 will be ignored. Current value: lambda_l1=1.1539388992756601e-08\n",
            "[LightGBM] [Warning] bagging_freq is set=7, subsample_freq=0 will be ignored. Current value: bagging_freq=7\n",
            "[LightGBM] [Warning] feature_fraction is set=0.9436496962390867, colsample_bytree=1.0 will be ignored. Current value: feature_fraction=0.9436496962390867\n",
            "[LightGBM] [Warning] bagging_fraction is set=0.8321994115917762, subsample=1.0 will be ignored. Current value: bagging_fraction=0.8321994115917762\n",
            "[LightGBM] [Warning] lambda_l2 is set=0.0037217602653948647, reg_lambda=0.0 will be ignored. Current value: lambda_l2=0.0037217602653948647\n",
            "[LightGBM] [Warning] lambda_l1 is set=1.6754123318326964e-07, reg_alpha=0.0 will be ignored. Current value: lambda_l1=1.6754123318326964e-07\n",
            "[LightGBM] [Warning] bagging_freq is set=2, subsample_freq=0 will be ignored. Current value: bagging_freq=2\n",
            "[LightGBM] [Warning] feature_fraction is set=0.24447410222147442, colsample_bytree=1.0 will be ignored. Current value: feature_fraction=0.24447410222147442\n"
          ]
        },
        {
          "name": "stderr",
          "output_type": "stream",
          "text": [
            "[I 2023-07-12 14:28:11,836] Trial 8 finished with value: 33542.64900558524 and parameters: {'lambda_l1': 1.6754123318326964e-07, 'lambda_l2': 0.0037217602653948647, 'num_leaves': 212, 'learning_rate': 0.1676621178523461, 'feature_fraction': 0.24447410222147442, 'bagging_fraction': 0.8321994115917762, 'bagging_freq': 2, 'min_child_samples': 52}. Best is trial 4 with value: 30626.57494993342.\n",
            "<ipython-input-7-bd34402695c0>:8: FutureWarning: suggest_loguniform has been deprecated in v3.0.0. This feature will be removed in v6.0.0. See https://github.com/optuna/optuna/releases/tag/v3.0.0. Use suggest_float(..., log=True) instead.\n",
            "  'lambda_l1': trial.suggest_loguniform('lambda_l1', 1e-8, 10.0),\n",
            "<ipython-input-7-bd34402695c0>:9: FutureWarning: suggest_loguniform has been deprecated in v3.0.0. This feature will be removed in v6.0.0. See https://github.com/optuna/optuna/releases/tag/v3.0.0. Use suggest_float(..., log=True) instead.\n",
            "  'lambda_l2': trial.suggest_loguniform('lambda_l2', 1e-8, 10.0),\n",
            "<ipython-input-7-bd34402695c0>:11: FutureWarning: suggest_loguniform has been deprecated in v3.0.0. This feature will be removed in v6.0.0. See https://github.com/optuna/optuna/releases/tag/v3.0.0. Use suggest_float(..., log=True) instead.\n",
            "  'learning_rate': trial.suggest_loguniform('learning_rate', 0.01, 0.5),\n",
            "<ipython-input-7-bd34402695c0>:12: FutureWarning: suggest_uniform has been deprecated in v3.0.0. This feature will be removed in v6.0.0. See https://github.com/optuna/optuna/releases/tag/v3.0.0. Use suggest_float instead.\n",
            "  'feature_fraction': trial.suggest_uniform('feature_fraction', 0.1, 1.0),\n",
            "<ipython-input-7-bd34402695c0>:13: FutureWarning: suggest_uniform has been deprecated in v3.0.0. This feature will be removed in v6.0.0. See https://github.com/optuna/optuna/releases/tag/v3.0.0. Use suggest_float instead.\n",
            "  'bagging_fraction': trial.suggest_uniform('bagging_fraction', 0.1, 1.0),\n",
            "[I 2023-07-12 14:28:11,901] Trial 9 finished with value: 34732.36824107718 and parameters: {'lambda_l1': 0.00039233475075112515, 'lambda_l2': 5.734738695438098e-08, 'num_leaves': 199, 'learning_rate': 0.13726818354540535, 'feature_fraction': 0.4069385898203193, 'bagging_fraction': 0.9392402485662652, 'bagging_freq': 1, 'min_child_samples': 92}. Best is trial 4 with value: 30626.57494993342.\n",
            "<ipython-input-7-bd34402695c0>:8: FutureWarning: suggest_loguniform has been deprecated in v3.0.0. This feature will be removed in v6.0.0. See https://github.com/optuna/optuna/releases/tag/v3.0.0. Use suggest_float(..., log=True) instead.\n",
            "  'lambda_l1': trial.suggest_loguniform('lambda_l1', 1e-8, 10.0),\n",
            "<ipython-input-7-bd34402695c0>:9: FutureWarning: suggest_loguniform has been deprecated in v3.0.0. This feature will be removed in v6.0.0. See https://github.com/optuna/optuna/releases/tag/v3.0.0. Use suggest_float(..., log=True) instead.\n",
            "  'lambda_l2': trial.suggest_loguniform('lambda_l2', 1e-8, 10.0),\n",
            "<ipython-input-7-bd34402695c0>:11: FutureWarning: suggest_loguniform has been deprecated in v3.0.0. This feature will be removed in v6.0.0. See https://github.com/optuna/optuna/releases/tag/v3.0.0. Use suggest_float(..., log=True) instead.\n",
            "  'learning_rate': trial.suggest_loguniform('learning_rate', 0.01, 0.5),\n",
            "<ipython-input-7-bd34402695c0>:12: FutureWarning: suggest_uniform has been deprecated in v3.0.0. This feature will be removed in v6.0.0. See https://github.com/optuna/optuna/releases/tag/v3.0.0. Use suggest_float instead.\n",
            "  'feature_fraction': trial.suggest_uniform('feature_fraction', 0.1, 1.0),\n",
            "<ipython-input-7-bd34402695c0>:13: FutureWarning: suggest_uniform has been deprecated in v3.0.0. This feature will be removed in v6.0.0. See https://github.com/optuna/optuna/releases/tag/v3.0.0. Use suggest_float instead.\n",
            "  'bagging_fraction': trial.suggest_uniform('bagging_fraction', 0.1, 1.0),\n",
            "[I 2023-07-12 14:28:12,019] Trial 10 finished with value: 39640.523314207036 and parameters: {'lambda_l1': 1.1068244641226444e-08, 'lambda_l2': 3.104083113279186e-05, 'num_leaves': 15, 'learning_rate': 0.04714223164461295, 'feature_fraction': 0.11167064657857359, 'bagging_fraction': 0.51291131125039, 'bagging_freq': 5, 'min_child_samples': 12}. Best is trial 4 with value: 30626.57494993342.\n",
            "<ipython-input-7-bd34402695c0>:8: FutureWarning: suggest_loguniform has been deprecated in v3.0.0. This feature will be removed in v6.0.0. See https://github.com/optuna/optuna/releases/tag/v3.0.0. Use suggest_float(..., log=True) instead.\n",
            "  'lambda_l1': trial.suggest_loguniform('lambda_l1', 1e-8, 10.0),\n",
            "<ipython-input-7-bd34402695c0>:9: FutureWarning: suggest_loguniform has been deprecated in v3.0.0. This feature will be removed in v6.0.0. See https://github.com/optuna/optuna/releases/tag/v3.0.0. Use suggest_float(..., log=True) instead.\n",
            "  'lambda_l2': trial.suggest_loguniform('lambda_l2', 1e-8, 10.0),\n"
          ]
        },
        {
          "name": "stdout",
          "output_type": "stream",
          "text": [
            "[LightGBM] [Warning] bagging_fraction is set=0.9392402485662652, subsample=1.0 will be ignored. Current value: bagging_fraction=0.9392402485662652\n",
            "[LightGBM] [Warning] lambda_l2 is set=5.734738695438098e-08, reg_lambda=0.0 will be ignored. Current value: lambda_l2=5.734738695438098e-08\n",
            "[LightGBM] [Warning] lambda_l1 is set=0.00039233475075112515, reg_alpha=0.0 will be ignored. Current value: lambda_l1=0.00039233475075112515\n",
            "[LightGBM] [Warning] bagging_freq is set=1, subsample_freq=0 will be ignored. Current value: bagging_freq=1\n",
            "[LightGBM] [Warning] feature_fraction is set=0.4069385898203193, colsample_bytree=1.0 will be ignored. Current value: feature_fraction=0.4069385898203193\n",
            "[LightGBM] [Warning] bagging_fraction is set=0.51291131125039, subsample=1.0 will be ignored. Current value: bagging_fraction=0.51291131125039\n",
            "[LightGBM] [Warning] lambda_l2 is set=3.104083113279186e-05, reg_lambda=0.0 will be ignored. Current value: lambda_l2=3.104083113279186e-05\n",
            "[LightGBM] [Warning] lambda_l1 is set=1.1068244641226444e-08, reg_alpha=0.0 will be ignored. Current value: lambda_l1=1.1068244641226444e-08\n",
            "[LightGBM] [Warning] bagging_freq is set=5, subsample_freq=0 will be ignored. Current value: bagging_freq=5\n",
            "[LightGBM] [Warning] feature_fraction is set=0.11167064657857359, colsample_bytree=1.0 will be ignored. Current value: feature_fraction=0.11167064657857359\n"
          ]
        },
        {
          "name": "stderr",
          "output_type": "stream",
          "text": [
            "<ipython-input-7-bd34402695c0>:11: FutureWarning: suggest_loguniform has been deprecated in v3.0.0. This feature will be removed in v6.0.0. See https://github.com/optuna/optuna/releases/tag/v3.0.0. Use suggest_float(..., log=True) instead.\n",
            "  'learning_rate': trial.suggest_loguniform('learning_rate', 0.01, 0.5),\n",
            "<ipython-input-7-bd34402695c0>:12: FutureWarning: suggest_uniform has been deprecated in v3.0.0. This feature will be removed in v6.0.0. See https://github.com/optuna/optuna/releases/tag/v3.0.0. Use suggest_float instead.\n",
            "  'feature_fraction': trial.suggest_uniform('feature_fraction', 0.1, 1.0),\n",
            "<ipython-input-7-bd34402695c0>:13: FutureWarning: suggest_uniform has been deprecated in v3.0.0. This feature will be removed in v6.0.0. See https://github.com/optuna/optuna/releases/tag/v3.0.0. Use suggest_float instead.\n",
            "  'bagging_fraction': trial.suggest_uniform('bagging_fraction', 0.1, 1.0),\n",
            "[I 2023-07-12 14:28:12,229] Trial 11 finished with value: 30627.27317719328 and parameters: {'lambda_l1': 9.831742010023481, 'lambda_l2': 3.376539667271655e-05, 'num_leaves': 126, 'learning_rate': 0.06568290097424995, 'feature_fraction': 0.29034769678628847, 'bagging_fraction': 0.9665228167649491, 'bagging_freq': 5, 'min_child_samples': 16}. Best is trial 4 with value: 30626.57494993342.\n",
            "<ipython-input-7-bd34402695c0>:8: FutureWarning: suggest_loguniform has been deprecated in v3.0.0. This feature will be removed in v6.0.0. See https://github.com/optuna/optuna/releases/tag/v3.0.0. Use suggest_float(..., log=True) instead.\n",
            "  'lambda_l1': trial.suggest_loguniform('lambda_l1', 1e-8, 10.0),\n",
            "<ipython-input-7-bd34402695c0>:9: FutureWarning: suggest_loguniform has been deprecated in v3.0.0. This feature will be removed in v6.0.0. See https://github.com/optuna/optuna/releases/tag/v3.0.0. Use suggest_float(..., log=True) instead.\n",
            "  'lambda_l2': trial.suggest_loguniform('lambda_l2', 1e-8, 10.0),\n"
          ]
        },
        {
          "name": "stdout",
          "output_type": "stream",
          "text": [
            "[LightGBM] [Warning] bagging_fraction is set=0.9665228167649491, subsample=1.0 will be ignored. Current value: bagging_fraction=0.9665228167649491\n",
            "[LightGBM] [Warning] lambda_l2 is set=3.376539667271655e-05, reg_lambda=0.0 will be ignored. Current value: lambda_l2=3.376539667271655e-05\n",
            "[LightGBM] [Warning] lambda_l1 is set=9.831742010023481, reg_alpha=0.0 will be ignored. Current value: lambda_l1=9.831742010023481\n",
            "[LightGBM] [Warning] bagging_freq is set=5, subsample_freq=0 will be ignored. Current value: bagging_freq=5\n",
            "[LightGBM] [Warning] feature_fraction is set=0.29034769678628847, colsample_bytree=1.0 will be ignored. Current value: feature_fraction=0.29034769678628847\n",
            "[LightGBM] [Warning] bagging_fraction is set=0.988013058168536, subsample=1.0 will be ignored. Current value: bagging_fraction=0.988013058168536\n",
            "[LightGBM] [Warning] lambda_l2 is set=2.2434656518430893e-05, reg_lambda=0.0 will be ignored. Current value: lambda_l2=2.2434656518430893e-05\n",
            "[LightGBM] [Warning] lambda_l1 is set=8.131472973922264, reg_alpha=0.0 will be ignored. Current value: lambda_l1=8.131472973922264\n",
            "[LightGBM] [Warning] bagging_freq is set=7, subsample_freq=0 will be ignored. Current value: bagging_freq=7\n",
            "[LightGBM] [Warning] feature_fraction is set=0.559514853167983, colsample_bytree=1.0 will be ignored. Current value: feature_fraction=0.559514853167983\n"
          ]
        },
        {
          "name": "stderr",
          "output_type": "stream",
          "text": [
            "<ipython-input-7-bd34402695c0>:11: FutureWarning: suggest_loguniform has been deprecated in v3.0.0. This feature will be removed in v6.0.0. See https://github.com/optuna/optuna/releases/tag/v3.0.0. Use suggest_float(..., log=True) instead.\n",
            "  'learning_rate': trial.suggest_loguniform('learning_rate', 0.01, 0.5),\n",
            "<ipython-input-7-bd34402695c0>:12: FutureWarning: suggest_uniform has been deprecated in v3.0.0. This feature will be removed in v6.0.0. See https://github.com/optuna/optuna/releases/tag/v3.0.0. Use suggest_float instead.\n",
            "  'feature_fraction': trial.suggest_uniform('feature_fraction', 0.1, 1.0),\n",
            "<ipython-input-7-bd34402695c0>:13: FutureWarning: suggest_uniform has been deprecated in v3.0.0. This feature will be removed in v6.0.0. See https://github.com/optuna/optuna/releases/tag/v3.0.0. Use suggest_float instead.\n",
            "  'bagging_fraction': trial.suggest_uniform('bagging_fraction', 0.1, 1.0),\n",
            "[I 2023-07-12 14:28:12,668] Trial 12 finished with value: 26343.675603197094 and parameters: {'lambda_l1': 8.131472973922264, 'lambda_l2': 2.2434656518430893e-05, 'num_leaves': 120, 'learning_rate': 0.08480088404206591, 'feature_fraction': 0.559514853167983, 'bagging_fraction': 0.988013058168536, 'bagging_freq': 7, 'min_child_samples': 7}. Best is trial 12 with value: 26343.675603197094.\n",
            "<ipython-input-7-bd34402695c0>:8: FutureWarning: suggest_loguniform has been deprecated in v3.0.0. This feature will be removed in v6.0.0. See https://github.com/optuna/optuna/releases/tag/v3.0.0. Use suggest_float(..., log=True) instead.\n",
            "  'lambda_l1': trial.suggest_loguniform('lambda_l1', 1e-8, 10.0),\n",
            "<ipython-input-7-bd34402695c0>:9: FutureWarning: suggest_loguniform has been deprecated in v3.0.0. This feature will be removed in v6.0.0. See https://github.com/optuna/optuna/releases/tag/v3.0.0. Use suggest_float(..., log=True) instead.\n",
            "  'lambda_l2': trial.suggest_loguniform('lambda_l2', 1e-8, 10.0),\n",
            "<ipython-input-7-bd34402695c0>:11: FutureWarning: suggest_loguniform has been deprecated in v3.0.0. This feature will be removed in v6.0.0. See https://github.com/optuna/optuna/releases/tag/v3.0.0. Use suggest_float(..., log=True) instead.\n",
            "  'learning_rate': trial.suggest_loguniform('learning_rate', 0.01, 0.5),\n",
            "<ipython-input-7-bd34402695c0>:12: FutureWarning: suggest_uniform has been deprecated in v3.0.0. This feature will be removed in v6.0.0. See https://github.com/optuna/optuna/releases/tag/v3.0.0. Use suggest_float instead.\n",
            "  'feature_fraction': trial.suggest_uniform('feature_fraction', 0.1, 1.0),\n",
            "<ipython-input-7-bd34402695c0>:13: FutureWarning: suggest_uniform has been deprecated in v3.0.0. This feature will be removed in v6.0.0. See https://github.com/optuna/optuna/releases/tag/v3.0.0. Use suggest_float instead.\n",
            "  'bagging_fraction': trial.suggest_uniform('bagging_fraction', 0.1, 1.0),\n"
          ]
        },
        {
          "name": "stdout",
          "output_type": "stream",
          "text": [
            "[LightGBM] [Warning] bagging_fraction is set=0.7009456489830284, subsample=1.0 will be ignored. Current value: bagging_fraction=0.7009456489830284\n",
            "[LightGBM] [Warning] lambda_l2 is set=1.0343887309563259e-08, reg_lambda=0.0 will be ignored. Current value: lambda_l2=1.0343887309563259e-08\n",
            "[LightGBM] [Warning] lambda_l1 is set=0.024317444499137537, reg_alpha=0.0 will be ignored. Current value: lambda_l1=0.024317444499137537\n",
            "[LightGBM] [Warning] bagging_freq is set=8, subsample_freq=0 will be ignored. Current value: bagging_freq=8\n",
            "[LightGBM] [Warning] feature_fraction is set=0.5777602997171271, colsample_bytree=1.0 will be ignored. Current value: feature_fraction=0.5777602997171271\n"
          ]
        },
        {
          "name": "stderr",
          "output_type": "stream",
          "text": [
            "[I 2023-07-12 14:28:13,090] Trial 13 finished with value: 29387.352871218 and parameters: {'lambda_l1': 0.024317444499137537, 'lambda_l2': 1.0343887309563259e-08, 'num_leaves': 79, 'learning_rate': 0.11052774749633794, 'feature_fraction': 0.5777602997171271, 'bagging_fraction': 0.7009456489830284, 'bagging_freq': 8, 'min_child_samples': 1}. Best is trial 12 with value: 26343.675603197094.\n",
            "<ipython-input-7-bd34402695c0>:8: FutureWarning: suggest_loguniform has been deprecated in v3.0.0. This feature will be removed in v6.0.0. See https://github.com/optuna/optuna/releases/tag/v3.0.0. Use suggest_float(..., log=True) instead.\n",
            "  'lambda_l1': trial.suggest_loguniform('lambda_l1', 1e-8, 10.0),\n",
            "<ipython-input-7-bd34402695c0>:9: FutureWarning: suggest_loguniform has been deprecated in v3.0.0. This feature will be removed in v6.0.0. See https://github.com/optuna/optuna/releases/tag/v3.0.0. Use suggest_float(..., log=True) instead.\n",
            "  'lambda_l2': trial.suggest_loguniform('lambda_l2', 1e-8, 10.0),\n",
            "<ipython-input-7-bd34402695c0>:11: FutureWarning: suggest_loguniform has been deprecated in v3.0.0. This feature will be removed in v6.0.0. See https://github.com/optuna/optuna/releases/tag/v3.0.0. Use suggest_float(..., log=True) instead.\n",
            "  'learning_rate': trial.suggest_loguniform('learning_rate', 0.01, 0.5),\n",
            "<ipython-input-7-bd34402695c0>:12: FutureWarning: suggest_uniform has been deprecated in v3.0.0. This feature will be removed in v6.0.0. See https://github.com/optuna/optuna/releases/tag/v3.0.0. Use suggest_float instead.\n",
            "  'feature_fraction': trial.suggest_uniform('feature_fraction', 0.1, 1.0),\n",
            "<ipython-input-7-bd34402695c0>:13: FutureWarning: suggest_uniform has been deprecated in v3.0.0. This feature will be removed in v6.0.0. See https://github.com/optuna/optuna/releases/tag/v3.0.0. Use suggest_float instead.\n",
            "  'bagging_fraction': trial.suggest_uniform('bagging_fraction', 0.1, 1.0),\n"
          ]
        },
        {
          "name": "stdout",
          "output_type": "stream",
          "text": [
            "[LightGBM] [Warning] bagging_fraction is set=0.5338933368033896, subsample=1.0 will be ignored. Current value: bagging_fraction=0.5338933368033896\n",
            "[LightGBM] [Warning] lambda_l2 is set=3.7063821639601764e-08, reg_lambda=0.0 will be ignored. Current value: lambda_l2=3.7063821639601764e-08\n",
            "[LightGBM] [Warning] lambda_l1 is set=0.07081038452083736, reg_alpha=0.0 will be ignored. Current value: lambda_l1=0.07081038452083736\n",
            "[LightGBM] [Warning] bagging_freq is set=8, subsample_freq=0 will be ignored. Current value: bagging_freq=8\n",
            "[LightGBM] [Warning] feature_fraction is set=0.5918853999846647, colsample_bytree=1.0 will be ignored. Current value: feature_fraction=0.5918853999846647\n"
          ]
        },
        {
          "name": "stderr",
          "output_type": "stream",
          "text": [
            "[I 2023-07-12 14:28:13,382] Trial 14 finished with value: 28310.95760006566 and parameters: {'lambda_l1': 0.07081038452083736, 'lambda_l2': 3.7063821639601764e-08, 'num_leaves': 56, 'learning_rate': 0.11855618277689368, 'feature_fraction': 0.5918853999846647, 'bagging_fraction': 0.5338933368033896, 'bagging_freq': 8, 'min_child_samples': 3}. Best is trial 12 with value: 26343.675603197094.\n",
            "<ipython-input-7-bd34402695c0>:8: FutureWarning: suggest_loguniform has been deprecated in v3.0.0. This feature will be removed in v6.0.0. See https://github.com/optuna/optuna/releases/tag/v3.0.0. Use suggest_float(..., log=True) instead.\n",
            "  'lambda_l1': trial.suggest_loguniform('lambda_l1', 1e-8, 10.0),\n",
            "<ipython-input-7-bd34402695c0>:9: FutureWarning: suggest_loguniform has been deprecated in v3.0.0. This feature will be removed in v6.0.0. See https://github.com/optuna/optuna/releases/tag/v3.0.0. Use suggest_float(..., log=True) instead.\n",
            "  'lambda_l2': trial.suggest_loguniform('lambda_l2', 1e-8, 10.0),\n",
            "<ipython-input-7-bd34402695c0>:11: FutureWarning: suggest_loguniform has been deprecated in v3.0.0. This feature will be removed in v6.0.0. See https://github.com/optuna/optuna/releases/tag/v3.0.0. Use suggest_float(..., log=True) instead.\n",
            "  'learning_rate': trial.suggest_loguniform('learning_rate', 0.01, 0.5),\n",
            "<ipython-input-7-bd34402695c0>:12: FutureWarning: suggest_uniform has been deprecated in v3.0.0. This feature will be removed in v6.0.0. See https://github.com/optuna/optuna/releases/tag/v3.0.0. Use suggest_float instead.\n",
            "  'feature_fraction': trial.suggest_uniform('feature_fraction', 0.1, 1.0),\n",
            "<ipython-input-7-bd34402695c0>:13: FutureWarning: suggest_uniform has been deprecated in v3.0.0. This feature will be removed in v6.0.0. See https://github.com/optuna/optuna/releases/tag/v3.0.0. Use suggest_float instead.\n",
            "  'bagging_fraction': trial.suggest_uniform('bagging_fraction', 0.1, 1.0),\n",
            "[I 2023-07-12 14:28:13,535] Trial 15 finished with value: 28815.770302974397 and parameters: {'lambda_l1': 0.012118124380656603, 'lambda_l2': 1.9633044727866248e-07, 'num_leaves': 18, 'learning_rate': 0.20218917999365882, 'feature_fraction': 0.6191379564195681, 'bagging_fraction': 0.5371873970393124, 'bagging_freq': 8, 'min_child_samples': 3}. Best is trial 12 with value: 26343.675603197094.\n",
            "<ipython-input-7-bd34402695c0>:8: FutureWarning: suggest_loguniform has been deprecated in v3.0.0. This feature will be removed in v6.0.0. See https://github.com/optuna/optuna/releases/tag/v3.0.0. Use suggest_float(..., log=True) instead.\n",
            "  'lambda_l1': trial.suggest_loguniform('lambda_l1', 1e-8, 10.0),\n",
            "<ipython-input-7-bd34402695c0>:9: FutureWarning: suggest_loguniform has been deprecated in v3.0.0. This feature will be removed in v6.0.0. See https://github.com/optuna/optuna/releases/tag/v3.0.0. Use suggest_float(..., log=True) instead.\n",
            "  'lambda_l2': trial.suggest_loguniform('lambda_l2', 1e-8, 10.0),\n",
            "<ipython-input-7-bd34402695c0>:11: FutureWarning: suggest_loguniform has been deprecated in v3.0.0. This feature will be removed in v6.0.0. See https://github.com/optuna/optuna/releases/tag/v3.0.0. Use suggest_float(..., log=True) instead.\n",
            "  'learning_rate': trial.suggest_loguniform('learning_rate', 0.01, 0.5),\n",
            "<ipython-input-7-bd34402695c0>:12: FutureWarning: suggest_uniform has been deprecated in v3.0.0. This feature will be removed in v6.0.0. See https://github.com/optuna/optuna/releases/tag/v3.0.0. Use suggest_float instead.\n",
            "  'feature_fraction': trial.suggest_uniform('feature_fraction', 0.1, 1.0),\n",
            "<ipython-input-7-bd34402695c0>:13: FutureWarning: suggest_uniform has been deprecated in v3.0.0. This feature will be removed in v6.0.0. See https://github.com/optuna/optuna/releases/tag/v3.0.0. Use suggest_float instead.\n",
            "  'bagging_fraction': trial.suggest_uniform('bagging_fraction', 0.1, 1.0),\n"
          ]
        },
        {
          "name": "stdout",
          "output_type": "stream",
          "text": [
            "[LightGBM] [Warning] bagging_fraction is set=0.5371873970393124, subsample=1.0 will be ignored. Current value: bagging_fraction=0.5371873970393124\n",
            "[LightGBM] [Warning] lambda_l2 is set=1.9633044727866248e-07, reg_lambda=0.0 will be ignored. Current value: lambda_l2=1.9633044727866248e-07\n",
            "[LightGBM] [Warning] lambda_l1 is set=0.012118124380656603, reg_alpha=0.0 will be ignored. Current value: lambda_l1=0.012118124380656603\n",
            "[LightGBM] [Warning] bagging_freq is set=8, subsample_freq=0 will be ignored. Current value: bagging_freq=8\n",
            "[LightGBM] [Warning] feature_fraction is set=0.6191379564195681, colsample_bytree=1.0 will be ignored. Current value: feature_fraction=0.6191379564195681\n",
            "[LightGBM] [Warning] bagging_fraction is set=0.4198651289336871, subsample=1.0 will be ignored. Current value: bagging_fraction=0.4198651289336871\n",
            "[LightGBM] [Warning] lambda_l2 is set=5.023918988060701e-08, reg_lambda=0.0 will be ignored. Current value: lambda_l2=5.023918988060701e-08\n",
            "[LightGBM] [Warning] lambda_l1 is set=9.85974966972621, reg_alpha=0.0 will be ignored. Current value: lambda_l1=9.85974966972621\n",
            "[LightGBM] [Warning] bagging_freq is set=10, subsample_freq=0 will be ignored. Current value: bagging_freq=10\n",
            "[LightGBM] [Warning] feature_fraction is set=0.6576267222295883, colsample_bytree=1.0 will be ignored. Current value: feature_fraction=0.6576267222295883\n"
          ]
        },
        {
          "name": "stderr",
          "output_type": "stream",
          "text": [
            "[I 2023-07-12 14:28:13,677] Trial 16 finished with value: 39442.798914748426 and parameters: {'lambda_l1': 9.85974966972621, 'lambda_l2': 5.023918988060701e-08, 'num_leaves': 51, 'learning_rate': 0.08840005096870389, 'feature_fraction': 0.6576267222295883, 'bagging_fraction': 0.4198651289336871, 'bagging_freq': 10, 'min_child_samples': 69}. Best is trial 12 with value: 26343.675603197094.\n",
            "<ipython-input-7-bd34402695c0>:8: FutureWarning: suggest_loguniform has been deprecated in v3.0.0. This feature will be removed in v6.0.0. See https://github.com/optuna/optuna/releases/tag/v3.0.0. Use suggest_float(..., log=True) instead.\n",
            "  'lambda_l1': trial.suggest_loguniform('lambda_l1', 1e-8, 10.0),\n",
            "<ipython-input-7-bd34402695c0>:9: FutureWarning: suggest_loguniform has been deprecated in v3.0.0. This feature will be removed in v6.0.0. See https://github.com/optuna/optuna/releases/tag/v3.0.0. Use suggest_float(..., log=True) instead.\n",
            "  'lambda_l2': trial.suggest_loguniform('lambda_l2', 1e-8, 10.0),\n",
            "<ipython-input-7-bd34402695c0>:11: FutureWarning: suggest_loguniform has been deprecated in v3.0.0. This feature will be removed in v6.0.0. See https://github.com/optuna/optuna/releases/tag/v3.0.0. Use suggest_float(..., log=True) instead.\n",
            "  'learning_rate': trial.suggest_loguniform('learning_rate', 0.01, 0.5),\n",
            "<ipython-input-7-bd34402695c0>:12: FutureWarning: suggest_uniform has been deprecated in v3.0.0. This feature will be removed in v6.0.0. See https://github.com/optuna/optuna/releases/tag/v3.0.0. Use suggest_float instead.\n",
            "  'feature_fraction': trial.suggest_uniform('feature_fraction', 0.1, 1.0),\n",
            "<ipython-input-7-bd34402695c0>:13: FutureWarning: suggest_uniform has been deprecated in v3.0.0. This feature will be removed in v6.0.0. See https://github.com/optuna/optuna/releases/tag/v3.0.0. Use suggest_float instead.\n",
            "  'bagging_fraction': trial.suggest_uniform('bagging_fraction', 0.1, 1.0),\n",
            "[I 2023-07-12 14:28:13,833] Trial 17 finished with value: 30423.966621950447 and parameters: {'lambda_l1': 0.38052823474552, 'lambda_l2': 6.016470158856382e-05, 'num_leaves': 156, 'learning_rate': 0.23178167563930976, 'feature_fraction': 0.685317311924174, 'bagging_fraction': 0.4037592834775897, 'bagging_freq': 7, 'min_child_samples': 22}. Best is trial 12 with value: 26343.675603197094.\n",
            "<ipython-input-7-bd34402695c0>:8: FutureWarning: suggest_loguniform has been deprecated in v3.0.0. This feature will be removed in v6.0.0. See https://github.com/optuna/optuna/releases/tag/v3.0.0. Use suggest_float(..., log=True) instead.\n",
            "  'lambda_l1': trial.suggest_loguniform('lambda_l1', 1e-8, 10.0),\n",
            "<ipython-input-7-bd34402695c0>:9: FutureWarning: suggest_loguniform has been deprecated in v3.0.0. This feature will be removed in v6.0.0. See https://github.com/optuna/optuna/releases/tag/v3.0.0. Use suggest_float(..., log=True) instead.\n",
            "  'lambda_l2': trial.suggest_loguniform('lambda_l2', 1e-8, 10.0),\n",
            "<ipython-input-7-bd34402695c0>:11: FutureWarning: suggest_loguniform has been deprecated in v3.0.0. This feature will be removed in v6.0.0. See https://github.com/optuna/optuna/releases/tag/v3.0.0. Use suggest_float(..., log=True) instead.\n",
            "  'learning_rate': trial.suggest_loguniform('learning_rate', 0.01, 0.5),\n",
            "<ipython-input-7-bd34402695c0>:12: FutureWarning: suggest_uniform has been deprecated in v3.0.0. This feature will be removed in v6.0.0. See https://github.com/optuna/optuna/releases/tag/v3.0.0. Use suggest_float instead.\n",
            "  'feature_fraction': trial.suggest_uniform('feature_fraction', 0.1, 1.0),\n",
            "<ipython-input-7-bd34402695c0>:13: FutureWarning: suggest_uniform has been deprecated in v3.0.0. This feature will be removed in v6.0.0. See https://github.com/optuna/optuna/releases/tag/v3.0.0. Use suggest_float instead.\n",
            "  'bagging_fraction': trial.suggest_uniform('bagging_fraction', 0.1, 1.0),\n"
          ]
        },
        {
          "name": "stdout",
          "output_type": "stream",
          "text": [
            "[LightGBM] [Warning] bagging_fraction is set=0.4037592834775897, subsample=1.0 will be ignored. Current value: bagging_fraction=0.4037592834775897\n",
            "[LightGBM] [Warning] lambda_l2 is set=6.016470158856382e-05, reg_lambda=0.0 will be ignored. Current value: lambda_l2=6.016470158856382e-05\n",
            "[LightGBM] [Warning] lambda_l1 is set=0.38052823474552, reg_alpha=0.0 will be ignored. Current value: lambda_l1=0.38052823474552\n",
            "[LightGBM] [Warning] bagging_freq is set=7, subsample_freq=0 will be ignored. Current value: bagging_freq=7\n",
            "[LightGBM] [Warning] feature_fraction is set=0.685317311924174, colsample_bytree=1.0 will be ignored. Current value: feature_fraction=0.685317311924174\n",
            "[LightGBM] [Warning] bagging_fraction is set=0.6158938295220658, subsample=1.0 will be ignored. Current value: bagging_fraction=0.6158938295220658\n",
            "[LightGBM] [Warning] lambda_l2 is set=1.528804244358105e-06, reg_lambda=0.0 will be ignored. Current value: lambda_l2=1.528804244358105e-06\n",
            "[LightGBM] [Warning] lambda_l1 is set=0.011167597172346404, reg_alpha=0.0 will be ignored. Current value: lambda_l1=0.011167597172346404\n",
            "[LightGBM] [Warning] bagging_freq is set=9, subsample_freq=0 will be ignored. Current value: bagging_freq=9\n",
            "[LightGBM] [Warning] feature_fraction is set=0.5009757508229657, colsample_bytree=1.0 will be ignored. Current value: feature_fraction=0.5009757508229657\n"
          ]
        },
        {
          "name": "stderr",
          "output_type": "stream",
          "text": [
            "[I 2023-07-12 14:28:14,009] Trial 18 finished with value: 32190.747869682426 and parameters: {'lambda_l1': 0.011167597172346404, 'lambda_l2': 1.528804244358105e-06, 'num_leaves': 158, 'learning_rate': 0.09262056022236437, 'feature_fraction': 0.5009757508229657, 'bagging_fraction': 0.6158938295220658, 'bagging_freq': 9, 'min_child_samples': 29}. Best is trial 12 with value: 26343.675603197094.\n",
            "<ipython-input-7-bd34402695c0>:8: FutureWarning: suggest_loguniform has been deprecated in v3.0.0. This feature will be removed in v6.0.0. See https://github.com/optuna/optuna/releases/tag/v3.0.0. Use suggest_float(..., log=True) instead.\n",
            "  'lambda_l1': trial.suggest_loguniform('lambda_l1', 1e-8, 10.0),\n",
            "<ipython-input-7-bd34402695c0>:9: FutureWarning: suggest_loguniform has been deprecated in v3.0.0. This feature will be removed in v6.0.0. See https://github.com/optuna/optuna/releases/tag/v3.0.0. Use suggest_float(..., log=True) instead.\n",
            "  'lambda_l2': trial.suggest_loguniform('lambda_l2', 1e-8, 10.0),\n",
            "<ipython-input-7-bd34402695c0>:11: FutureWarning: suggest_loguniform has been deprecated in v3.0.0. This feature will be removed in v6.0.0. See https://github.com/optuna/optuna/releases/tag/v3.0.0. Use suggest_float(..., log=True) instead.\n",
            "  'learning_rate': trial.suggest_loguniform('learning_rate', 0.01, 0.5),\n",
            "<ipython-input-7-bd34402695c0>:12: FutureWarning: suggest_uniform has been deprecated in v3.0.0. This feature will be removed in v6.0.0. See https://github.com/optuna/optuna/releases/tag/v3.0.0. Use suggest_float instead.\n",
            "  'feature_fraction': trial.suggest_uniform('feature_fraction', 0.1, 1.0),\n",
            "<ipython-input-7-bd34402695c0>:13: FutureWarning: suggest_uniform has been deprecated in v3.0.0. This feature will be removed in v6.0.0. See https://github.com/optuna/optuna/releases/tag/v3.0.0. Use suggest_float instead.\n",
            "  'bagging_fraction': trial.suggest_uniform('bagging_fraction', 0.1, 1.0),\n"
          ]
        },
        {
          "name": "stdout",
          "output_type": "stream",
          "text": [
            "[LightGBM] [Warning] bagging_fraction is set=0.7670891572319826, subsample=1.0 will be ignored. Current value: bagging_fraction=0.7670891572319826\n",
            "[LightGBM] [Warning] lambda_l2 is set=1.2628657876040365e-08, reg_lambda=0.0 will be ignored. Current value: lambda_l2=1.2628657876040365e-08\n",
            "[LightGBM] [Warning] lambda_l1 is set=1.2072610891953466, reg_alpha=0.0 will be ignored. Current value: lambda_l1=1.2072610891953466\n",
            "[LightGBM] [Warning] bagging_freq is set=6, subsample_freq=0 will be ignored. Current value: bagging_freq=6\n",
            "[LightGBM] [Warning] feature_fraction is set=0.719564005853282, colsample_bytree=1.0 will be ignored. Current value: feature_fraction=0.719564005853282\n"
          ]
        },
        {
          "name": "stderr",
          "output_type": "stream",
          "text": [
            "[I 2023-07-12 14:28:14,314] Trial 19 finished with value: 28391.65774530913 and parameters: {'lambda_l1': 1.2072610891953466, 'lambda_l2': 1.2628657876040365e-08, 'num_leaves': 57, 'learning_rate': 0.13253000077416846, 'feature_fraction': 0.719564005853282, 'bagging_fraction': 0.7670891572319826, 'bagging_freq': 6, 'min_child_samples': 10}. Best is trial 12 with value: 26343.675603197094.\n",
            "<ipython-input-7-bd34402695c0>:8: FutureWarning: suggest_loguniform has been deprecated in v3.0.0. This feature will be removed in v6.0.0. See https://github.com/optuna/optuna/releases/tag/v3.0.0. Use suggest_float(..., log=True) instead.\n",
            "  'lambda_l1': trial.suggest_loguniform('lambda_l1', 1e-8, 10.0),\n",
            "<ipython-input-7-bd34402695c0>:9: FutureWarning: suggest_loguniform has been deprecated in v3.0.0. This feature will be removed in v6.0.0. See https://github.com/optuna/optuna/releases/tag/v3.0.0. Use suggest_float(..., log=True) instead.\n",
            "  'lambda_l2': trial.suggest_loguniform('lambda_l2', 1e-8, 10.0),\n",
            "<ipython-input-7-bd34402695c0>:11: FutureWarning: suggest_loguniform has been deprecated in v3.0.0. This feature will be removed in v6.0.0. See https://github.com/optuna/optuna/releases/tag/v3.0.0. Use suggest_float(..., log=True) instead.\n",
            "  'learning_rate': trial.suggest_loguniform('learning_rate', 0.01, 0.5),\n",
            "<ipython-input-7-bd34402695c0>:12: FutureWarning: suggest_uniform has been deprecated in v3.0.0. This feature will be removed in v6.0.0. See https://github.com/optuna/optuna/releases/tag/v3.0.0. Use suggest_float instead.\n",
            "  'feature_fraction': trial.suggest_uniform('feature_fraction', 0.1, 1.0),\n",
            "<ipython-input-7-bd34402695c0>:13: FutureWarning: suggest_uniform has been deprecated in v3.0.0. This feature will be removed in v6.0.0. See https://github.com/optuna/optuna/releases/tag/v3.0.0. Use suggest_float instead.\n",
            "  'bagging_fraction': trial.suggest_uniform('bagging_fraction', 0.1, 1.0),\n",
            "[I 2023-07-12 14:28:14,450] Trial 20 finished with value: 35847.76023705985 and parameters: {'lambda_l1': 0.04845572561952561, 'lambda_l2': 2.34679003393512e-07, 'num_leaves': 103, 'learning_rate': 0.047444756521789616, 'feature_fraction': 0.5171865437016938, 'bagging_fraction': 0.9777057371240783, 'bagging_freq': 7, 'min_child_samples': 66}. Best is trial 12 with value: 26343.675603197094.\n",
            "<ipython-input-7-bd34402695c0>:8: FutureWarning: suggest_loguniform has been deprecated in v3.0.0. This feature will be removed in v6.0.0. See https://github.com/optuna/optuna/releases/tag/v3.0.0. Use suggest_float(..., log=True) instead.\n",
            "  'lambda_l1': trial.suggest_loguniform('lambda_l1', 1e-8, 10.0),\n",
            "<ipython-input-7-bd34402695c0>:9: FutureWarning: suggest_loguniform has been deprecated in v3.0.0. This feature will be removed in v6.0.0. See https://github.com/optuna/optuna/releases/tag/v3.0.0. Use suggest_float(..., log=True) instead.\n",
            "  'lambda_l2': trial.suggest_loguniform('lambda_l2', 1e-8, 10.0),\n",
            "<ipython-input-7-bd34402695c0>:11: FutureWarning: suggest_loguniform has been deprecated in v3.0.0. This feature will be removed in v6.0.0. See https://github.com/optuna/optuna/releases/tag/v3.0.0. Use suggest_float(..., log=True) instead.\n",
            "  'learning_rate': trial.suggest_loguniform('learning_rate', 0.01, 0.5),\n",
            "<ipython-input-7-bd34402695c0>:12: FutureWarning: suggest_uniform has been deprecated in v3.0.0. This feature will be removed in v6.0.0. See https://github.com/optuna/optuna/releases/tag/v3.0.0. Use suggest_float instead.\n",
            "  'feature_fraction': trial.suggest_uniform('feature_fraction', 0.1, 1.0),\n",
            "<ipython-input-7-bd34402695c0>:13: FutureWarning: suggest_uniform has been deprecated in v3.0.0. This feature will be removed in v6.0.0. See https://github.com/optuna/optuna/releases/tag/v3.0.0. Use suggest_float instead.\n",
            "  'bagging_fraction': trial.suggest_uniform('bagging_fraction', 0.1, 1.0),\n"
          ]
        },
        {
          "name": "stdout",
          "output_type": "stream",
          "text": [
            "[LightGBM] [Warning] bagging_fraction is set=0.9777057371240783, subsample=1.0 will be ignored. Current value: bagging_fraction=0.9777057371240783\n",
            "[LightGBM] [Warning] lambda_l2 is set=2.34679003393512e-07, reg_lambda=0.0 will be ignored. Current value: lambda_l2=2.34679003393512e-07\n",
            "[LightGBM] [Warning] lambda_l1 is set=0.04845572561952561, reg_alpha=0.0 will be ignored. Current value: lambda_l1=0.04845572561952561\n",
            "[LightGBM] [Warning] bagging_freq is set=7, subsample_freq=0 will be ignored. Current value: bagging_freq=7\n",
            "[LightGBM] [Warning] feature_fraction is set=0.5171865437016938, colsample_bytree=1.0 will be ignored. Current value: feature_fraction=0.5171865437016938\n",
            "[LightGBM] [Warning] bagging_fraction is set=0.7942079841873098, subsample=1.0 will be ignored. Current value: bagging_fraction=0.7942079841873098\n",
            "[LightGBM] [Warning] lambda_l2 is set=1.794633086278836e-08, reg_lambda=0.0 will be ignored. Current value: lambda_l2=1.794633086278836e-08\n",
            "[LightGBM] [Warning] lambda_l1 is set=1.260190300080281, reg_alpha=0.0 will be ignored. Current value: lambda_l1=1.260190300080281\n",
            "[LightGBM] [Warning] bagging_freq is set=6, subsample_freq=0 will be ignored. Current value: bagging_freq=6\n",
            "[LightGBM] [Warning] feature_fraction is set=0.7217127197397676, colsample_bytree=1.0 will be ignored. Current value: feature_fraction=0.7217127197397676\n"
          ]
        },
        {
          "name": "stderr",
          "output_type": "stream",
          "text": [
            "[I 2023-07-12 14:28:14,730] Trial 21 finished with value: 28871.33585494132 and parameters: {'lambda_l1': 1.260190300080281, 'lambda_l2': 1.794633086278836e-08, 'num_leaves': 49, 'learning_rate': 0.12503393650298825, 'feature_fraction': 0.7217127197397676, 'bagging_fraction': 0.7942079841873098, 'bagging_freq': 6, 'min_child_samples': 10}. Best is trial 12 with value: 26343.675603197094.\n",
            "<ipython-input-7-bd34402695c0>:8: FutureWarning: suggest_loguniform has been deprecated in v3.0.0. This feature will be removed in v6.0.0. See https://github.com/optuna/optuna/releases/tag/v3.0.0. Use suggest_float(..., log=True) instead.\n",
            "  'lambda_l1': trial.suggest_loguniform('lambda_l1', 1e-8, 10.0),\n",
            "<ipython-input-7-bd34402695c0>:9: FutureWarning: suggest_loguniform has been deprecated in v3.0.0. This feature will be removed in v6.0.0. See https://github.com/optuna/optuna/releases/tag/v3.0.0. Use suggest_float(..., log=True) instead.\n",
            "  'lambda_l2': trial.suggest_loguniform('lambda_l2', 1e-8, 10.0),\n",
            "<ipython-input-7-bd34402695c0>:11: FutureWarning: suggest_loguniform has been deprecated in v3.0.0. This feature will be removed in v6.0.0. See https://github.com/optuna/optuna/releases/tag/v3.0.0. Use suggest_float(..., log=True) instead.\n",
            "  'learning_rate': trial.suggest_loguniform('learning_rate', 0.01, 0.5),\n",
            "<ipython-input-7-bd34402695c0>:12: FutureWarning: suggest_uniform has been deprecated in v3.0.0. This feature will be removed in v6.0.0. See https://github.com/optuna/optuna/releases/tag/v3.0.0. Use suggest_float instead.\n",
            "  'feature_fraction': trial.suggest_uniform('feature_fraction', 0.1, 1.0),\n",
            "<ipython-input-7-bd34402695c0>:13: FutureWarning: suggest_uniform has been deprecated in v3.0.0. This feature will be removed in v6.0.0. See https://github.com/optuna/optuna/releases/tag/v3.0.0. Use suggest_float instead.\n",
            "  'bagging_fraction': trial.suggest_uniform('bagging_fraction', 0.1, 1.0),\n",
            "[I 2023-07-12 14:28:14,939] Trial 22 finished with value: 31855.080988738377 and parameters: {'lambda_l1': 1.4991846584536452, 'lambda_l2': 1.5275220083125276e-08, 'num_leaves': 40, 'learning_rate': 0.2514952209748023, 'feature_fraction': 0.5709067639662472, 'bagging_fraction': 0.7502967689933724, 'bagging_freq': 6, 'min_child_samples': 19}. Best is trial 12 with value: 26343.675603197094.\n",
            "<ipython-input-7-bd34402695c0>:8: FutureWarning: suggest_loguniform has been deprecated in v3.0.0. This feature will be removed in v6.0.0. See https://github.com/optuna/optuna/releases/tag/v3.0.0. Use suggest_float(..., log=True) instead.\n",
            "  'lambda_l1': trial.suggest_loguniform('lambda_l1', 1e-8, 10.0),\n",
            "<ipython-input-7-bd34402695c0>:9: FutureWarning: suggest_loguniform has been deprecated in v3.0.0. This feature will be removed in v6.0.0. See https://github.com/optuna/optuna/releases/tag/v3.0.0. Use suggest_float(..., log=True) instead.\n",
            "  'lambda_l2': trial.suggest_loguniform('lambda_l2', 1e-8, 10.0),\n",
            "<ipython-input-7-bd34402695c0>:11: FutureWarning: suggest_loguniform has been deprecated in v3.0.0. This feature will be removed in v6.0.0. See https://github.com/optuna/optuna/releases/tag/v3.0.0. Use suggest_float(..., log=True) instead.\n",
            "  'learning_rate': trial.suggest_loguniform('learning_rate', 0.01, 0.5),\n"
          ]
        },
        {
          "name": "stdout",
          "output_type": "stream",
          "text": [
            "[LightGBM] [Warning] bagging_fraction is set=0.7502967689933724, subsample=1.0 will be ignored. Current value: bagging_fraction=0.7502967689933724\n",
            "[LightGBM] [Warning] lambda_l2 is set=1.5275220083125276e-08, reg_lambda=0.0 will be ignored. Current value: lambda_l2=1.5275220083125276e-08\n",
            "[LightGBM] [Warning] lambda_l1 is set=1.4991846584536452, reg_alpha=0.0 will be ignored. Current value: lambda_l1=1.4991846584536452\n",
            "[LightGBM] [Warning] bagging_freq is set=6, subsample_freq=0 will be ignored. Current value: bagging_freq=6\n",
            "[LightGBM] [Warning] feature_fraction is set=0.5709067639662472, colsample_bytree=1.0 will be ignored. Current value: feature_fraction=0.5709067639662472\n"
          ]
        },
        {
          "name": "stderr",
          "output_type": "stream",
          "text": [
            "<ipython-input-7-bd34402695c0>:12: FutureWarning: suggest_uniform has been deprecated in v3.0.0. This feature will be removed in v6.0.0. See https://github.com/optuna/optuna/releases/tag/v3.0.0. Use suggest_float instead.\n",
            "  'feature_fraction': trial.suggest_uniform('feature_fraction', 0.1, 1.0),\n",
            "<ipython-input-7-bd34402695c0>:13: FutureWarning: suggest_uniform has been deprecated in v3.0.0. This feature will be removed in v6.0.0. See https://github.com/optuna/optuna/releases/tag/v3.0.0. Use suggest_float instead.\n",
            "  'bagging_fraction': trial.suggest_uniform('bagging_fraction', 0.1, 1.0),\n"
          ]
        },
        {
          "name": "stdout",
          "output_type": "stream",
          "text": [
            "[LightGBM] [Warning] bagging_fraction is set=0.8714513770150195, subsample=1.0 will be ignored. Current value: bagging_fraction=0.8714513770150195\n",
            "[LightGBM] [Warning] lambda_l2 is set=1.351335448524782e-07, reg_lambda=0.0 will be ignored. Current value: lambda_l2=1.351335448524782e-07\n",
            "[LightGBM] [Warning] lambda_l1 is set=8.792801640420988, reg_alpha=0.0 will be ignored. Current value: lambda_l1=8.792801640420988\n",
            "[LightGBM] [Warning] bagging_freq is set=8, subsample_freq=0 will be ignored. Current value: bagging_freq=8\n",
            "[LightGBM] [Warning] feature_fraction is set=0.7617260236569782, colsample_bytree=1.0 will be ignored. Current value: feature_fraction=0.7617260236569782\n"
          ]
        },
        {
          "name": "stderr",
          "output_type": "stream",
          "text": [
            "[I 2023-07-12 14:28:15,346] Trial 23 finished with value: 30078.414287504565 and parameters: {'lambda_l1': 8.792801640420988, 'lambda_l2': 1.351335448524782e-07, 'num_leaves': 77, 'learning_rate': 0.14653659769095687, 'feature_fraction': 0.7617260236569782, 'bagging_fraction': 0.8714513770150195, 'bagging_freq': 8, 'min_child_samples': 8}. Best is trial 12 with value: 26343.675603197094.\n",
            "<ipython-input-7-bd34402695c0>:8: FutureWarning: suggest_loguniform has been deprecated in v3.0.0. This feature will be removed in v6.0.0. See https://github.com/optuna/optuna/releases/tag/v3.0.0. Use suggest_float(..., log=True) instead.\n",
            "  'lambda_l1': trial.suggest_loguniform('lambda_l1', 1e-8, 10.0),\n",
            "<ipython-input-7-bd34402695c0>:9: FutureWarning: suggest_loguniform has been deprecated in v3.0.0. This feature will be removed in v6.0.0. See https://github.com/optuna/optuna/releases/tag/v3.0.0. Use suggest_float(..., log=True) instead.\n",
            "  'lambda_l2': trial.suggest_loguniform('lambda_l2', 1e-8, 10.0),\n",
            "<ipython-input-7-bd34402695c0>:11: FutureWarning: suggest_loguniform has been deprecated in v3.0.0. This feature will be removed in v6.0.0. See https://github.com/optuna/optuna/releases/tag/v3.0.0. Use suggest_float(..., log=True) instead.\n",
            "  'learning_rate': trial.suggest_loguniform('learning_rate', 0.01, 0.5),\n",
            "<ipython-input-7-bd34402695c0>:12: FutureWarning: suggest_uniform has been deprecated in v3.0.0. This feature will be removed in v6.0.0. See https://github.com/optuna/optuna/releases/tag/v3.0.0. Use suggest_float instead.\n",
            "  'feature_fraction': trial.suggest_uniform('feature_fraction', 0.1, 1.0),\n",
            "<ipython-input-7-bd34402695c0>:13: FutureWarning: suggest_uniform has been deprecated in v3.0.0. This feature will be removed in v6.0.0. See https://github.com/optuna/optuna/releases/tag/v3.0.0. Use suggest_float instead.\n",
            "  'bagging_fraction': trial.suggest_uniform('bagging_fraction', 0.1, 1.0),\n",
            "[I 2023-07-12 14:28:15,547] Trial 24 finished with value: 28822.37290800035 and parameters: {'lambda_l1': 0.19569758211932067, 'lambda_l2': 7.988175553159478e-07, 'num_leaves': 102, 'learning_rate': 0.09607597002783023, 'feature_fraction': 0.6318184352347159, 'bagging_fraction': 0.9967310006486788, 'bagging_freq': 4, 'min_child_samples': 30}. Best is trial 12 with value: 26343.675603197094.\n",
            "<ipython-input-7-bd34402695c0>:8: FutureWarning: suggest_loguniform has been deprecated in v3.0.0. This feature will be removed in v6.0.0. See https://github.com/optuna/optuna/releases/tag/v3.0.0. Use suggest_float(..., log=True) instead.\n",
            "  'lambda_l1': trial.suggest_loguniform('lambda_l1', 1e-8, 10.0),\n"
          ]
        },
        {
          "name": "stdout",
          "output_type": "stream",
          "text": [
            "[LightGBM] [Warning] bagging_fraction is set=0.9967310006486788, subsample=1.0 will be ignored. Current value: bagging_fraction=0.9967310006486788\n",
            "[LightGBM] [Warning] lambda_l2 is set=7.988175553159478e-07, reg_lambda=0.0 will be ignored. Current value: lambda_l2=7.988175553159478e-07\n",
            "[LightGBM] [Warning] lambda_l1 is set=0.19569758211932067, reg_alpha=0.0 will be ignored. Current value: lambda_l1=0.19569758211932067\n",
            "[LightGBM] [Warning] bagging_freq is set=4, subsample_freq=0 will be ignored. Current value: bagging_freq=4\n",
            "[LightGBM] [Warning] feature_fraction is set=0.6318184352347159, colsample_bytree=1.0 will be ignored. Current value: feature_fraction=0.6318184352347159\n"
          ]
        },
        {
          "name": "stderr",
          "output_type": "stream",
          "text": [
            "<ipython-input-7-bd34402695c0>:9: FutureWarning: suggest_loguniform has been deprecated in v3.0.0. This feature will be removed in v6.0.0. See https://github.com/optuna/optuna/releases/tag/v3.0.0. Use suggest_float(..., log=True) instead.\n",
            "  'lambda_l2': trial.suggest_loguniform('lambda_l2', 1e-8, 10.0),\n",
            "<ipython-input-7-bd34402695c0>:11: FutureWarning: suggest_loguniform has been deprecated in v3.0.0. This feature will be removed in v6.0.0. See https://github.com/optuna/optuna/releases/tag/v3.0.0. Use suggest_float(..., log=True) instead.\n",
            "  'learning_rate': trial.suggest_loguniform('learning_rate', 0.01, 0.5),\n",
            "<ipython-input-7-bd34402695c0>:12: FutureWarning: suggest_uniform has been deprecated in v3.0.0. This feature will be removed in v6.0.0. See https://github.com/optuna/optuna/releases/tag/v3.0.0. Use suggest_float instead.\n",
            "  'feature_fraction': trial.suggest_uniform('feature_fraction', 0.1, 1.0),\n",
            "<ipython-input-7-bd34402695c0>:13: FutureWarning: suggest_uniform has been deprecated in v3.0.0. This feature will be removed in v6.0.0. See https://github.com/optuna/optuna/releases/tag/v3.0.0. Use suggest_float instead.\n",
            "  'bagging_fraction': trial.suggest_uniform('bagging_fraction', 0.1, 1.0),\n",
            "[I 2023-07-12 14:28:15,657] Trial 25 finished with value: 32634.451375611578 and parameters: {'lambda_l1': 0.10855476037737609, 'lambda_l2': 7.506954174935651e-06, 'num_leaves': 4, 'learning_rate': 0.17116034690305534, 'feature_fraction': 0.7310265016730637, 'bagging_fraction': 0.7663205142412974, 'bagging_freq': 6, 'min_child_samples': 1}. Best is trial 12 with value: 26343.675603197094.\n",
            "<ipython-input-7-bd34402695c0>:8: FutureWarning: suggest_loguniform has been deprecated in v3.0.0. This feature will be removed in v6.0.0. See https://github.com/optuna/optuna/releases/tag/v3.0.0. Use suggest_float(..., log=True) instead.\n",
            "  'lambda_l1': trial.suggest_loguniform('lambda_l1', 1e-8, 10.0),\n",
            "<ipython-input-7-bd34402695c0>:9: FutureWarning: suggest_loguniform has been deprecated in v3.0.0. This feature will be removed in v6.0.0. See https://github.com/optuna/optuna/releases/tag/v3.0.0. Use suggest_float(..., log=True) instead.\n",
            "  'lambda_l2': trial.suggest_loguniform('lambda_l2', 1e-8, 10.0),\n",
            "<ipython-input-7-bd34402695c0>:11: FutureWarning: suggest_loguniform has been deprecated in v3.0.0. This feature will be removed in v6.0.0. See https://github.com/optuna/optuna/releases/tag/v3.0.0. Use suggest_float(..., log=True) instead.\n",
            "  'learning_rate': trial.suggest_loguniform('learning_rate', 0.01, 0.5),\n",
            "<ipython-input-7-bd34402695c0>:12: FutureWarning: suggest_uniform has been deprecated in v3.0.0. This feature will be removed in v6.0.0. See https://github.com/optuna/optuna/releases/tag/v3.0.0. Use suggest_float instead.\n",
            "  'feature_fraction': trial.suggest_uniform('feature_fraction', 0.1, 1.0),\n",
            "<ipython-input-7-bd34402695c0>:13: FutureWarning: suggest_uniform has been deprecated in v3.0.0. This feature will be removed in v6.0.0. See https://github.com/optuna/optuna/releases/tag/v3.0.0. Use suggest_float instead.\n",
            "  'bagging_fraction': trial.suggest_uniform('bagging_fraction', 0.1, 1.0),\n"
          ]
        },
        {
          "name": "stdout",
          "output_type": "stream",
          "text": [
            "[LightGBM] [Warning] bagging_fraction is set=0.7663205142412974, subsample=1.0 will be ignored. Current value: bagging_fraction=0.7663205142412974\n",
            "[LightGBM] [Warning] lambda_l2 is set=7.506954174935651e-06, reg_lambda=0.0 will be ignored. Current value: lambda_l2=7.506954174935651e-06\n",
            "[LightGBM] [Warning] lambda_l1 is set=0.10855476037737609, reg_alpha=0.0 will be ignored. Current value: lambda_l1=0.10855476037737609\n",
            "[LightGBM] [Warning] bagging_freq is set=6, subsample_freq=0 will be ignored. Current value: bagging_freq=6\n",
            "[LightGBM] [Warning] feature_fraction is set=0.7310265016730637, colsample_bytree=1.0 will be ignored. Current value: feature_fraction=0.7310265016730637\n",
            "[LightGBM] [Warning] bagging_fraction is set=0.899634357170781, subsample=1.0 will be ignored. Current value: bagging_fraction=0.899634357170781\n",
            "[LightGBM] [Warning] lambda_l2 is set=6.994101149094782e-08, reg_lambda=0.0 will be ignored. Current value: lambda_l2=6.994101149094782e-08\n",
            "[LightGBM] [Warning] lambda_l1 is set=1.9045951336608633, reg_alpha=0.0 will be ignored. Current value: lambda_l1=1.9045951336608633\n",
            "[LightGBM] [Warning] bagging_freq is set=9, subsample_freq=0 will be ignored. Current value: bagging_freq=9\n",
            "[LightGBM] [Warning] feature_fraction is set=0.5991253490175863, colsample_bytree=1.0 will be ignored. Current value: feature_fraction=0.5991253490175863\n"
          ]
        },
        {
          "name": "stderr",
          "output_type": "stream",
          "text": [
            "[I 2023-07-12 14:28:15,882] Trial 26 finished with value: 29150.5965845899 and parameters: {'lambda_l1': 1.9045951336608633, 'lambda_l2': 6.994101149094782e-08, 'num_leaves': 150, 'learning_rate': 0.1201577633957053, 'feature_fraction': 0.5991253490175863, 'bagging_fraction': 0.899634357170781, 'bagging_freq': 9, 'min_child_samples': 24}. Best is trial 12 with value: 26343.675603197094.\n",
            "<ipython-input-7-bd34402695c0>:8: FutureWarning: suggest_loguniform has been deprecated in v3.0.0. This feature will be removed in v6.0.0. See https://github.com/optuna/optuna/releases/tag/v3.0.0. Use suggest_float(..., log=True) instead.\n",
            "  'lambda_l1': trial.suggest_loguniform('lambda_l1', 1e-8, 10.0),\n",
            "<ipython-input-7-bd34402695c0>:9: FutureWarning: suggest_loguniform has been deprecated in v3.0.0. This feature will be removed in v6.0.0. See https://github.com/optuna/optuna/releases/tag/v3.0.0. Use suggest_float(..., log=True) instead.\n",
            "  'lambda_l2': trial.suggest_loguniform('lambda_l2', 1e-8, 10.0),\n",
            "<ipython-input-7-bd34402695c0>:11: FutureWarning: suggest_loguniform has been deprecated in v3.0.0. This feature will be removed in v6.0.0. See https://github.com/optuna/optuna/releases/tag/v3.0.0. Use suggest_float(..., log=True) instead.\n",
            "  'learning_rate': trial.suggest_loguniform('learning_rate', 0.01, 0.5),\n",
            "<ipython-input-7-bd34402695c0>:12: FutureWarning: suggest_uniform has been deprecated in v3.0.0. This feature will be removed in v6.0.0. See https://github.com/optuna/optuna/releases/tag/v3.0.0. Use suggest_float instead.\n",
            "  'feature_fraction': trial.suggest_uniform('feature_fraction', 0.1, 1.0),\n",
            "<ipython-input-7-bd34402695c0>:13: FutureWarning: suggest_uniform has been deprecated in v3.0.0. This feature will be removed in v6.0.0. See https://github.com/optuna/optuna/releases/tag/v3.0.0. Use suggest_float instead.\n",
            "  'bagging_fraction': trial.suggest_uniform('bagging_fraction', 0.1, 1.0),\n"
          ]
        },
        {
          "name": "stdout",
          "output_type": "stream",
          "text": [
            "[LightGBM] [Warning] bagging_fraction is set=0.8131325687893083, subsample=1.0 will be ignored. Current value: bagging_fraction=0.8131325687893083\n",
            "[LightGBM] [Warning] lambda_l2 is set=6.036231005974464e-07, reg_lambda=0.0 will be ignored. Current value: lambda_l2=6.036231005974464e-07\n",
            "[LightGBM] [Warning] lambda_l1 is set=0.0030689757072882226, reg_alpha=0.0 will be ignored. Current value: lambda_l1=0.0030689757072882226\n",
            "[LightGBM] [Warning] bagging_freq is set=9, subsample_freq=0 will be ignored. Current value: bagging_freq=9\n",
            "[LightGBM] [Warning] feature_fraction is set=0.48951198514701744, colsample_bytree=1.0 will be ignored. Current value: feature_fraction=0.48951198514701744\n"
          ]
        },
        {
          "name": "stderr",
          "output_type": "stream",
          "text": [
            "[I 2023-07-12 14:28:18,430] Trial 27 finished with value: 28898.956975499335 and parameters: {'lambda_l1': 0.0030689757072882226, 'lambda_l2': 6.036231005974464e-07, 'num_leaves': 65, 'learning_rate': 0.2809263350433975, 'feature_fraction': 0.48951198514701744, 'bagging_fraction': 0.8131325687893083, 'bagging_freq': 9, 'min_child_samples': 11}. Best is trial 12 with value: 26343.675603197094.\n",
            "<ipython-input-7-bd34402695c0>:8: FutureWarning: suggest_loguniform has been deprecated in v3.0.0. This feature will be removed in v6.0.0. See https://github.com/optuna/optuna/releases/tag/v3.0.0. Use suggest_float(..., log=True) instead.\n",
            "  'lambda_l1': trial.suggest_loguniform('lambda_l1', 1e-8, 10.0),\n",
            "<ipython-input-7-bd34402695c0>:9: FutureWarning: suggest_loguniform has been deprecated in v3.0.0. This feature will be removed in v6.0.0. See https://github.com/optuna/optuna/releases/tag/v3.0.0. Use suggest_float(..., log=True) instead.\n",
            "  'lambda_l2': trial.suggest_loguniform('lambda_l2', 1e-8, 10.0),\n",
            "<ipython-input-7-bd34402695c0>:11: FutureWarning: suggest_loguniform has been deprecated in v3.0.0. This feature will be removed in v6.0.0. See https://github.com/optuna/optuna/releases/tag/v3.0.0. Use suggest_float(..., log=True) instead.\n",
            "  'learning_rate': trial.suggest_loguniform('learning_rate', 0.01, 0.5),\n",
            "<ipython-input-7-bd34402695c0>:12: FutureWarning: suggest_uniform has been deprecated in v3.0.0. This feature will be removed in v6.0.0. See https://github.com/optuna/optuna/releases/tag/v3.0.0. Use suggest_float instead.\n",
            "  'feature_fraction': trial.suggest_uniform('feature_fraction', 0.1, 1.0),\n",
            "<ipython-input-7-bd34402695c0>:13: FutureWarning: suggest_uniform has been deprecated in v3.0.0. This feature will be removed in v6.0.0. See https://github.com/optuna/optuna/releases/tag/v3.0.0. Use suggest_float instead.\n",
            "  'bagging_fraction': trial.suggest_uniform('bagging_fraction', 0.1, 1.0),\n",
            "[I 2023-07-12 14:28:18,599] Trial 28 finished with value: 30548.787291168137 and parameters: {'lambda_l1': 0.37068190811208684, 'lambda_l2': 3.886437802103128e-06, 'num_leaves': 35, 'learning_rate': 0.08144160074766013, 'feature_fraction': 0.6834336891763737, 'bagging_fraction': 0.9066157074775651, 'bagging_freq': 7, 'min_child_samples': 35}. Best is trial 12 with value: 26343.675603197094.\n",
            "<ipython-input-7-bd34402695c0>:8: FutureWarning: suggest_loguniform has been deprecated in v3.0.0. This feature will be removed in v6.0.0. See https://github.com/optuna/optuna/releases/tag/v3.0.0. Use suggest_float(..., log=True) instead.\n",
            "  'lambda_l1': trial.suggest_loguniform('lambda_l1', 1e-8, 10.0),\n",
            "<ipython-input-7-bd34402695c0>:9: FutureWarning: suggest_loguniform has been deprecated in v3.0.0. This feature will be removed in v6.0.0. See https://github.com/optuna/optuna/releases/tag/v3.0.0. Use suggest_float(..., log=True) instead.\n",
            "  'lambda_l2': trial.suggest_loguniform('lambda_l2', 1e-8, 10.0),\n",
            "<ipython-input-7-bd34402695c0>:11: FutureWarning: suggest_loguniform has been deprecated in v3.0.0. This feature will be removed in v6.0.0. See https://github.com/optuna/optuna/releases/tag/v3.0.0. Use suggest_float(..., log=True) instead.\n",
            "  'learning_rate': trial.suggest_loguniform('learning_rate', 0.01, 0.5),\n",
            "<ipython-input-7-bd34402695c0>:12: FutureWarning: suggest_uniform has been deprecated in v3.0.0. This feature will be removed in v6.0.0. See https://github.com/optuna/optuna/releases/tag/v3.0.0. Use suggest_float instead.\n",
            "  'feature_fraction': trial.suggest_uniform('feature_fraction', 0.1, 1.0),\n"
          ]
        },
        {
          "name": "stdout",
          "output_type": "stream",
          "text": [
            "[LightGBM] [Warning] bagging_fraction is set=0.9066157074775651, subsample=1.0 will be ignored. Current value: bagging_fraction=0.9066157074775651\n",
            "[LightGBM] [Warning] lambda_l2 is set=3.886437802103128e-06, reg_lambda=0.0 will be ignored. Current value: lambda_l2=3.886437802103128e-06\n",
            "[LightGBM] [Warning] lambda_l1 is set=0.37068190811208684, reg_alpha=0.0 will be ignored. Current value: lambda_l1=0.37068190811208684\n",
            "[LightGBM] [Warning] bagging_freq is set=7, subsample_freq=0 will be ignored. Current value: bagging_freq=7\n",
            "[LightGBM] [Warning] feature_fraction is set=0.6834336891763737, colsample_bytree=1.0 will be ignored. Current value: feature_fraction=0.6834336891763737\n",
            "[LightGBM] [Warning] bagging_fraction is set=0.7152766678173379, subsample=1.0 will be ignored. Current value: bagging_fraction=0.7152766678173379\n",
            "[LightGBM] [Warning] lambda_l2 is set=1.6556650586248996e-06, reg_lambda=0.0 will be ignored. Current value: lambda_l2=1.6556650586248996e-06\n",
            "[LightGBM] [Warning] lambda_l1 is set=0.002797462398823316, reg_alpha=0.0 will be ignored. Current value: lambda_l1=0.002797462398823316\n",
            "[LightGBM] [Warning] bagging_freq is set=4, subsample_freq=0 will be ignored. Current value: bagging_freq=4\n",
            "[LightGBM] [Warning] feature_fraction is set=0.7949338225784244, colsample_bytree=1.0 will be ignored. Current value: feature_fraction=0.7949338225784244\n"
          ]
        },
        {
          "name": "stderr",
          "output_type": "stream",
          "text": [
            "<ipython-input-7-bd34402695c0>:13: FutureWarning: suggest_uniform has been deprecated in v3.0.0. This feature will be removed in v6.0.0. See https://github.com/optuna/optuna/releases/tag/v3.0.0. Use suggest_float instead.\n",
            "  'bagging_fraction': trial.suggest_uniform('bagging_fraction', 0.1, 1.0),\n",
            "[I 2023-07-12 14:28:18,838] Trial 29 finished with value: 28858.916997258344 and parameters: {'lambda_l1': 0.002797462398823316, 'lambda_l2': 1.6556650586248996e-06, 'num_leaves': 96, 'learning_rate': 0.1706102297633524, 'feature_fraction': 0.7949338225784244, 'bagging_fraction': 0.7152766678173379, 'bagging_freq': 4, 'min_child_samples': 17}. Best is trial 12 with value: 26343.675603197094.\n",
            "<ipython-input-7-bd34402695c0>:8: FutureWarning: suggest_loguniform has been deprecated in v3.0.0. This feature will be removed in v6.0.0. See https://github.com/optuna/optuna/releases/tag/v3.0.0. Use suggest_float(..., log=True) instead.\n",
            "  'lambda_l1': trial.suggest_loguniform('lambda_l1', 1e-8, 10.0),\n",
            "<ipython-input-7-bd34402695c0>:9: FutureWarning: suggest_loguniform has been deprecated in v3.0.0. This feature will be removed in v6.0.0. See https://github.com/optuna/optuna/releases/tag/v3.0.0. Use suggest_float(..., log=True) instead.\n",
            "  'lambda_l2': trial.suggest_loguniform('lambda_l2', 1e-8, 10.0),\n",
            "<ipython-input-7-bd34402695c0>:11: FutureWarning: suggest_loguniform has been deprecated in v3.0.0. This feature will be removed in v6.0.0. See https://github.com/optuna/optuna/releases/tag/v3.0.0. Use suggest_float(..., log=True) instead.\n",
            "  'learning_rate': trial.suggest_loguniform('learning_rate', 0.01, 0.5),\n",
            "<ipython-input-7-bd34402695c0>:12: FutureWarning: suggest_uniform has been deprecated in v3.0.0. This feature will be removed in v6.0.0. See https://github.com/optuna/optuna/releases/tag/v3.0.0. Use suggest_float instead.\n",
            "  'feature_fraction': trial.suggest_uniform('feature_fraction', 0.1, 1.0),\n",
            "<ipython-input-7-bd34402695c0>:13: FutureWarning: suggest_uniform has been deprecated in v3.0.0. This feature will be removed in v6.0.0. See https://github.com/optuna/optuna/releases/tag/v3.0.0. Use suggest_float instead.\n",
            "  'bagging_fraction': trial.suggest_uniform('bagging_fraction', 0.1, 1.0),\n"
          ]
        },
        {
          "name": "stdout",
          "output_type": "stream",
          "text": [
            "[LightGBM] [Warning] bagging_fraction is set=0.6044807250141526, subsample=1.0 will be ignored. Current value: bagging_fraction=0.6044807250141526\n",
            "[LightGBM] [Warning] lambda_l2 is set=4.0525091921575135e-08, reg_lambda=0.0 will be ignored. Current value: lambda_l2=4.0525091921575135e-08\n",
            "[LightGBM] [Warning] lambda_l1 is set=0.06939155613429746, reg_alpha=0.0 will be ignored. Current value: lambda_l1=0.06939155613429746\n",
            "[LightGBM] [Warning] bagging_freq is set=8, subsample_freq=0 will be ignored. Current value: bagging_freq=8\n",
            "[LightGBM] [Warning] feature_fraction is set=0.900623104628559, colsample_bytree=1.0 will be ignored. Current value: feature_fraction=0.900623104628559\n"
          ]
        },
        {
          "name": "stderr",
          "output_type": "stream",
          "text": [
            "[I 2023-07-12 14:28:19,294] Trial 30 finished with value: 29526.51830173786 and parameters: {'lambda_l1': 0.06939155613429746, 'lambda_l2': 4.0525091921575135e-08, 'num_leaves': 138, 'learning_rate': 0.11379186919001265, 'feature_fraction': 0.900623104628559, 'bagging_fraction': 0.6044807250141526, 'bagging_freq': 8, 'min_child_samples': 6}. Best is trial 12 with value: 26343.675603197094.\n",
            "<ipython-input-7-bd34402695c0>:8: FutureWarning: suggest_loguniform has been deprecated in v3.0.0. This feature will be removed in v6.0.0. See https://github.com/optuna/optuna/releases/tag/v3.0.0. Use suggest_float(..., log=True) instead.\n",
            "  'lambda_l1': trial.suggest_loguniform('lambda_l1', 1e-8, 10.0),\n",
            "<ipython-input-7-bd34402695c0>:9: FutureWarning: suggest_loguniform has been deprecated in v3.0.0. This feature will be removed in v6.0.0. See https://github.com/optuna/optuna/releases/tag/v3.0.0. Use suggest_float(..., log=True) instead.\n",
            "  'lambda_l2': trial.suggest_loguniform('lambda_l2', 1e-8, 10.0),\n",
            "<ipython-input-7-bd34402695c0>:11: FutureWarning: suggest_loguniform has been deprecated in v3.0.0. This feature will be removed in v6.0.0. See https://github.com/optuna/optuna/releases/tag/v3.0.0. Use suggest_float(..., log=True) instead.\n",
            "  'learning_rate': trial.suggest_loguniform('learning_rate', 0.01, 0.5),\n",
            "<ipython-input-7-bd34402695c0>:12: FutureWarning: suggest_uniform has been deprecated in v3.0.0. This feature will be removed in v6.0.0. See https://github.com/optuna/optuna/releases/tag/v3.0.0. Use suggest_float instead.\n",
            "  'feature_fraction': trial.suggest_uniform('feature_fraction', 0.1, 1.0),\n",
            "<ipython-input-7-bd34402695c0>:13: FutureWarning: suggest_uniform has been deprecated in v3.0.0. This feature will be removed in v6.0.0. See https://github.com/optuna/optuna/releases/tag/v3.0.0. Use suggest_float instead.\n",
            "  'bagging_fraction': trial.suggest_uniform('bagging_fraction', 0.1, 1.0),\n",
            "[I 2023-07-12 14:28:19,487] Trial 31 finished with value: 32392.59758548736 and parameters: {'lambda_l1': 0.014294840676012648, 'lambda_l2': 9.894160578260667e-08, 'num_leaves': 20, 'learning_rate': 0.19220236648775166, 'feature_fraction': 0.5821626190998105, 'bagging_fraction': 0.5494724130975125, 'bagging_freq': 8, 'min_child_samples': 1}. Best is trial 12 with value: 26343.675603197094.\n",
            "<ipython-input-7-bd34402695c0>:8: FutureWarning: suggest_loguniform has been deprecated in v3.0.0. This feature will be removed in v6.0.0. See https://github.com/optuna/optuna/releases/tag/v3.0.0. Use suggest_float(..., log=True) instead.\n",
            "  'lambda_l1': trial.suggest_loguniform('lambda_l1', 1e-8, 10.0),\n"
          ]
        },
        {
          "name": "stdout",
          "output_type": "stream",
          "text": [
            "[LightGBM] [Warning] bagging_fraction is set=0.5494724130975125, subsample=1.0 will be ignored. Current value: bagging_fraction=0.5494724130975125\n",
            "[LightGBM] [Warning] lambda_l2 is set=9.894160578260667e-08, reg_lambda=0.0 will be ignored. Current value: lambda_l2=9.894160578260667e-08\n",
            "[LightGBM] [Warning] lambda_l1 is set=0.014294840676012648, reg_alpha=0.0 will be ignored. Current value: lambda_l1=0.014294840676012648\n",
            "[LightGBM] [Warning] bagging_freq is set=8, subsample_freq=0 will be ignored. Current value: bagging_freq=8\n",
            "[LightGBM] [Warning] feature_fraction is set=0.5821626190998105, colsample_bytree=1.0 will be ignored. Current value: feature_fraction=0.5821626190998105\n",
            "[LightGBM] [Warning] bagging_fraction is set=0.50184938866502, subsample=1.0 will be ignored. Current value: bagging_fraction=0.50184938866502\n"
          ]
        },
        {
          "name": "stderr",
          "output_type": "stream",
          "text": [
            "<ipython-input-7-bd34402695c0>:9: FutureWarning: suggest_loguniform has been deprecated in v3.0.0. This feature will be removed in v6.0.0. See https://github.com/optuna/optuna/releases/tag/v3.0.0. Use suggest_float(..., log=True) instead.\n",
            "  'lambda_l2': trial.suggest_loguniform('lambda_l2', 1e-8, 10.0),\n",
            "<ipython-input-7-bd34402695c0>:11: FutureWarning: suggest_loguniform has been deprecated in v3.0.0. This feature will be removed in v6.0.0. See https://github.com/optuna/optuna/releases/tag/v3.0.0. Use suggest_float(..., log=True) instead.\n",
            "  'learning_rate': trial.suggest_loguniform('learning_rate', 0.01, 0.5),\n",
            "<ipython-input-7-bd34402695c0>:12: FutureWarning: suggest_uniform has been deprecated in v3.0.0. This feature will be removed in v6.0.0. See https://github.com/optuna/optuna/releases/tag/v3.0.0. Use suggest_float instead.\n",
            "  'feature_fraction': trial.suggest_uniform('feature_fraction', 0.1, 1.0),\n",
            "<ipython-input-7-bd34402695c0>:13: FutureWarning: suggest_uniform has been deprecated in v3.0.0. This feature will be removed in v6.0.0. See https://github.com/optuna/optuna/releases/tag/v3.0.0. Use suggest_float instead.\n",
            "  'bagging_fraction': trial.suggest_uniform('bagging_fraction', 0.1, 1.0),\n",
            "[I 2023-07-12 14:28:19,675] Trial 32 finished with value: 29191.53383891164 and parameters: {'lambda_l1': 0.4343613135266734, 'lambda_l2': 2.4959688075493767e-07, 'num_leaves': 23, 'learning_rate': 0.21478413170603192, 'feature_fraction': 0.6346377031776942, 'bagging_fraction': 0.50184938866502, 'bagging_freq': 7, 'min_child_samples': 6}. Best is trial 12 with value: 26343.675603197094.\n",
            "<ipython-input-7-bd34402695c0>:8: FutureWarning: suggest_loguniform has been deprecated in v3.0.0. This feature will be removed in v6.0.0. See https://github.com/optuna/optuna/releases/tag/v3.0.0. Use suggest_float(..., log=True) instead.\n",
            "  'lambda_l1': trial.suggest_loguniform('lambda_l1', 1e-8, 10.0),\n",
            "<ipython-input-7-bd34402695c0>:9: FutureWarning: suggest_loguniform has been deprecated in v3.0.0. This feature will be removed in v6.0.0. See https://github.com/optuna/optuna/releases/tag/v3.0.0. Use suggest_float(..., log=True) instead.\n",
            "  'lambda_l2': trial.suggest_loguniform('lambda_l2', 1e-8, 10.0),\n"
          ]
        },
        {
          "name": "stdout",
          "output_type": "stream",
          "text": [
            "[LightGBM] [Warning] lambda_l2 is set=2.4959688075493767e-07, reg_lambda=0.0 will be ignored. Current value: lambda_l2=2.4959688075493767e-07\n",
            "[LightGBM] [Warning] lambda_l1 is set=0.4343613135266734, reg_alpha=0.0 will be ignored. Current value: lambda_l1=0.4343613135266734\n",
            "[LightGBM] [Warning] bagging_freq is set=7, subsample_freq=0 will be ignored. Current value: bagging_freq=7\n",
            "[LightGBM] [Warning] feature_fraction is set=0.6346377031776942, colsample_bytree=1.0 will be ignored. Current value: feature_fraction=0.6346377031776942\n",
            "[LightGBM] [Warning] bagging_fraction is set=0.6563245423513773, subsample=1.0 will be ignored. Current value: bagging_fraction=0.6563245423513773\n",
            "[LightGBM] [Warning] lambda_l2 is set=1.097972481985391e-08, reg_lambda=0.0 will be ignored. Current value: lambda_l2=1.097972481985391e-08\n",
            "[LightGBM] [Warning] lambda_l1 is set=3.065273729671558, reg_alpha=0.0 will be ignored. Current value: lambda_l1=3.065273729671558\n",
            "[LightGBM] [Warning] bagging_freq is set=6, subsample_freq=0 will be ignored. Current value: bagging_freq=6\n",
            "[LightGBM] [Warning] feature_fraction is set=0.8479532156598788, colsample_bytree=1.0 will be ignored. Current value: feature_fraction=0.8479532156598788\n"
          ]
        },
        {
          "name": "stderr",
          "output_type": "stream",
          "text": [
            "<ipython-input-7-bd34402695c0>:11: FutureWarning: suggest_loguniform has been deprecated in v3.0.0. This feature will be removed in v6.0.0. See https://github.com/optuna/optuna/releases/tag/v3.0.0. Use suggest_float(..., log=True) instead.\n",
            "  'learning_rate': trial.suggest_loguniform('learning_rate', 0.01, 0.5),\n",
            "<ipython-input-7-bd34402695c0>:12: FutureWarning: suggest_uniform has been deprecated in v3.0.0. This feature will be removed in v6.0.0. See https://github.com/optuna/optuna/releases/tag/v3.0.0. Use suggest_float instead.\n",
            "  'feature_fraction': trial.suggest_uniform('feature_fraction', 0.1, 1.0),\n",
            "<ipython-input-7-bd34402695c0>:13: FutureWarning: suggest_uniform has been deprecated in v3.0.0. This feature will be removed in v6.0.0. See https://github.com/optuna/optuna/releases/tag/v3.0.0. Use suggest_float instead.\n",
            "  'bagging_fraction': trial.suggest_uniform('bagging_fraction', 0.1, 1.0),\n",
            "[I 2023-07-12 14:28:19,934] Trial 33 finished with value: 32298.51569395207 and parameters: {'lambda_l1': 3.065273729671558, 'lambda_l2': 1.097972481985391e-08, 'num_leaves': 63, 'learning_rate': 0.34519653166176834, 'feature_fraction': 0.8479532156598788, 'bagging_fraction': 0.6563245423513773, 'bagging_freq': 6, 'min_child_samples': 16}. Best is trial 12 with value: 26343.675603197094.\n",
            "<ipython-input-7-bd34402695c0>:8: FutureWarning: suggest_loguniform has been deprecated in v3.0.0. This feature will be removed in v6.0.0. See https://github.com/optuna/optuna/releases/tag/v3.0.0. Use suggest_float(..., log=True) instead.\n",
            "  'lambda_l1': trial.suggest_loguniform('lambda_l1', 1e-8, 10.0),\n",
            "<ipython-input-7-bd34402695c0>:9: FutureWarning: suggest_loguniform has been deprecated in v3.0.0. This feature will be removed in v6.0.0. See https://github.com/optuna/optuna/releases/tag/v3.0.0. Use suggest_float(..., log=True) instead.\n",
            "  'lambda_l2': trial.suggest_loguniform('lambda_l2', 1e-8, 10.0),\n",
            "<ipython-input-7-bd34402695c0>:11: FutureWarning: suggest_loguniform has been deprecated in v3.0.0. This feature will be removed in v6.0.0. See https://github.com/optuna/optuna/releases/tag/v3.0.0. Use suggest_float(..., log=True) instead.\n",
            "  'learning_rate': trial.suggest_loguniform('learning_rate', 0.01, 0.5),\n",
            "<ipython-input-7-bd34402695c0>:12: FutureWarning: suggest_uniform has been deprecated in v3.0.0. This feature will be removed in v6.0.0. See https://github.com/optuna/optuna/releases/tag/v3.0.0. Use suggest_float instead.\n",
            "  'feature_fraction': trial.suggest_uniform('feature_fraction', 0.1, 1.0),\n",
            "<ipython-input-7-bd34402695c0>:13: FutureWarning: suggest_uniform has been deprecated in v3.0.0. This feature will be removed in v6.0.0. See https://github.com/optuna/optuna/releases/tag/v3.0.0. Use suggest_float instead.\n",
            "  'bagging_fraction': trial.suggest_uniform('bagging_fraction', 0.1, 1.0),\n",
            "[I 2023-07-12 14:28:20,037] Trial 34 finished with value: 28311.65640361684 and parameters: {'lambda_l1': 0.1473524671953128, 'lambda_l2': 2.9558870763359376e-07, 'num_leaves': 4, 'learning_rate': 0.15018783923956594, 'feature_fraction': 0.6951007757250027, 'bagging_fraction': 0.5956772371346403, 'bagging_freq': 9, 'min_child_samples': 6}. Best is trial 12 with value: 26343.675603197094.\n",
            "<ipython-input-7-bd34402695c0>:8: FutureWarning: suggest_loguniform has been deprecated in v3.0.0. This feature will be removed in v6.0.0. See https://github.com/optuna/optuna/releases/tag/v3.0.0. Use suggest_float(..., log=True) instead.\n",
            "  'lambda_l1': trial.suggest_loguniform('lambda_l1', 1e-8, 10.0),\n",
            "<ipython-input-7-bd34402695c0>:9: FutureWarning: suggest_loguniform has been deprecated in v3.0.0. This feature will be removed in v6.0.0. See https://github.com/optuna/optuna/releases/tag/v3.0.0. Use suggest_float(..., log=True) instead.\n",
            "  'lambda_l2': trial.suggest_loguniform('lambda_l2', 1e-8, 10.0),\n",
            "<ipython-input-7-bd34402695c0>:11: FutureWarning: suggest_loguniform has been deprecated in v3.0.0. This feature will be removed in v6.0.0. See https://github.com/optuna/optuna/releases/tag/v3.0.0. Use suggest_float(..., log=True) instead.\n",
            "  'learning_rate': trial.suggest_loguniform('learning_rate', 0.01, 0.5),\n",
            "<ipython-input-7-bd34402695c0>:12: FutureWarning: suggest_uniform has been deprecated in v3.0.0. This feature will be removed in v6.0.0. See https://github.com/optuna/optuna/releases/tag/v3.0.0. Use suggest_float instead.\n",
            "  'feature_fraction': trial.suggest_uniform('feature_fraction', 0.1, 1.0),\n",
            "<ipython-input-7-bd34402695c0>:13: FutureWarning: suggest_uniform has been deprecated in v3.0.0. This feature will be removed in v6.0.0. See https://github.com/optuna/optuna/releases/tag/v3.0.0. Use suggest_float instead.\n",
            "  'bagging_fraction': trial.suggest_uniform('bagging_fraction', 0.1, 1.0),\n"
          ]
        },
        {
          "name": "stdout",
          "output_type": "stream",
          "text": [
            "[LightGBM] [Warning] bagging_fraction is set=0.5956772371346403, subsample=1.0 will be ignored. Current value: bagging_fraction=0.5956772371346403\n",
            "[LightGBM] [Warning] lambda_l2 is set=2.9558870763359376e-07, reg_lambda=0.0 will be ignored. Current value: lambda_l2=2.9558870763359376e-07\n",
            "[LightGBM] [Warning] lambda_l1 is set=0.1473524671953128, reg_alpha=0.0 will be ignored. Current value: lambda_l1=0.1473524671953128\n",
            "[LightGBM] [Warning] bagging_freq is set=9, subsample_freq=0 will be ignored. Current value: bagging_freq=9\n",
            "[LightGBM] [Warning] feature_fraction is set=0.6951007757250027, colsample_bytree=1.0 will be ignored. Current value: feature_fraction=0.6951007757250027\n",
            "[LightGBM] [Warning] bagging_fraction is set=0.7338432967224877, subsample=1.0 will be ignored. Current value: bagging_fraction=0.7338432967224877\n",
            "[LightGBM] [Warning] lambda_l2 is set=4.847075672442832e-07, reg_lambda=0.0 will be ignored. Current value: lambda_l2=4.847075672442832e-07\n",
            "[LightGBM] [Warning] lambda_l1 is set=0.8043710324260007, reg_alpha=0.0 will be ignored. Current value: lambda_l1=0.8043710324260007\n",
            "[LightGBM] [Warning] bagging_freq is set=9, subsample_freq=0 will be ignored. Current value: bagging_freq=9\n",
            "[LightGBM] [Warning] feature_fraction is set=0.7770896664305036, colsample_bytree=1.0 will be ignored. Current value: feature_fraction=0.7770896664305036\n"
          ]
        },
        {
          "name": "stderr",
          "output_type": "stream",
          "text": [
            "[I 2023-07-12 14:28:20,351] Trial 35 finished with value: 29602.799156090397 and parameters: {'lambda_l1': 0.8043710324260007, 'lambda_l2': 4.847075672442832e-07, 'num_leaves': 88, 'learning_rate': 0.1435422331658281, 'feature_fraction': 0.7770896664305036, 'bagging_fraction': 0.7338432967224877, 'bagging_freq': 9, 'min_child_samples': 13}. Best is trial 12 with value: 26343.675603197094.\n",
            "<ipython-input-7-bd34402695c0>:8: FutureWarning: suggest_loguniform has been deprecated in v3.0.0. This feature will be removed in v6.0.0. See https://github.com/optuna/optuna/releases/tag/v3.0.0. Use suggest_float(..., log=True) instead.\n",
            "  'lambda_l1': trial.suggest_loguniform('lambda_l1', 1e-8, 10.0),\n",
            "<ipython-input-7-bd34402695c0>:9: FutureWarning: suggest_loguniform has been deprecated in v3.0.0. This feature will be removed in v6.0.0. See https://github.com/optuna/optuna/releases/tag/v3.0.0. Use suggest_float(..., log=True) instead.\n",
            "  'lambda_l2': trial.suggest_loguniform('lambda_l2', 1e-8, 10.0),\n",
            "<ipython-input-7-bd34402695c0>:11: FutureWarning: suggest_loguniform has been deprecated in v3.0.0. This feature will be removed in v6.0.0. See https://github.com/optuna/optuna/releases/tag/v3.0.0. Use suggest_float(..., log=True) instead.\n",
            "  'learning_rate': trial.suggest_loguniform('learning_rate', 0.01, 0.5),\n",
            "<ipython-input-7-bd34402695c0>:12: FutureWarning: suggest_uniform has been deprecated in v3.0.0. This feature will be removed in v6.0.0. See https://github.com/optuna/optuna/releases/tag/v3.0.0. Use suggest_float instead.\n",
            "  'feature_fraction': trial.suggest_uniform('feature_fraction', 0.1, 1.0),\n",
            "<ipython-input-7-bd34402695c0>:13: FutureWarning: suggest_uniform has been deprecated in v3.0.0. This feature will be removed in v6.0.0. See https://github.com/optuna/optuna/releases/tag/v3.0.0. Use suggest_float instead.\n",
            "  'bagging_fraction': trial.suggest_uniform('bagging_fraction', 0.1, 1.0),\n",
            "[I 2023-07-12 14:28:20,513] Trial 36 finished with value: 33204.757401561044 and parameters: {'lambda_l1': 0.12877653880491255, 'lambda_l2': 3.6668584785201086e-08, 'num_leaves': 65, 'learning_rate': 0.463274166567873, 'feature_fraction': 0.7053169978655737, 'bagging_fraction': 0.6052758442798924, 'bagging_freq': 10, 'min_child_samples': 25}. Best is trial 12 with value: 26343.675603197094.\n",
            "<ipython-input-7-bd34402695c0>:8: FutureWarning: suggest_loguniform has been deprecated in v3.0.0. This feature will be removed in v6.0.0. See https://github.com/optuna/optuna/releases/tag/v3.0.0. Use suggest_float(..., log=True) instead.\n",
            "  'lambda_l1': trial.suggest_loguniform('lambda_l1', 1e-8, 10.0),\n",
            "<ipython-input-7-bd34402695c0>:9: FutureWarning: suggest_loguniform has been deprecated in v3.0.0. This feature will be removed in v6.0.0. See https://github.com/optuna/optuna/releases/tag/v3.0.0. Use suggest_float(..., log=True) instead.\n",
            "  'lambda_l2': trial.suggest_loguniform('lambda_l2', 1e-8, 10.0),\n",
            "<ipython-input-7-bd34402695c0>:11: FutureWarning: suggest_loguniform has been deprecated in v3.0.0. This feature will be removed in v6.0.0. See https://github.com/optuna/optuna/releases/tag/v3.0.0. Use suggest_float(..., log=True) instead.\n",
            "  'learning_rate': trial.suggest_loguniform('learning_rate', 0.01, 0.5),\n"
          ]
        },
        {
          "name": "stdout",
          "output_type": "stream",
          "text": [
            "[LightGBM] [Warning] bagging_fraction is set=0.6052758442798924, subsample=1.0 will be ignored. Current value: bagging_fraction=0.6052758442798924\n",
            "[LightGBM] [Warning] lambda_l2 is set=3.6668584785201086e-08, reg_lambda=0.0 will be ignored. Current value: lambda_l2=3.6668584785201086e-08\n",
            "[LightGBM] [Warning] lambda_l1 is set=0.12877653880491255, reg_alpha=0.0 will be ignored. Current value: lambda_l1=0.12877653880491255\n",
            "[LightGBM] [Warning] bagging_freq is set=10, subsample_freq=0 will be ignored. Current value: bagging_freq=10\n",
            "[LightGBM] [Warning] feature_fraction is set=0.7053169978655737, colsample_bytree=1.0 will be ignored. Current value: feature_fraction=0.7053169978655737\n",
            "[LightGBM] [Warning] bagging_fraction is set=0.672432131874464, subsample=1.0 will be ignored. Current value: bagging_fraction=0.672432131874464\n",
            "[LightGBM] [Warning] lambda_l2 is set=9.286285833422168e-07, reg_lambda=0.0 will be ignored. Current value: lambda_l2=9.286285833422168e-07\n",
            "[LightGBM] [Warning] lambda_l1 is set=3.0903014454305264, reg_alpha=0.0 will be ignored. Current value: lambda_l1=3.0903014454305264\n",
            "[LightGBM] [Warning] bagging_freq is set=4, subsample_freq=0 will be ignored. Current value: bagging_freq=4\n",
            "[LightGBM] [Warning] feature_fraction is set=0.8250120701576805, colsample_bytree=1.0 will be ignored. Current value: feature_fraction=0.8250120701576805\n"
          ]
        },
        {
          "name": "stderr",
          "output_type": "stream",
          "text": [
            "<ipython-input-7-bd34402695c0>:12: FutureWarning: suggest_uniform has been deprecated in v3.0.0. This feature will be removed in v6.0.0. See https://github.com/optuna/optuna/releases/tag/v3.0.0. Use suggest_float instead.\n",
            "  'feature_fraction': trial.suggest_uniform('feature_fraction', 0.1, 1.0),\n",
            "<ipython-input-7-bd34402695c0>:13: FutureWarning: suggest_uniform has been deprecated in v3.0.0. This feature will be removed in v6.0.0. See https://github.com/optuna/optuna/releases/tag/v3.0.0. Use suggest_float instead.\n",
            "  'bagging_fraction': trial.suggest_uniform('bagging_fraction', 0.1, 1.0),\n",
            "[I 2023-07-12 14:28:20,660] Trial 37 finished with value: 35167.825208887276 and parameters: {'lambda_l1': 3.0903014454305264, 'lambda_l2': 9.286285833422168e-07, 'num_leaves': 6, 'learning_rate': 0.09723679483519103, 'feature_fraction': 0.8250120701576805, 'bagging_fraction': 0.672432131874464, 'bagging_freq': 4, 'min_child_samples': 60}. Best is trial 12 with value: 26343.675603197094.\n",
            "<ipython-input-7-bd34402695c0>:8: FutureWarning: suggest_loguniform has been deprecated in v3.0.0. This feature will be removed in v6.0.0. See https://github.com/optuna/optuna/releases/tag/v3.0.0. Use suggest_float(..., log=True) instead.\n",
            "  'lambda_l1': trial.suggest_loguniform('lambda_l1', 1e-8, 10.0),\n",
            "<ipython-input-7-bd34402695c0>:9: FutureWarning: suggest_loguniform has been deprecated in v3.0.0. This feature will be removed in v6.0.0. See https://github.com/optuna/optuna/releases/tag/v3.0.0. Use suggest_float(..., log=True) instead.\n",
            "  'lambda_l2': trial.suggest_loguniform('lambda_l2', 1e-8, 10.0),\n",
            "<ipython-input-7-bd34402695c0>:11: FutureWarning: suggest_loguniform has been deprecated in v3.0.0. This feature will be removed in v6.0.0. See https://github.com/optuna/optuna/releases/tag/v3.0.0. Use suggest_float(..., log=True) instead.\n",
            "  'learning_rate': trial.suggest_loguniform('learning_rate', 0.01, 0.5),\n",
            "<ipython-input-7-bd34402695c0>:12: FutureWarning: suggest_uniform has been deprecated in v3.0.0. This feature will be removed in v6.0.0. See https://github.com/optuna/optuna/releases/tag/v3.0.0. Use suggest_float instead.\n",
            "  'feature_fraction': trial.suggest_uniform('feature_fraction', 0.1, 1.0),\n",
            "<ipython-input-7-bd34402695c0>:13: FutureWarning: suggest_uniform has been deprecated in v3.0.0. This feature will be removed in v6.0.0. See https://github.com/optuna/optuna/releases/tag/v3.0.0. Use suggest_float instead.\n",
            "  'bagging_fraction': trial.suggest_uniform('bagging_fraction', 0.1, 1.0),\n",
            "[I 2023-07-12 14:28:20,832] Trial 38 finished with value: 30673.4363763359 and parameters: {'lambda_l1': 0.20068865067552175, 'lambda_l2': 9.82969588007283e-06, 'num_leaves': 34, 'learning_rate': 0.0764830881511314, 'feature_fraction': 0.661716387591465, 'bagging_fraction': 0.8045607729372557, 'bagging_freq': 9, 'min_child_samples': 37}. Best is trial 12 with value: 26343.675603197094.\n",
            "<ipython-input-7-bd34402695c0>:8: FutureWarning: suggest_loguniform has been deprecated in v3.0.0. This feature will be removed in v6.0.0. See https://github.com/optuna/optuna/releases/tag/v3.0.0. Use suggest_float(..., log=True) instead.\n",
            "  'lambda_l1': trial.suggest_loguniform('lambda_l1', 1e-8, 10.0),\n",
            "<ipython-input-7-bd34402695c0>:9: FutureWarning: suggest_loguniform has been deprecated in v3.0.0. This feature will be removed in v6.0.0. See https://github.com/optuna/optuna/releases/tag/v3.0.0. Use suggest_float(..., log=True) instead.\n",
            "  'lambda_l2': trial.suggest_loguniform('lambda_l2', 1e-8, 10.0),\n",
            "<ipython-input-7-bd34402695c0>:11: FutureWarning: suggest_loguniform has been deprecated in v3.0.0. This feature will be removed in v6.0.0. See https://github.com/optuna/optuna/releases/tag/v3.0.0. Use suggest_float(..., log=True) instead.\n",
            "  'learning_rate': trial.suggest_loguniform('learning_rate', 0.01, 0.5),\n"
          ]
        },
        {
          "name": "stdout",
          "output_type": "stream",
          "text": [
            "[LightGBM] [Warning] bagging_fraction is set=0.8045607729372557, subsample=1.0 will be ignored. Current value: bagging_fraction=0.8045607729372557\n",
            "[LightGBM] [Warning] lambda_l2 is set=9.82969588007283e-06, reg_lambda=0.0 will be ignored. Current value: lambda_l2=9.82969588007283e-06\n",
            "[LightGBM] [Warning] lambda_l1 is set=0.20068865067552175, reg_alpha=0.0 will be ignored. Current value: lambda_l1=0.20068865067552175\n",
            "[LightGBM] [Warning] bagging_freq is set=9, subsample_freq=0 will be ignored. Current value: bagging_freq=9\n",
            "[LightGBM] [Warning] feature_fraction is set=0.661716387591465, colsample_bytree=1.0 will be ignored. Current value: feature_fraction=0.661716387591465\n",
            "[LightGBM] [Warning] bagging_fraction is set=0.8980862113496058, subsample=1.0 will be ignored. Current value: bagging_fraction=0.8980862113496058\n",
            "[LightGBM] [Warning] lambda_l2 is set=3.31328392802035e-07, reg_lambda=0.0 will be ignored. Current value: lambda_l2=3.31328392802035e-07\n",
            "[LightGBM] [Warning] lambda_l1 is set=0.7796276530450205, reg_alpha=0.0 will be ignored. Current value: lambda_l1=0.7796276530450205\n",
            "[LightGBM] [Warning] bagging_freq is set=10, subsample_freq=0 will be ignored. Current value: bagging_freq=10\n",
            "[LightGBM] [Warning] feature_fraction is set=0.5495477767536219, colsample_bytree=1.0 will be ignored. Current value: feature_fraction=0.5495477767536219\n"
          ]
        },
        {
          "name": "stderr",
          "output_type": "stream",
          "text": [
            "<ipython-input-7-bd34402695c0>:12: FutureWarning: suggest_uniform has been deprecated in v3.0.0. This feature will be removed in v6.0.0. See https://github.com/optuna/optuna/releases/tag/v3.0.0. Use suggest_float instead.\n",
            "  'feature_fraction': trial.suggest_uniform('feature_fraction', 0.1, 1.0),\n",
            "<ipython-input-7-bd34402695c0>:13: FutureWarning: suggest_uniform has been deprecated in v3.0.0. This feature will be removed in v6.0.0. See https://github.com/optuna/optuna/releases/tag/v3.0.0. Use suggest_float instead.\n",
            "  'bagging_fraction': trial.suggest_uniform('bagging_fraction', 0.1, 1.0),\n",
            "[I 2023-07-12 14:28:21,005] Trial 39 finished with value: 31192.576300764413 and parameters: {'lambda_l1': 0.7796276530450205, 'lambda_l2': 3.31328392802035e-07, 'num_leaves': 178, 'learning_rate': 0.1482407287420667, 'feature_fraction': 0.5495477767536219, 'bagging_fraction': 0.8980862113496058, 'bagging_freq': 10, 'min_child_samples': 45}. Best is trial 12 with value: 26343.675603197094.\n",
            "<ipython-input-7-bd34402695c0>:8: FutureWarning: suggest_loguniform has been deprecated in v3.0.0. This feature will be removed in v6.0.0. See https://github.com/optuna/optuna/releases/tag/v3.0.0. Use suggest_float(..., log=True) instead.\n",
            "  'lambda_l1': trial.suggest_loguniform('lambda_l1', 1e-8, 10.0),\n",
            "<ipython-input-7-bd34402695c0>:9: FutureWarning: suggest_loguniform has been deprecated in v3.0.0. This feature will be removed in v6.0.0. See https://github.com/optuna/optuna/releases/tag/v3.0.0. Use suggest_float(..., log=True) instead.\n",
            "  'lambda_l2': trial.suggest_loguniform('lambda_l2', 1e-8, 10.0),\n",
            "<ipython-input-7-bd34402695c0>:11: FutureWarning: suggest_loguniform has been deprecated in v3.0.0. This feature will be removed in v6.0.0. See https://github.com/optuna/optuna/releases/tag/v3.0.0. Use suggest_float(..., log=True) instead.\n",
            "  'learning_rate': trial.suggest_loguniform('learning_rate', 0.01, 0.5),\n",
            "<ipython-input-7-bd34402695c0>:12: FutureWarning: suggest_uniform has been deprecated in v3.0.0. This feature will be removed in v6.0.0. See https://github.com/optuna/optuna/releases/tag/v3.0.0. Use suggest_float instead.\n",
            "  'feature_fraction': trial.suggest_uniform('feature_fraction', 0.1, 1.0),\n",
            "<ipython-input-7-bd34402695c0>:13: FutureWarning: suggest_uniform has been deprecated in v3.0.0. This feature will be removed in v6.0.0. See https://github.com/optuna/optuna/releases/tag/v3.0.0. Use suggest_float instead.\n",
            "  'bagging_fraction': trial.suggest_uniform('bagging_fraction', 0.1, 1.0),\n",
            "[I 2023-07-12 14:28:21,255] Trial 40 finished with value: 29661.73286605663 and parameters: {'lambda_l1': 3.6482041111610073, 'lambda_l2': 2.43505959234663e-06, 'num_leaves': 114, 'learning_rate': 0.10694553541873433, 'feature_fraction': 0.7577743741107035, 'bagging_fraction': 0.773970736599753, 'bagging_freq': 7, 'min_child_samples': 20}. Best is trial 12 with value: 26343.675603197094.\n"
          ]
        },
        {
          "name": "stdout",
          "output_type": "stream",
          "text": [
            "[LightGBM] [Warning] bagging_fraction is set=0.773970736599753, subsample=1.0 will be ignored. Current value: bagging_fraction=0.773970736599753\n",
            "[LightGBM] [Warning] lambda_l2 is set=2.43505959234663e-06, reg_lambda=0.0 will be ignored. Current value: lambda_l2=2.43505959234663e-06\n",
            "[LightGBM] [Warning] lambda_l1 is set=3.6482041111610073, reg_alpha=0.0 will be ignored. Current value: lambda_l1=3.6482041111610073\n",
            "[LightGBM] [Warning] bagging_freq is set=7, subsample_freq=0 will be ignored. Current value: bagging_freq=7\n",
            "[LightGBM] [Warning] feature_fraction is set=0.7577743741107035, colsample_bytree=1.0 will be ignored. Current value: feature_fraction=0.7577743741107035\n"
          ]
        },
        {
          "name": "stderr",
          "output_type": "stream",
          "text": [
            "<ipython-input-7-bd34402695c0>:8: FutureWarning: suggest_loguniform has been deprecated in v3.0.0. This feature will be removed in v6.0.0. See https://github.com/optuna/optuna/releases/tag/v3.0.0. Use suggest_float(..., log=True) instead.\n",
            "  'lambda_l1': trial.suggest_loguniform('lambda_l1', 1e-8, 10.0),\n",
            "<ipython-input-7-bd34402695c0>:9: FutureWarning: suggest_loguniform has been deprecated in v3.0.0. This feature will be removed in v6.0.0. See https://github.com/optuna/optuna/releases/tag/v3.0.0. Use suggest_float(..., log=True) instead.\n",
            "  'lambda_l2': trial.suggest_loguniform('lambda_l2', 1e-8, 10.0),\n",
            "<ipython-input-7-bd34402695c0>:11: FutureWarning: suggest_loguniform has been deprecated in v3.0.0. This feature will be removed in v6.0.0. See https://github.com/optuna/optuna/releases/tag/v3.0.0. Use suggest_float(..., log=True) instead.\n",
            "  'learning_rate': trial.suggest_loguniform('learning_rate', 0.01, 0.5),\n",
            "<ipython-input-7-bd34402695c0>:12: FutureWarning: suggest_uniform has been deprecated in v3.0.0. This feature will be removed in v6.0.0. See https://github.com/optuna/optuna/releases/tag/v3.0.0. Use suggest_float instead.\n",
            "  'feature_fraction': trial.suggest_uniform('feature_fraction', 0.1, 1.0),\n",
            "<ipython-input-7-bd34402695c0>:13: FutureWarning: suggest_uniform has been deprecated in v3.0.0. This feature will be removed in v6.0.0. See https://github.com/optuna/optuna/releases/tag/v3.0.0. Use suggest_float instead.\n",
            "  'bagging_fraction': trial.suggest_uniform('bagging_fraction', 0.1, 1.0),\n"
          ]
        },
        {
          "name": "stdout",
          "output_type": "stream",
          "text": [
            "[LightGBM] [Warning] bagging_fraction is set=0.6370770352694812, subsample=1.0 will be ignored. Current value: bagging_fraction=0.6370770352694812\n",
            "[LightGBM] [Warning] lambda_l2 is set=1.4261361431741362e-07, reg_lambda=0.0 will be ignored. Current value: lambda_l2=1.4261361431741362e-07\n",
            "[LightGBM] [Warning] lambda_l1 is set=0.04180192564452847, reg_alpha=0.0 will be ignored. Current value: lambda_l1=0.04180192564452847\n",
            "[LightGBM] [Warning] bagging_freq is set=8, subsample_freq=0 will be ignored. Current value: bagging_freq=8\n",
            "[LightGBM] [Warning] feature_fraction is set=0.6224769978078554, colsample_bytree=1.0 will be ignored. Current value: feature_fraction=0.6224769978078554\n"
          ]
        },
        {
          "name": "stderr",
          "output_type": "stream",
          "text": [
            "[I 2023-07-12 14:28:21,749] Trial 41 finished with value: 29921.981949119658 and parameters: {'lambda_l1': 0.04180192564452847, 'lambda_l2': 1.4261361431741362e-07, 'num_leaves': 238, 'learning_rate': 0.19655356601732593, 'feature_fraction': 0.6224769978078554, 'bagging_fraction': 0.6370770352694812, 'bagging_freq': 8, 'min_child_samples': 5}. Best is trial 12 with value: 26343.675603197094.\n",
            "<ipython-input-7-bd34402695c0>:8: FutureWarning: suggest_loguniform has been deprecated in v3.0.0. This feature will be removed in v6.0.0. See https://github.com/optuna/optuna/releases/tag/v3.0.0. Use suggest_float(..., log=True) instead.\n",
            "  'lambda_l1': trial.suggest_loguniform('lambda_l1', 1e-8, 10.0),\n",
            "<ipython-input-7-bd34402695c0>:9: FutureWarning: suggest_loguniform has been deprecated in v3.0.0. This feature will be removed in v6.0.0. See https://github.com/optuna/optuna/releases/tag/v3.0.0. Use suggest_float(..., log=True) instead.\n",
            "  'lambda_l2': trial.suggest_loguniform('lambda_l2', 1e-8, 10.0),\n",
            "<ipython-input-7-bd34402695c0>:11: FutureWarning: suggest_loguniform has been deprecated in v3.0.0. This feature will be removed in v6.0.0. See https://github.com/optuna/optuna/releases/tag/v3.0.0. Use suggest_float(..., log=True) instead.\n",
            "  'learning_rate': trial.suggest_loguniform('learning_rate', 0.01, 0.5),\n",
            "<ipython-input-7-bd34402695c0>:12: FutureWarning: suggest_uniform has been deprecated in v3.0.0. This feature will be removed in v6.0.0. See https://github.com/optuna/optuna/releases/tag/v3.0.0. Use suggest_float instead.\n",
            "  'feature_fraction': trial.suggest_uniform('feature_fraction', 0.1, 1.0),\n",
            "<ipython-input-7-bd34402695c0>:13: FutureWarning: suggest_uniform has been deprecated in v3.0.0. This feature will be removed in v6.0.0. See https://github.com/optuna/optuna/releases/tag/v3.0.0. Use suggest_float instead.\n",
            "  'bagging_fraction': trial.suggest_uniform('bagging_fraction', 0.1, 1.0),\n",
            "[I 2023-07-12 14:28:21,950] Trial 42 finished with value: 27282.75516759984 and parameters: {'lambda_l1': 0.2896673912766436, 'lambda_l2': 3.040037359700246e-08, 'num_leaves': 25, 'learning_rate': 0.1274336482826205, 'feature_fraction': 0.691295213583881, 'bagging_fraction': 0.5669430597009371, 'bagging_freq': 8, 'min_child_samples': 6}. Best is trial 12 with value: 26343.675603197094.\n"
          ]
        },
        {
          "name": "stdout",
          "output_type": "stream",
          "text": [
            "[LightGBM] [Warning] bagging_fraction is set=0.5669430597009371, subsample=1.0 will be ignored. Current value: bagging_fraction=0.5669430597009371\n",
            "[LightGBM] [Warning] lambda_l2 is set=3.040037359700246e-08, reg_lambda=0.0 will be ignored. Current value: lambda_l2=3.040037359700246e-08\n",
            "[LightGBM] [Warning] lambda_l1 is set=0.2896673912766436, reg_alpha=0.0 will be ignored. Current value: lambda_l1=0.2896673912766436\n",
            "[LightGBM] [Warning] bagging_freq is set=8, subsample_freq=0 will be ignored. Current value: bagging_freq=8\n",
            "[LightGBM] [Warning] feature_fraction is set=0.691295213583881, colsample_bytree=1.0 will be ignored. Current value: feature_fraction=0.691295213583881\n",
            "[LightGBM] [Warning] bagging_fraction is set=0.5740517167683148, subsample=1.0 will be ignored. Current value: bagging_fraction=0.5740517167683148\n",
            "[LightGBM] [Warning] lambda_l2 is set=2.7053213320742332e-08, reg_lambda=0.0 will be ignored. Current value: lambda_l2=2.7053213320742332e-08\n",
            "[LightGBM] [Warning] lambda_l1 is set=0.8303479477832552, reg_alpha=0.0 will be ignored. Current value: lambda_l1=0.8303479477832552\n",
            "[LightGBM] [Warning] bagging_freq is set=7, subsample_freq=0 will be ignored. Current value: bagging_freq=7\n",
            "[LightGBM] [Warning] feature_fraction is set=0.698705882265805, colsample_bytree=1.0 will be ignored. Current value: feature_fraction=0.698705882265805\n"
          ]
        },
        {
          "name": "stderr",
          "output_type": "stream",
          "text": [
            "<ipython-input-7-bd34402695c0>:8: FutureWarning: suggest_loguniform has been deprecated in v3.0.0. This feature will be removed in v6.0.0. See https://github.com/optuna/optuna/releases/tag/v3.0.0. Use suggest_float(..., log=True) instead.\n",
            "  'lambda_l1': trial.suggest_loguniform('lambda_l1', 1e-8, 10.0),\n",
            "<ipython-input-7-bd34402695c0>:9: FutureWarning: suggest_loguniform has been deprecated in v3.0.0. This feature will be removed in v6.0.0. See https://github.com/optuna/optuna/releases/tag/v3.0.0. Use suggest_float(..., log=True) instead.\n",
            "  'lambda_l2': trial.suggest_loguniform('lambda_l2', 1e-8, 10.0),\n",
            "<ipython-input-7-bd34402695c0>:11: FutureWarning: suggest_loguniform has been deprecated in v3.0.0. This feature will be removed in v6.0.0. See https://github.com/optuna/optuna/releases/tag/v3.0.0. Use suggest_float(..., log=True) instead.\n",
            "  'learning_rate': trial.suggest_loguniform('learning_rate', 0.01, 0.5),\n",
            "<ipython-input-7-bd34402695c0>:12: FutureWarning: suggest_uniform has been deprecated in v3.0.0. This feature will be removed in v6.0.0. See https://github.com/optuna/optuna/releases/tag/v3.0.0. Use suggest_float instead.\n",
            "  'feature_fraction': trial.suggest_uniform('feature_fraction', 0.1, 1.0),\n",
            "<ipython-input-7-bd34402695c0>:13: FutureWarning: suggest_uniform has been deprecated in v3.0.0. This feature will be removed in v6.0.0. See https://github.com/optuna/optuna/releases/tag/v3.0.0. Use suggest_float instead.\n",
            "  'bagging_fraction': trial.suggest_uniform('bagging_fraction', 0.1, 1.0),\n",
            "[I 2023-07-12 14:28:22,192] Trial 43 finished with value: 30049.99353742749 and parameters: {'lambda_l1': 0.8303479477832552, 'lambda_l2': 2.7053213320742332e-08, 'num_leaves': 51, 'learning_rate': 0.1281709364409535, 'feature_fraction': 0.698705882265805, 'bagging_fraction': 0.5740517167683148, 'bagging_freq': 7, 'min_child_samples': 13}. Best is trial 12 with value: 26343.675603197094.\n",
            "<ipython-input-7-bd34402695c0>:8: FutureWarning: suggest_loguniform has been deprecated in v3.0.0. This feature will be removed in v6.0.0. See https://github.com/optuna/optuna/releases/tag/v3.0.0. Use suggest_float(..., log=True) instead.\n",
            "  'lambda_l1': trial.suggest_loguniform('lambda_l1', 1e-8, 10.0),\n",
            "<ipython-input-7-bd34402695c0>:9: FutureWarning: suggest_loguniform has been deprecated in v3.0.0. This feature will be removed in v6.0.0. See https://github.com/optuna/optuna/releases/tag/v3.0.0. Use suggest_float(..., log=True) instead.\n",
            "  'lambda_l2': trial.suggest_loguniform('lambda_l2', 1e-8, 10.0),\n",
            "<ipython-input-7-bd34402695c0>:11: FutureWarning: suggest_loguniform has been deprecated in v3.0.0. This feature will be removed in v6.0.0. See https://github.com/optuna/optuna/releases/tag/v3.0.0. Use suggest_float(..., log=True) instead.\n",
            "  'learning_rate': trial.suggest_loguniform('learning_rate', 0.01, 0.5),\n",
            "<ipython-input-7-bd34402695c0>:12: FutureWarning: suggest_uniform has been deprecated in v3.0.0. This feature will be removed in v6.0.0. See https://github.com/optuna/optuna/releases/tag/v3.0.0. Use suggest_float instead.\n",
            "  'feature_fraction': trial.suggest_uniform('feature_fraction', 0.1, 1.0),\n",
            "<ipython-input-7-bd34402695c0>:13: FutureWarning: suggest_uniform has been deprecated in v3.0.0. This feature will be removed in v6.0.0. See https://github.com/optuna/optuna/releases/tag/v3.0.0. Use suggest_float instead.\n",
            "  'bagging_fraction': trial.suggest_uniform('bagging_fraction', 0.1, 1.0),\n",
            "[I 2023-07-12 14:28:22,438] Trial 44 finished with value: 28679.734579019365 and parameters: {'lambda_l1': 0.20988733411851754, 'lambda_l2': 3.8075480603990266e-08, 'num_leaves': 33, 'learning_rate': 0.07107138926518125, 'feature_fraction': 0.7315157445737274, 'bagging_fraction': 0.6826457889882136, 'bagging_freq': 9, 'min_child_samples': 10}. Best is trial 12 with value: 26343.675603197094.\n"
          ]
        },
        {
          "name": "stdout",
          "output_type": "stream",
          "text": [
            "[LightGBM] [Warning] bagging_fraction is set=0.6826457889882136, subsample=1.0 will be ignored. Current value: bagging_fraction=0.6826457889882136\n",
            "[LightGBM] [Warning] lambda_l2 is set=3.8075480603990266e-08, reg_lambda=0.0 will be ignored. Current value: lambda_l2=3.8075480603990266e-08\n",
            "[LightGBM] [Warning] lambda_l1 is set=0.20988733411851754, reg_alpha=0.0 will be ignored. Current value: lambda_l1=0.20988733411851754\n",
            "[LightGBM] [Warning] bagging_freq is set=9, subsample_freq=0 will be ignored. Current value: bagging_freq=9\n",
            "[LightGBM] [Warning] feature_fraction is set=0.7315157445737274, colsample_bytree=1.0 will be ignored. Current value: feature_fraction=0.7315157445737274\n"
          ]
        },
        {
          "name": "stderr",
          "output_type": "stream",
          "text": [
            "<ipython-input-7-bd34402695c0>:8: FutureWarning: suggest_loguniform has been deprecated in v3.0.0. This feature will be removed in v6.0.0. See https://github.com/optuna/optuna/releases/tag/v3.0.0. Use suggest_float(..., log=True) instead.\n",
            "  'lambda_l1': trial.suggest_loguniform('lambda_l1', 1e-8, 10.0),\n",
            "<ipython-input-7-bd34402695c0>:9: FutureWarning: suggest_loguniform has been deprecated in v3.0.0. This feature will be removed in v6.0.0. See https://github.com/optuna/optuna/releases/tag/v3.0.0. Use suggest_float(..., log=True) instead.\n",
            "  'lambda_l2': trial.suggest_loguniform('lambda_l2', 1e-8, 10.0),\n",
            "<ipython-input-7-bd34402695c0>:11: FutureWarning: suggest_loguniform has been deprecated in v3.0.0. This feature will be removed in v6.0.0. See https://github.com/optuna/optuna/releases/tag/v3.0.0. Use suggest_float(..., log=True) instead.\n",
            "  'learning_rate': trial.suggest_loguniform('learning_rate', 0.01, 0.5),\n",
            "<ipython-input-7-bd34402695c0>:12: FutureWarning: suggest_uniform has been deprecated in v3.0.0. This feature will be removed in v6.0.0. See https://github.com/optuna/optuna/releases/tag/v3.0.0. Use suggest_float instead.\n",
            "  'feature_fraction': trial.suggest_uniform('feature_fraction', 0.1, 1.0),\n",
            "<ipython-input-7-bd34402695c0>:13: FutureWarning: suggest_uniform has been deprecated in v3.0.0. This feature will be removed in v6.0.0. See https://github.com/optuna/optuna/releases/tag/v3.0.0. Use suggest_float instead.\n",
            "  'bagging_fraction': trial.suggest_uniform('bagging_fraction', 0.1, 1.0),\n",
            "[I 2023-07-12 14:28:22,573] Trial 45 finished with value: 37315.30872342941 and parameters: {'lambda_l1': 4.333051471628605, 'lambda_l2': 1.066237148681359e-08, 'num_leaves': 7, 'learning_rate': 0.10642405880384778, 'feature_fraction': 0.6662772057466203, 'bagging_fraction': 0.8438645250848565, 'bagging_freq': 8, 'min_child_samples': 100}. Best is trial 12 with value: 26343.675603197094.\n",
            "<ipython-input-7-bd34402695c0>:8: FutureWarning: suggest_loguniform has been deprecated in v3.0.0. This feature will be removed in v6.0.0. See https://github.com/optuna/optuna/releases/tag/v3.0.0. Use suggest_float(..., log=True) instead.\n",
            "  'lambda_l1': trial.suggest_loguniform('lambda_l1', 1e-8, 10.0),\n",
            "<ipython-input-7-bd34402695c0>:9: FutureWarning: suggest_loguniform has been deprecated in v3.0.0. This feature will be removed in v6.0.0. See https://github.com/optuna/optuna/releases/tag/v3.0.0. Use suggest_float(..., log=True) instead.\n",
            "  'lambda_l2': trial.suggest_loguniform('lambda_l2', 1e-8, 10.0),\n",
            "<ipython-input-7-bd34402695c0>:11: FutureWarning: suggest_loguniform has been deprecated in v3.0.0. This feature will be removed in v6.0.0. See https://github.com/optuna/optuna/releases/tag/v3.0.0. Use suggest_float(..., log=True) instead.\n",
            "  'learning_rate': trial.suggest_loguniform('learning_rate', 0.01, 0.5),\n",
            "<ipython-input-7-bd34402695c0>:12: FutureWarning: suggest_uniform has been deprecated in v3.0.0. This feature will be removed in v6.0.0. See https://github.com/optuna/optuna/releases/tag/v3.0.0. Use suggest_float instead.\n",
            "  'feature_fraction': trial.suggest_uniform('feature_fraction', 0.1, 1.0),\n",
            "<ipython-input-7-bd34402695c0>:13: FutureWarning: suggest_uniform has been deprecated in v3.0.0. This feature will be removed in v6.0.0. See https://github.com/optuna/optuna/releases/tag/v3.0.0. Use suggest_float instead.\n",
            "  'bagging_fraction': trial.suggest_uniform('bagging_fraction', 0.1, 1.0),\n"
          ]
        },
        {
          "name": "stdout",
          "output_type": "stream",
          "text": [
            "[LightGBM] [Warning] bagging_fraction is set=0.8438645250848565, subsample=1.0 will be ignored. Current value: bagging_fraction=0.8438645250848565\n",
            "[LightGBM] [Warning] lambda_l2 is set=1.066237148681359e-08, reg_lambda=0.0 will be ignored. Current value: lambda_l2=1.066237148681359e-08\n",
            "[LightGBM] [Warning] lambda_l1 is set=4.333051471628605, reg_alpha=0.0 will be ignored. Current value: lambda_l1=4.333051471628605\n",
            "[LightGBM] [Warning] bagging_freq is set=8, subsample_freq=0 will be ignored. Current value: bagging_freq=8\n",
            "[LightGBM] [Warning] feature_fraction is set=0.6662772057466203, colsample_bytree=1.0 will be ignored. Current value: feature_fraction=0.6662772057466203\n",
            "[LightGBM] [Warning] bagging_fraction is set=0.4812172057511941, subsample=1.0 will be ignored. Current value: bagging_fraction=0.4812172057511941\n",
            "[LightGBM] [Warning] lambda_l2 is set=1.242566594856528e-07, reg_lambda=0.0 will be ignored. Current value: lambda_l2=1.242566594856528e-07\n",
            "[LightGBM] [Warning] lambda_l1 is set=1.5973187866312348, reg_alpha=0.0 will be ignored. Current value: lambda_l1=1.5973187866312348\n",
            "[LightGBM] [Warning] bagging_freq is set=6, subsample_freq=0 will be ignored. Current value: bagging_freq=6\n",
            "[LightGBM] [Warning] feature_fraction is set=0.544279851036998, colsample_bytree=1.0 will be ignored. Current value: feature_fraction=0.544279851036998\n"
          ]
        },
        {
          "name": "stderr",
          "output_type": "stream",
          "text": [
            "[I 2023-07-12 14:28:22,787] Trial 46 finished with value: 28720.59316822052 and parameters: {'lambda_l1': 1.5973187866312348, 'lambda_l2': 1.242566594856528e-07, 'num_leaves': 28, 'learning_rate': 0.07828491747284934, 'feature_fraction': 0.544279851036998, 'bagging_fraction': 0.4812172057511941, 'bagging_freq': 6, 'min_child_samples': 6}. Best is trial 12 with value: 26343.675603197094.\n",
            "<ipython-input-7-bd34402695c0>:8: FutureWarning: suggest_loguniform has been deprecated in v3.0.0. This feature will be removed in v6.0.0. See https://github.com/optuna/optuna/releases/tag/v3.0.0. Use suggest_float(..., log=True) instead.\n",
            "  'lambda_l1': trial.suggest_loguniform('lambda_l1', 1e-8, 10.0),\n",
            "<ipython-input-7-bd34402695c0>:9: FutureWarning: suggest_loguniform has been deprecated in v3.0.0. This feature will be removed in v6.0.0. See https://github.com/optuna/optuna/releases/tag/v3.0.0. Use suggest_float(..., log=True) instead.\n",
            "  'lambda_l2': trial.suggest_loguniform('lambda_l2', 1e-8, 10.0),\n",
            "<ipython-input-7-bd34402695c0>:11: FutureWarning: suggest_loguniform has been deprecated in v3.0.0. This feature will be removed in v6.0.0. See https://github.com/optuna/optuna/releases/tag/v3.0.0. Use suggest_float(..., log=True) instead.\n",
            "  'learning_rate': trial.suggest_loguniform('learning_rate', 0.01, 0.5),\n",
            "<ipython-input-7-bd34402695c0>:12: FutureWarning: suggest_uniform has been deprecated in v3.0.0. This feature will be removed in v6.0.0. See https://github.com/optuna/optuna/releases/tag/v3.0.0. Use suggest_float instead.\n",
            "  'feature_fraction': trial.suggest_uniform('feature_fraction', 0.1, 1.0),\n",
            "<ipython-input-7-bd34402695c0>:13: FutureWarning: suggest_uniform has been deprecated in v3.0.0. This feature will be removed in v6.0.0. See https://github.com/optuna/optuna/releases/tag/v3.0.0. Use suggest_float instead.\n",
            "  'bagging_fraction': trial.suggest_uniform('bagging_fraction', 0.1, 1.0),\n",
            "[I 2023-07-12 14:28:22,998] Trial 47 finished with value: 30535.017275987284 and parameters: {'lambda_l1': 0.48328503767010084, 'lambda_l2': 8.09371025934211e-08, 'num_leaves': 57, 'learning_rate': 0.057558547600714265, 'feature_fraction': 0.4538076651088277, 'bagging_fraction': 0.728495896895194, 'bagging_freq': 5, 'min_child_samples': 15}. Best is trial 12 with value: 26343.675603197094.\n"
          ]
        },
        {
          "name": "stdout",
          "output_type": "stream",
          "text": [
            "[LightGBM] [Warning] bagging_fraction is set=0.728495896895194, subsample=1.0 will be ignored. Current value: bagging_fraction=0.728495896895194\n",
            "[LightGBM] [Warning] lambda_l2 is set=8.09371025934211e-08, reg_lambda=0.0 will be ignored. Current value: lambda_l2=8.09371025934211e-08\n",
            "[LightGBM] [Warning] lambda_l1 is set=0.48328503767010084, reg_alpha=0.0 will be ignored. Current value: lambda_l1=0.48328503767010084\n",
            "[LightGBM] [Warning] bagging_freq is set=5, subsample_freq=0 will be ignored. Current value: bagging_freq=5\n",
            "[LightGBM] [Warning] feature_fraction is set=0.4538076651088277, colsample_bytree=1.0 will be ignored. Current value: feature_fraction=0.4538076651088277\n"
          ]
        },
        {
          "name": "stderr",
          "output_type": "stream",
          "text": [
            "<ipython-input-7-bd34402695c0>:8: FutureWarning: suggest_loguniform has been deprecated in v3.0.0. This feature will be removed in v6.0.0. See https://github.com/optuna/optuna/releases/tag/v3.0.0. Use suggest_float(..., log=True) instead.\n",
            "  'lambda_l1': trial.suggest_loguniform('lambda_l1', 1e-8, 10.0),\n",
            "<ipython-input-7-bd34402695c0>:9: FutureWarning: suggest_loguniform has been deprecated in v3.0.0. This feature will be removed in v6.0.0. See https://github.com/optuna/optuna/releases/tag/v3.0.0. Use suggest_float(..., log=True) instead.\n",
            "  'lambda_l2': trial.suggest_loguniform('lambda_l2', 1e-8, 10.0),\n",
            "<ipython-input-7-bd34402695c0>:11: FutureWarning: suggest_loguniform has been deprecated in v3.0.0. This feature will be removed in v6.0.0. See https://github.com/optuna/optuna/releases/tag/v3.0.0. Use suggest_float(..., log=True) instead.\n",
            "  'learning_rate': trial.suggest_loguniform('learning_rate', 0.01, 0.5),\n",
            "<ipython-input-7-bd34402695c0>:12: FutureWarning: suggest_uniform has been deprecated in v3.0.0. This feature will be removed in v6.0.0. See https://github.com/optuna/optuna/releases/tag/v3.0.0. Use suggest_float instead.\n",
            "  'feature_fraction': trial.suggest_uniform('feature_fraction', 0.1, 1.0),\n",
            "<ipython-input-7-bd34402695c0>:13: FutureWarning: suggest_uniform has been deprecated in v3.0.0. This feature will be removed in v6.0.0. See https://github.com/optuna/optuna/releases/tag/v3.0.0. Use suggest_float instead.\n",
            "  'bagging_fraction': trial.suggest_uniform('bagging_fraction', 0.1, 1.0),\n"
          ]
        },
        {
          "name": "stdout",
          "output_type": "stream",
          "text": [
            "[LightGBM] [Warning] bagging_fraction is set=0.5686103097273125, subsample=1.0 will be ignored. Current value: bagging_fraction=0.5686103097273125\n",
            "[LightGBM] [Warning] lambda_l2 is set=2.271620376423035e-08, reg_lambda=0.0 will be ignored. Current value: lambda_l2=2.271620376423035e-08\n",
            "[LightGBM] [Warning] lambda_l1 is set=0.0719433382677167, reg_alpha=0.0 will be ignored. Current value: lambda_l1=0.0719433382677167\n",
            "[LightGBM] [Warning] bagging_freq is set=8, subsample_freq=0 will be ignored. Current value: bagging_freq=8\n",
            "[LightGBM] [Warning] feature_fraction is set=0.6138191760644762, colsample_bytree=1.0 will be ignored. Current value: feature_fraction=0.6138191760644762\n"
          ]
        },
        {
          "name": "stderr",
          "output_type": "stream",
          "text": [
            "[I 2023-07-12 14:28:23,317] Trial 48 finished with value: 28601.173216975614 and parameters: {'lambda_l1': 0.0719433382677167, 'lambda_l2': 2.271620376423035e-08, 'num_leaves': 86, 'learning_rate': 0.14159041736053096, 'feature_fraction': 0.6138191760644762, 'bagging_fraction': 0.5686103097273125, 'bagging_freq': 8, 'min_child_samples': 8}. Best is trial 12 with value: 26343.675603197094.\n",
            "<ipython-input-7-bd34402695c0>:8: FutureWarning: suggest_loguniform has been deprecated in v3.0.0. This feature will be removed in v6.0.0. See https://github.com/optuna/optuna/releases/tag/v3.0.0. Use suggest_float(..., log=True) instead.\n",
            "  'lambda_l1': trial.suggest_loguniform('lambda_l1', 1e-8, 10.0),\n",
            "<ipython-input-7-bd34402695c0>:9: FutureWarning: suggest_loguniform has been deprecated in v3.0.0. This feature will be removed in v6.0.0. See https://github.com/optuna/optuna/releases/tag/v3.0.0. Use suggest_float(..., log=True) instead.\n",
            "  'lambda_l2': trial.suggest_loguniform('lambda_l2', 1e-8, 10.0),\n",
            "<ipython-input-7-bd34402695c0>:11: FutureWarning: suggest_loguniform has been deprecated in v3.0.0. This feature will be removed in v6.0.0. See https://github.com/optuna/optuna/releases/tag/v3.0.0. Use suggest_float(..., log=True) instead.\n",
            "  'learning_rate': trial.suggest_loguniform('learning_rate', 0.01, 0.5),\n",
            "<ipython-input-7-bd34402695c0>:12: FutureWarning: suggest_uniform has been deprecated in v3.0.0. This feature will be removed in v6.0.0. See https://github.com/optuna/optuna/releases/tag/v3.0.0. Use suggest_float instead.\n",
            "  'feature_fraction': trial.suggest_uniform('feature_fraction', 0.1, 1.0),\n",
            "<ipython-input-7-bd34402695c0>:13: FutureWarning: suggest_uniform has been deprecated in v3.0.0. This feature will be removed in v6.0.0. See https://github.com/optuna/optuna/releases/tag/v3.0.0. Use suggest_float instead.\n",
            "  'bagging_fraction': trial.suggest_uniform('bagging_fraction', 0.1, 1.0),\n",
            "[I 2023-07-12 14:28:23,502] Trial 49 finished with value: 30033.934144162606 and parameters: {'lambda_l1': 3.5910040548790366e-05, 'lambda_l2': 0.0005851272033937136, 'num_leaves': 46, 'learning_rate': 0.08881655098466315, 'feature_fraction': 0.6620828885450093, 'bagging_fraction': 0.6641602427312163, 'bagging_freq': 7, 'min_child_samples': 20}. Best is trial 12 with value: 26343.675603197094.\n",
            "<ipython-input-7-bd34402695c0>:8: FutureWarning: suggest_loguniform has been deprecated in v3.0.0. This feature will be removed in v6.0.0. See https://github.com/optuna/optuna/releases/tag/v3.0.0. Use suggest_float(..., log=True) instead.\n",
            "  'lambda_l1': trial.suggest_loguniform('lambda_l1', 1e-8, 10.0),\n",
            "<ipython-input-7-bd34402695c0>:9: FutureWarning: suggest_loguniform has been deprecated in v3.0.0. This feature will be removed in v6.0.0. See https://github.com/optuna/optuna/releases/tag/v3.0.0. Use suggest_float(..., log=True) instead.\n",
            "  'lambda_l2': trial.suggest_loguniform('lambda_l2', 1e-8, 10.0),\n"
          ]
        },
        {
          "name": "stdout",
          "output_type": "stream",
          "text": [
            "[LightGBM] [Warning] bagging_fraction is set=0.6641602427312163, subsample=1.0 will be ignored. Current value: bagging_fraction=0.6641602427312163\n",
            "[LightGBM] [Warning] lambda_l2 is set=0.0005851272033937136, reg_lambda=0.0 will be ignored. Current value: lambda_l2=0.0005851272033937136\n",
            "[LightGBM] [Warning] lambda_l1 is set=3.5910040548790366e-05, reg_alpha=0.0 will be ignored. Current value: lambda_l1=3.5910040548790366e-05\n",
            "[LightGBM] [Warning] bagging_freq is set=7, subsample_freq=0 will be ignored. Current value: bagging_freq=7\n",
            "[LightGBM] [Warning] feature_fraction is set=0.6620828885450093, colsample_bytree=1.0 will be ignored. Current value: feature_fraction=0.6620828885450093\n",
            "[LightGBM] [Warning] bagging_fraction is set=0.9530757154408271, subsample=1.0 will be ignored. Current value: bagging_fraction=0.9530757154408271\n",
            "[LightGBM] [Warning] lambda_l2 is set=2.705215615923687e-07, reg_lambda=0.0 will be ignored. Current value: lambda_l2=2.705215615923687e-07\n",
            "[LightGBM] [Warning] lambda_l1 is set=5.206155817748219, reg_alpha=0.0 will be ignored. Current value: lambda_l1=5.206155817748219\n",
            "[LightGBM] [Warning] bagging_freq is set=10, subsample_freq=0 will be ignored. Current value: bagging_freq=10\n",
            "[LightGBM] [Warning] feature_fraction is set=0.5873568223556513, colsample_bytree=1.0 will be ignored. Current value: feature_fraction=0.5873568223556513\n"
          ]
        },
        {
          "name": "stderr",
          "output_type": "stream",
          "text": [
            "<ipython-input-7-bd34402695c0>:11: FutureWarning: suggest_loguniform has been deprecated in v3.0.0. This feature will be removed in v6.0.0. See https://github.com/optuna/optuna/releases/tag/v3.0.0. Use suggest_float(..., log=True) instead.\n",
            "  'learning_rate': trial.suggest_loguniform('learning_rate', 0.01, 0.5),\n",
            "<ipython-input-7-bd34402695c0>:12: FutureWarning: suggest_uniform has been deprecated in v3.0.0. This feature will be removed in v6.0.0. See https://github.com/optuna/optuna/releases/tag/v3.0.0. Use suggest_float instead.\n",
            "  'feature_fraction': trial.suggest_uniform('feature_fraction', 0.1, 1.0),\n",
            "<ipython-input-7-bd34402695c0>:13: FutureWarning: suggest_uniform has been deprecated in v3.0.0. This feature will be removed in v6.0.0. See https://github.com/optuna/optuna/releases/tag/v3.0.0. Use suggest_float instead.\n",
            "  'bagging_fraction': trial.suggest_uniform('bagging_fraction', 0.1, 1.0),\n",
            "[I 2023-07-12 14:28:23,652] Trial 50 finished with value: 33642.68457522716 and parameters: {'lambda_l1': 5.206155817748219, 'lambda_l2': 2.705215615923687e-07, 'num_leaves': 15, 'learning_rate': 0.15889776576199127, 'feature_fraction': 0.5873568223556513, 'bagging_fraction': 0.9530757154408271, 'bagging_freq': 10, 'min_child_samples': 79}. Best is trial 12 with value: 26343.675603197094.\n",
            "<ipython-input-7-bd34402695c0>:8: FutureWarning: suggest_loguniform has been deprecated in v3.0.0. This feature will be removed in v6.0.0. See https://github.com/optuna/optuna/releases/tag/v3.0.0. Use suggest_float(..., log=True) instead.\n",
            "  'lambda_l1': trial.suggest_loguniform('lambda_l1', 1e-8, 10.0),\n",
            "<ipython-input-7-bd34402695c0>:9: FutureWarning: suggest_loguniform has been deprecated in v3.0.0. This feature will be removed in v6.0.0. See https://github.com/optuna/optuna/releases/tag/v3.0.0. Use suggest_float(..., log=True) instead.\n",
            "  'lambda_l2': trial.suggest_loguniform('lambda_l2', 1e-8, 10.0),\n",
            "<ipython-input-7-bd34402695c0>:11: FutureWarning: suggest_loguniform has been deprecated in v3.0.0. This feature will be removed in v6.0.0. See https://github.com/optuna/optuna/releases/tag/v3.0.0. Use suggest_float(..., log=True) instead.\n",
            "  'learning_rate': trial.suggest_loguniform('learning_rate', 0.01, 0.5),\n",
            "<ipython-input-7-bd34402695c0>:12: FutureWarning: suggest_uniform has been deprecated in v3.0.0. This feature will be removed in v6.0.0. See https://github.com/optuna/optuna/releases/tag/v3.0.0. Use suggest_float instead.\n",
            "  'feature_fraction': trial.suggest_uniform('feature_fraction', 0.1, 1.0),\n",
            "<ipython-input-7-bd34402695c0>:13: FutureWarning: suggest_uniform has been deprecated in v3.0.0. This feature will be removed in v6.0.0. See https://github.com/optuna/optuna/releases/tag/v3.0.0. Use suggest_float instead.\n",
            "  'bagging_fraction': trial.suggest_uniform('bagging_fraction', 0.1, 1.0),\n"
          ]
        },
        {
          "name": "stdout",
          "output_type": "stream",
          "text": [
            "[LightGBM] [Warning] bagging_fraction is set=0.5792718983837488, subsample=1.0 will be ignored. Current value: bagging_fraction=0.5792718983837488\n",
            "[LightGBM] [Warning] lambda_l2 is set=2.4572404419806102e-08, reg_lambda=0.0 will be ignored. Current value: lambda_l2=2.4572404419806102e-08\n",
            "[LightGBM] [Warning] lambda_l1 is set=0.07504967977920222, reg_alpha=0.0 will be ignored. Current value: lambda_l1=0.07504967977920222\n",
            "[LightGBM] [Warning] bagging_freq is set=8, subsample_freq=0 will be ignored. Current value: bagging_freq=8\n",
            "[LightGBM] [Warning] feature_fraction is set=0.6249672536354894, colsample_bytree=1.0 will be ignored. Current value: feature_fraction=0.6249672536354894\n"
          ]
        },
        {
          "name": "stderr",
          "output_type": "stream",
          "text": [
            "[I 2023-07-12 14:28:23,967] Trial 51 finished with value: 28098.034209377718 and parameters: {'lambda_l1': 0.07504967977920222, 'lambda_l2': 2.4572404419806102e-08, 'num_leaves': 82, 'learning_rate': 0.13163862741518642, 'feature_fraction': 0.6249672536354894, 'bagging_fraction': 0.5792718983837488, 'bagging_freq': 8, 'min_child_samples': 9}. Best is trial 12 with value: 26343.675603197094.\n",
            "<ipython-input-7-bd34402695c0>:8: FutureWarning: suggest_loguniform has been deprecated in v3.0.0. This feature will be removed in v6.0.0. See https://github.com/optuna/optuna/releases/tag/v3.0.0. Use suggest_float(..., log=True) instead.\n",
            "  'lambda_l1': trial.suggest_loguniform('lambda_l1', 1e-8, 10.0),\n",
            "<ipython-input-7-bd34402695c0>:9: FutureWarning: suggest_loguniform has been deprecated in v3.0.0. This feature will be removed in v6.0.0. See https://github.com/optuna/optuna/releases/tag/v3.0.0. Use suggest_float(..., log=True) instead.\n",
            "  'lambda_l2': trial.suggest_loguniform('lambda_l2', 1e-8, 10.0),\n",
            "<ipython-input-7-bd34402695c0>:11: FutureWarning: suggest_loguniform has been deprecated in v3.0.0. This feature will be removed in v6.0.0. See https://github.com/optuna/optuna/releases/tag/v3.0.0. Use suggest_float(..., log=True) instead.\n",
            "  'learning_rate': trial.suggest_loguniform('learning_rate', 0.01, 0.5),\n",
            "<ipython-input-7-bd34402695c0>:12: FutureWarning: suggest_uniform has been deprecated in v3.0.0. This feature will be removed in v6.0.0. See https://github.com/optuna/optuna/releases/tag/v3.0.0. Use suggest_float instead.\n",
            "  'feature_fraction': trial.suggest_uniform('feature_fraction', 0.1, 1.0),\n",
            "<ipython-input-7-bd34402695c0>:13: FutureWarning: suggest_uniform has been deprecated in v3.0.0. This feature will be removed in v6.0.0. See https://github.com/optuna/optuna/releases/tag/v3.0.0. Use suggest_float instead.\n",
            "  'bagging_fraction': trial.suggest_uniform('bagging_fraction', 0.1, 1.0),\n"
          ]
        },
        {
          "name": "stdout",
          "output_type": "stream",
          "text": [
            "[LightGBM] [Warning] bagging_fraction is set=0.4627807382413359, subsample=1.0 will be ignored. Current value: bagging_fraction=0.4627807382413359\n",
            "[LightGBM] [Warning] lambda_l2 is set=6.335030277881395e-08, reg_lambda=0.0 will be ignored. Current value: lambda_l2=6.335030277881395e-08\n",
            "[LightGBM] [Warning] lambda_l1 is set=0.26683945860685415, reg_alpha=0.0 will be ignored. Current value: lambda_l1=0.26683945860685415\n",
            "[LightGBM] [Warning] bagging_freq is set=9, subsample_freq=0 will be ignored. Current value: bagging_freq=9\n",
            "[LightGBM] [Warning] feature_fraction is set=0.5518443347234878, colsample_bytree=1.0 will be ignored. Current value: feature_fraction=0.5518443347234878\n"
          ]
        },
        {
          "name": "stderr",
          "output_type": "stream",
          "text": [
            "[I 2023-07-12 14:28:24,345] Trial 52 finished with value: 26930.383712703606 and parameters: {'lambda_l1': 0.26683945860685415, 'lambda_l2': 6.335030277881395e-08, 'num_leaves': 117, 'learning_rate': 0.12426827245102869, 'feature_fraction': 0.5518443347234878, 'bagging_fraction': 0.4627807382413359, 'bagging_freq': 9, 'min_child_samples': 4}. Best is trial 12 with value: 26343.675603197094.\n",
            "<ipython-input-7-bd34402695c0>:8: FutureWarning: suggest_loguniform has been deprecated in v3.0.0. This feature will be removed in v6.0.0. See https://github.com/optuna/optuna/releases/tag/v3.0.0. Use suggest_float(..., log=True) instead.\n",
            "  'lambda_l1': trial.suggest_loguniform('lambda_l1', 1e-8, 10.0),\n",
            "<ipython-input-7-bd34402695c0>:9: FutureWarning: suggest_loguniform has been deprecated in v3.0.0. This feature will be removed in v6.0.0. See https://github.com/optuna/optuna/releases/tag/v3.0.0. Use suggest_float(..., log=True) instead.\n",
            "  'lambda_l2': trial.suggest_loguniform('lambda_l2', 1e-8, 10.0),\n",
            "<ipython-input-7-bd34402695c0>:11: FutureWarning: suggest_loguniform has been deprecated in v3.0.0. This feature will be removed in v6.0.0. See https://github.com/optuna/optuna/releases/tag/v3.0.0. Use suggest_float(..., log=True) instead.\n",
            "  'learning_rate': trial.suggest_loguniform('learning_rate', 0.01, 0.5),\n",
            "<ipython-input-7-bd34402695c0>:12: FutureWarning: suggest_uniform has been deprecated in v3.0.0. This feature will be removed in v6.0.0. See https://github.com/optuna/optuna/releases/tag/v3.0.0. Use suggest_float instead.\n",
            "  'feature_fraction': trial.suggest_uniform('feature_fraction', 0.1, 1.0),\n",
            "<ipython-input-7-bd34402695c0>:13: FutureWarning: suggest_uniform has been deprecated in v3.0.0. This feature will be removed in v6.0.0. See https://github.com/optuna/optuna/releases/tag/v3.0.0. Use suggest_float instead.\n",
            "  'bagging_fraction': trial.suggest_uniform('bagging_fraction', 0.1, 1.0),\n"
          ]
        },
        {
          "name": "stdout",
          "output_type": "stream",
          "text": [
            "[LightGBM] [Warning] bagging_fraction is set=0.4092746158407806, subsample=1.0 will be ignored. Current value: bagging_fraction=0.4092746158407806\n",
            "[LightGBM] [Warning] lambda_l2 is set=5.217640418576907e-08, reg_lambda=0.0 will be ignored. Current value: lambda_l2=5.217640418576907e-08\n",
            "[LightGBM] [Warning] lambda_l1 is set=0.02716701124863773, reg_alpha=0.0 will be ignored. Current value: lambda_l1=0.02716701124863773\n",
            "[LightGBM] [Warning] bagging_freq is set=9, subsample_freq=0 will be ignored. Current value: bagging_freq=9\n",
            "[LightGBM] [Warning] feature_fraction is set=0.5312734132991059, colsample_bytree=1.0 will be ignored. Current value: feature_fraction=0.5312734132991059\n"
          ]
        },
        {
          "name": "stderr",
          "output_type": "stream",
          "text": [
            "[I 2023-07-12 14:28:24,755] Trial 53 finished with value: 28805.01098077616 and parameters: {'lambda_l1': 0.02716701124863773, 'lambda_l2': 5.217640418576907e-08, 'num_leaves': 114, 'learning_rate': 0.1165455942712333, 'feature_fraction': 0.5312734132991059, 'bagging_fraction': 0.4092746158407806, 'bagging_freq': 9, 'min_child_samples': 3}. Best is trial 12 with value: 26343.675603197094.\n",
            "<ipython-input-7-bd34402695c0>:8: FutureWarning: suggest_loguniform has been deprecated in v3.0.0. This feature will be removed in v6.0.0. See https://github.com/optuna/optuna/releases/tag/v3.0.0. Use suggest_float(..., log=True) instead.\n",
            "  'lambda_l1': trial.suggest_loguniform('lambda_l1', 1e-8, 10.0),\n",
            "<ipython-input-7-bd34402695c0>:9: FutureWarning: suggest_loguniform has been deprecated in v3.0.0. This feature will be removed in v6.0.0. See https://github.com/optuna/optuna/releases/tag/v3.0.0. Use suggest_float(..., log=True) instead.\n",
            "  'lambda_l2': trial.suggest_loguniform('lambda_l2', 1e-8, 10.0),\n",
            "<ipython-input-7-bd34402695c0>:11: FutureWarning: suggest_loguniform has been deprecated in v3.0.0. This feature will be removed in v6.0.0. See https://github.com/optuna/optuna/releases/tag/v3.0.0. Use suggest_float(..., log=True) instead.\n",
            "  'learning_rate': trial.suggest_loguniform('learning_rate', 0.01, 0.5),\n",
            "<ipython-input-7-bd34402695c0>:12: FutureWarning: suggest_uniform has been deprecated in v3.0.0. This feature will be removed in v6.0.0. See https://github.com/optuna/optuna/releases/tag/v3.0.0. Use suggest_float instead.\n",
            "  'feature_fraction': trial.suggest_uniform('feature_fraction', 0.1, 1.0),\n",
            "<ipython-input-7-bd34402695c0>:13: FutureWarning: suggest_uniform has been deprecated in v3.0.0. This feature will be removed in v6.0.0. See https://github.com/optuna/optuna/releases/tag/v3.0.0. Use suggest_float instead.\n",
            "  'bagging_fraction': trial.suggest_uniform('bagging_fraction', 0.1, 1.0),\n"
          ]
        },
        {
          "name": "stdout",
          "output_type": "stream",
          "text": [
            "[LightGBM] [Warning] bagging_fraction is set=0.4811708561542039, subsample=1.0 will be ignored. Current value: bagging_fraction=0.4811708561542039\n",
            "[LightGBM] [Warning] lambda_l2 is set=3.851775820809338e-07, reg_lambda=0.0 will be ignored. Current value: lambda_l2=3.851775820809338e-07\n",
            "[LightGBM] [Warning] lambda_l1 is set=0.2521816337177142, reg_alpha=0.0 will be ignored. Current value: lambda_l1=0.2521816337177142\n",
            "[LightGBM] [Warning] bagging_freq is set=9, subsample_freq=0 will be ignored. Current value: bagging_freq=9\n",
            "[LightGBM] [Warning] feature_fraction is set=0.5489899250547163, colsample_bytree=1.0 will be ignored. Current value: feature_fraction=0.5489899250547163\n"
          ]
        },
        {
          "name": "stderr",
          "output_type": "stream",
          "text": [
            "[I 2023-07-12 14:28:25,358] Trial 54 finished with value: 33574.453893278245 and parameters: {'lambda_l1': 0.2521816337177142, 'lambda_l2': 3.851775820809338e-07, 'num_leaves': 132, 'learning_rate': 0.17242653347329376, 'feature_fraction': 0.5489899250547163, 'bagging_fraction': 0.4811708561542039, 'bagging_freq': 9, 'min_child_samples': 1}. Best is trial 12 with value: 26343.675603197094.\n",
            "<ipython-input-7-bd34402695c0>:8: FutureWarning: suggest_loguniform has been deprecated in v3.0.0. This feature will be removed in v6.0.0. See https://github.com/optuna/optuna/releases/tag/v3.0.0. Use suggest_float(..., log=True) instead.\n",
            "  'lambda_l1': trial.suggest_loguniform('lambda_l1', 1e-8, 10.0),\n",
            "<ipython-input-7-bd34402695c0>:9: FutureWarning: suggest_loguniform has been deprecated in v3.0.0. This feature will be removed in v6.0.0. See https://github.com/optuna/optuna/releases/tag/v3.0.0. Use suggest_float(..., log=True) instead.\n",
            "  'lambda_l2': trial.suggest_loguniform('lambda_l2', 1e-8, 10.0),\n",
            "<ipython-input-7-bd34402695c0>:11: FutureWarning: suggest_loguniform has been deprecated in v3.0.0. This feature will be removed in v6.0.0. See https://github.com/optuna/optuna/releases/tag/v3.0.0. Use suggest_float(..., log=True) instead.\n",
            "  'learning_rate': trial.suggest_loguniform('learning_rate', 0.01, 0.5),\n",
            "<ipython-input-7-bd34402695c0>:12: FutureWarning: suggest_uniform has been deprecated in v3.0.0. This feature will be removed in v6.0.0. See https://github.com/optuna/optuna/releases/tag/v3.0.0. Use suggest_float instead.\n",
            "  'feature_fraction': trial.suggest_uniform('feature_fraction', 0.1, 1.0),\n",
            "<ipython-input-7-bd34402695c0>:13: FutureWarning: suggest_uniform has been deprecated in v3.0.0. This feature will be removed in v6.0.0. See https://github.com/optuna/optuna/releases/tag/v3.0.0. Use suggest_float instead.\n",
            "  'bagging_fraction': trial.suggest_uniform('bagging_fraction', 0.1, 1.0),\n",
            "[I 2023-07-12 14:28:25,551] Trial 55 finished with value: 29556.10669339302 and parameters: {'lambda_l1': 0.10174032241597065, 'lambda_l2': 2.613018591474806e-08, 'num_leaves': 139, 'learning_rate': 0.10440796590063038, 'feature_fraction': 0.5058019787419163, 'bagging_fraction': 0.45486912924375406, 'bagging_freq': 8, 'min_child_samples': 14}. Best is trial 12 with value: 26343.675603197094.\n",
            "<ipython-input-7-bd34402695c0>:8: FutureWarning: suggest_loguniform has been deprecated in v3.0.0. This feature will be removed in v6.0.0. See https://github.com/optuna/optuna/releases/tag/v3.0.0. Use suggest_float(..., log=True) instead.\n",
            "  'lambda_l1': trial.suggest_loguniform('lambda_l1', 1e-8, 10.0),\n"
          ]
        },
        {
          "name": "stdout",
          "output_type": "stream",
          "text": [
            "[LightGBM] [Warning] bagging_fraction is set=0.45486912924375406, subsample=1.0 will be ignored. Current value: bagging_fraction=0.45486912924375406\n",
            "[LightGBM] [Warning] lambda_l2 is set=2.613018591474806e-08, reg_lambda=0.0 will be ignored. Current value: lambda_l2=2.613018591474806e-08\n",
            "[LightGBM] [Warning] lambda_l1 is set=0.10174032241597065, reg_alpha=0.0 will be ignored. Current value: lambda_l1=0.10174032241597065\n",
            "[LightGBM] [Warning] bagging_freq is set=8, subsample_freq=0 will be ignored. Current value: bagging_freq=8\n",
            "[LightGBM] [Warning] feature_fraction is set=0.5058019787419163, colsample_bytree=1.0 will be ignored. Current value: feature_fraction=0.5058019787419163\n",
            "[LightGBM] [Warning] bagging_fraction is set=0.36840425711019853, subsample=1.0 will be ignored. Current value: bagging_fraction=0.36840425711019853\n",
            "[LightGBM] [Warning] lambda_l2 is set=9.695163154771006e-08, reg_lambda=0.0 will be ignored. Current value: lambda_l2=9.695163154771006e-08\n",
            "[LightGBM] [Warning] lambda_l1 is set=0.03390346525883776, reg_alpha=0.0 will be ignored. Current value: lambda_l1=0.03390346525883776\n",
            "[LightGBM] [Warning] bagging_freq is set=10, subsample_freq=0 will be ignored. Current value: bagging_freq=10\n",
            "[LightGBM] [Warning] feature_fraction is set=0.5781614428015535, colsample_bytree=1.0 will be ignored. Current value: feature_fraction=0.5781614428015535\n"
          ]
        },
        {
          "name": "stderr",
          "output_type": "stream",
          "text": [
            "<ipython-input-7-bd34402695c0>:9: FutureWarning: suggest_loguniform has been deprecated in v3.0.0. This feature will be removed in v6.0.0. See https://github.com/optuna/optuna/releases/tag/v3.0.0. Use suggest_float(..., log=True) instead.\n",
            "  'lambda_l2': trial.suggest_loguniform('lambda_l2', 1e-8, 10.0),\n",
            "<ipython-input-7-bd34402695c0>:11: FutureWarning: suggest_loguniform has been deprecated in v3.0.0. This feature will be removed in v6.0.0. See https://github.com/optuna/optuna/releases/tag/v3.0.0. Use suggest_float(..., log=True) instead.\n",
            "  'learning_rate': trial.suggest_loguniform('learning_rate', 0.01, 0.5),\n",
            "<ipython-input-7-bd34402695c0>:12: FutureWarning: suggest_uniform has been deprecated in v3.0.0. This feature will be removed in v6.0.0. See https://github.com/optuna/optuna/releases/tag/v3.0.0. Use suggest_float instead.\n",
            "  'feature_fraction': trial.suggest_uniform('feature_fraction', 0.1, 1.0),\n",
            "<ipython-input-7-bd34402695c0>:13: FutureWarning: suggest_uniform has been deprecated in v3.0.0. This feature will be removed in v6.0.0. See https://github.com/optuna/optuna/releases/tag/v3.0.0. Use suggest_float instead.\n",
            "  'bagging_fraction': trial.suggest_uniform('bagging_fraction', 0.1, 1.0),\n",
            "[I 2023-07-12 14:28:25,851] Trial 56 finished with value: 30820.501642276122 and parameters: {'lambda_l1': 0.03390346525883776, 'lambda_l2': 9.695163154771006e-08, 'num_leaves': 117, 'learning_rate': 0.12873372873037034, 'feature_fraction': 0.5781614428015535, 'bagging_fraction': 0.36840425711019853, 'bagging_freq': 10, 'min_child_samples': 5}. Best is trial 12 with value: 26343.675603197094.\n",
            "<ipython-input-7-bd34402695c0>:8: FutureWarning: suggest_loguniform has been deprecated in v3.0.0. This feature will be removed in v6.0.0. See https://github.com/optuna/optuna/releases/tag/v3.0.0. Use suggest_float(..., log=True) instead.\n",
            "  'lambda_l1': trial.suggest_loguniform('lambda_l1', 1e-8, 10.0),\n",
            "<ipython-input-7-bd34402695c0>:9: FutureWarning: suggest_loguniform has been deprecated in v3.0.0. This feature will be removed in v6.0.0. See https://github.com/optuna/optuna/releases/tag/v3.0.0. Use suggest_float(..., log=True) instead.\n",
            "  'lambda_l2': trial.suggest_loguniform('lambda_l2', 1e-8, 10.0),\n",
            "<ipython-input-7-bd34402695c0>:11: FutureWarning: suggest_loguniform has been deprecated in v3.0.0. This feature will be removed in v6.0.0. See https://github.com/optuna/optuna/releases/tag/v3.0.0. Use suggest_float(..., log=True) instead.\n",
            "  'learning_rate': trial.suggest_loguniform('learning_rate', 0.01, 0.5),\n",
            "<ipython-input-7-bd34402695c0>:12: FutureWarning: suggest_uniform has been deprecated in v3.0.0. This feature will be removed in v6.0.0. See https://github.com/optuna/optuna/releases/tag/v3.0.0. Use suggest_float instead.\n",
            "  'feature_fraction': trial.suggest_uniform('feature_fraction', 0.1, 1.0),\n",
            "<ipython-input-7-bd34402695c0>:13: FutureWarning: suggest_uniform has been deprecated in v3.0.0. This feature will be removed in v6.0.0. See https://github.com/optuna/optuna/releases/tag/v3.0.0. Use suggest_float instead.\n",
            "  'bagging_fraction': trial.suggest_uniform('bagging_fraction', 0.1, 1.0),\n",
            "[I 2023-07-12 14:28:26,112] Trial 57 finished with value: 27600.53915740538 and parameters: {'lambda_l1': 0.6097809660265653, 'lambda_l2': 1.0247375978827966e-06, 'num_leaves': 70, 'learning_rate': 0.09649198159542993, 'feature_fraction': 0.636607808388694, 'bagging_fraction': 0.5412193501449895, 'bagging_freq': 8, 'min_child_samples': 9}. Best is trial 12 with value: 26343.675603197094.\n"
          ]
        },
        {
          "name": "stdout",
          "output_type": "stream",
          "text": [
            "[LightGBM] [Warning] bagging_fraction is set=0.5412193501449895, subsample=1.0 will be ignored. Current value: bagging_fraction=0.5412193501449895\n",
            "[LightGBM] [Warning] lambda_l2 is set=1.0247375978827966e-06, reg_lambda=0.0 will be ignored. Current value: lambda_l2=1.0247375978827966e-06\n",
            "[LightGBM] [Warning] lambda_l1 is set=0.6097809660265653, reg_alpha=0.0 will be ignored. Current value: lambda_l1=0.6097809660265653\n",
            "[LightGBM] [Warning] bagging_freq is set=8, subsample_freq=0 will be ignored. Current value: bagging_freq=8\n",
            "[LightGBM] [Warning] feature_fraction is set=0.636607808388694, colsample_bytree=1.0 will be ignored. Current value: feature_fraction=0.636607808388694\n"
          ]
        },
        {
          "name": "stderr",
          "output_type": "stream",
          "text": [
            "<ipython-input-7-bd34402695c0>:8: FutureWarning: suggest_loguniform has been deprecated in v3.0.0. This feature will be removed in v6.0.0. See https://github.com/optuna/optuna/releases/tag/v3.0.0. Use suggest_float(..., log=True) instead.\n",
            "  'lambda_l1': trial.suggest_loguniform('lambda_l1', 1e-8, 10.0),\n",
            "<ipython-input-7-bd34402695c0>:9: FutureWarning: suggest_loguniform has been deprecated in v3.0.0. This feature will be removed in v6.0.0. See https://github.com/optuna/optuna/releases/tag/v3.0.0. Use suggest_float(..., log=True) instead.\n",
            "  'lambda_l2': trial.suggest_loguniform('lambda_l2', 1e-8, 10.0),\n",
            "<ipython-input-7-bd34402695c0>:11: FutureWarning: suggest_loguniform has been deprecated in v3.0.0. This feature will be removed in v6.0.0. See https://github.com/optuna/optuna/releases/tag/v3.0.0. Use suggest_float(..., log=True) instead.\n",
            "  'learning_rate': trial.suggest_loguniform('learning_rate', 0.01, 0.5),\n",
            "<ipython-input-7-bd34402695c0>:12: FutureWarning: suggest_uniform has been deprecated in v3.0.0. This feature will be removed in v6.0.0. See https://github.com/optuna/optuna/releases/tag/v3.0.0. Use suggest_float instead.\n",
            "  'feature_fraction': trial.suggest_uniform('feature_fraction', 0.1, 1.0),\n",
            "<ipython-input-7-bd34402695c0>:13: FutureWarning: suggest_uniform has been deprecated in v3.0.0. This feature will be removed in v6.0.0. See https://github.com/optuna/optuna/releases/tag/v3.0.0. Use suggest_float instead.\n",
            "  'bagging_fraction': trial.suggest_uniform('bagging_fraction', 0.1, 1.0),\n",
            "[I 2023-07-12 14:28:26,239] Trial 58 finished with value: 34198.628926608646 and parameters: {'lambda_l1': 0.6890229832133746, 'lambda_l2': 1.3033375041878645e-06, 'num_leaves': 73, 'learning_rate': 0.08839818706257965, 'feature_fraction': 0.6373976064663576, 'bagging_fraction': 0.34616514695817874, 'bagging_freq': 8, 'min_child_samples': 28}. Best is trial 12 with value: 26343.675603197094.\n",
            "<ipython-input-7-bd34402695c0>:8: FutureWarning: suggest_loguniform has been deprecated in v3.0.0. This feature will be removed in v6.0.0. See https://github.com/optuna/optuna/releases/tag/v3.0.0. Use suggest_float(..., log=True) instead.\n",
            "  'lambda_l1': trial.suggest_loguniform('lambda_l1', 1e-8, 10.0),\n",
            "<ipython-input-7-bd34402695c0>:9: FutureWarning: suggest_loguniform has been deprecated in v3.0.0. This feature will be removed in v6.0.0. See https://github.com/optuna/optuna/releases/tag/v3.0.0. Use suggest_float(..., log=True) instead.\n",
            "  'lambda_l2': trial.suggest_loguniform('lambda_l2', 1e-8, 10.0),\n",
            "<ipython-input-7-bd34402695c0>:11: FutureWarning: suggest_loguniform has been deprecated in v3.0.0. This feature will be removed in v6.0.0. See https://github.com/optuna/optuna/releases/tag/v3.0.0. Use suggest_float(..., log=True) instead.\n",
            "  'learning_rate': trial.suggest_loguniform('learning_rate', 0.01, 0.5),\n",
            "<ipython-input-7-bd34402695c0>:12: FutureWarning: suggest_uniform has been deprecated in v3.0.0. This feature will be removed in v6.0.0. See https://github.com/optuna/optuna/releases/tag/v3.0.0. Use suggest_float instead.\n",
            "  'feature_fraction': trial.suggest_uniform('feature_fraction', 0.1, 1.0),\n",
            "<ipython-input-7-bd34402695c0>:13: FutureWarning: suggest_uniform has been deprecated in v3.0.0. This feature will be removed in v6.0.0. See https://github.com/optuna/optuna/releases/tag/v3.0.0. Use suggest_float instead.\n",
            "  'bagging_fraction': trial.suggest_uniform('bagging_fraction', 0.1, 1.0),\n"
          ]
        },
        {
          "name": "stdout",
          "output_type": "stream",
          "text": [
            "[LightGBM] [Warning] bagging_fraction is set=0.34616514695817874, subsample=1.0 will be ignored. Current value: bagging_fraction=0.34616514695817874\n",
            "[LightGBM] [Warning] lambda_l2 is set=1.3033375041878645e-06, reg_lambda=0.0 will be ignored. Current value: lambda_l2=1.3033375041878645e-06\n",
            "[LightGBM] [Warning] lambda_l1 is set=0.6890229832133746, reg_alpha=0.0 will be ignored. Current value: lambda_l1=0.6890229832133746\n",
            "[LightGBM] [Warning] bagging_freq is set=8, subsample_freq=0 will be ignored. Current value: bagging_freq=8\n",
            "[LightGBM] [Warning] feature_fraction is set=0.6373976064663576, colsample_bytree=1.0 will be ignored. Current value: feature_fraction=0.6373976064663576\n",
            "[LightGBM] [Warning] bagging_fraction is set=0.5333500893214151, subsample=1.0 will be ignored. Current value: bagging_fraction=0.5333500893214151\n",
            "[LightGBM] [Warning] lambda_l2 is set=7.274995884426407e-07, reg_lambda=0.0 will be ignored. Current value: lambda_l2=7.274995884426407e-07\n",
            "[LightGBM] [Warning] lambda_l1 is set=1.9461989233267627, reg_alpha=0.0 will be ignored. Current value: lambda_l1=1.9461989233267627\n",
            "[LightGBM] [Warning] bagging_freq is set=1, subsample_freq=0 will be ignored. Current value: bagging_freq=1\n",
            "[LightGBM] [Warning] feature_fraction is set=0.6025061800310163, colsample_bytree=1.0 will be ignored. Current value: feature_fraction=0.6025061800310163\n"
          ]
        },
        {
          "name": "stderr",
          "output_type": "stream",
          "text": [
            "[I 2023-07-12 14:28:26,499] Trial 59 finished with value: 29742.912157811472 and parameters: {'lambda_l1': 1.9461989233267627, 'lambda_l2': 7.274995884426407e-07, 'num_leaves': 90, 'learning_rate': 0.06086579780361763, 'feature_fraction': 0.6025061800310163, 'bagging_fraction': 0.5333500893214151, 'bagging_freq': 1, 'min_child_samples': 10}. Best is trial 12 with value: 26343.675603197094.\n",
            "<ipython-input-7-bd34402695c0>:8: FutureWarning: suggest_loguniform has been deprecated in v3.0.0. This feature will be removed in v6.0.0. See https://github.com/optuna/optuna/releases/tag/v3.0.0. Use suggest_float(..., log=True) instead.\n",
            "  'lambda_l1': trial.suggest_loguniform('lambda_l1', 1e-8, 10.0),\n",
            "<ipython-input-7-bd34402695c0>:9: FutureWarning: suggest_loguniform has been deprecated in v3.0.0. This feature will be removed in v6.0.0. See https://github.com/optuna/optuna/releases/tag/v3.0.0. Use suggest_float(..., log=True) instead.\n",
            "  'lambda_l2': trial.suggest_loguniform('lambda_l2', 1e-8, 10.0),\n",
            "<ipython-input-7-bd34402695c0>:11: FutureWarning: suggest_loguniform has been deprecated in v3.0.0. This feature will be removed in v6.0.0. See https://github.com/optuna/optuna/releases/tag/v3.0.0. Use suggest_float(..., log=True) instead.\n",
            "  'learning_rate': trial.suggest_loguniform('learning_rate', 0.01, 0.5),\n",
            "<ipython-input-7-bd34402695c0>:12: FutureWarning: suggest_uniform has been deprecated in v3.0.0. This feature will be removed in v6.0.0. See https://github.com/optuna/optuna/releases/tag/v3.0.0. Use suggest_float instead.\n",
            "  'feature_fraction': trial.suggest_uniform('feature_fraction', 0.1, 1.0),\n",
            "<ipython-input-7-bd34402695c0>:13: FutureWarning: suggest_uniform has been deprecated in v3.0.0. This feature will be removed in v6.0.0. See https://github.com/optuna/optuna/releases/tag/v3.0.0. Use suggest_float instead.\n",
            "  'bagging_fraction': trial.suggest_uniform('bagging_fraction', 0.1, 1.0),\n",
            "[I 2023-07-12 14:28:26,663] Trial 60 finished with value: 30943.955117167257 and parameters: {'lambda_l1': 9.98143128392768, 'lambda_l2': 1.506801217801444e-07, 'num_leaves': 81, 'learning_rate': 0.07007763353660568, 'feature_fraction': 0.410735820209722, 'bagging_fraction': 0.6339123939127936, 'bagging_freq': 7, 'min_child_samples': 24}. Best is trial 12 with value: 26343.675603197094.\n",
            "<ipython-input-7-bd34402695c0>:8: FutureWarning: suggest_loguniform has been deprecated in v3.0.0. This feature will be removed in v6.0.0. See https://github.com/optuna/optuna/releases/tag/v3.0.0. Use suggest_float(..., log=True) instead.\n",
            "  'lambda_l1': trial.suggest_loguniform('lambda_l1', 1e-8, 10.0),\n",
            "<ipython-input-7-bd34402695c0>:9: FutureWarning: suggest_loguniform has been deprecated in v3.0.0. This feature will be removed in v6.0.0. See https://github.com/optuna/optuna/releases/tag/v3.0.0. Use suggest_float(..., log=True) instead.\n",
            "  'lambda_l2': trial.suggest_loguniform('lambda_l2', 1e-8, 10.0),\n",
            "<ipython-input-7-bd34402695c0>:11: FutureWarning: suggest_loguniform has been deprecated in v3.0.0. This feature will be removed in v6.0.0. See https://github.com/optuna/optuna/releases/tag/v3.0.0. Use suggest_float(..., log=True) instead.\n",
            "  'learning_rate': trial.suggest_loguniform('learning_rate', 0.01, 0.5),\n"
          ]
        },
        {
          "name": "stdout",
          "output_type": "stream",
          "text": [
            "[LightGBM] [Warning] bagging_fraction is set=0.6339123939127936, subsample=1.0 will be ignored. Current value: bagging_fraction=0.6339123939127936\n",
            "[LightGBM] [Warning] lambda_l2 is set=1.506801217801444e-07, reg_lambda=0.0 will be ignored. Current value: lambda_l2=1.506801217801444e-07\n",
            "[LightGBM] [Warning] lambda_l1 is set=9.98143128392768, reg_alpha=0.0 will be ignored. Current value: lambda_l1=9.98143128392768\n",
            "[LightGBM] [Warning] bagging_freq is set=7, subsample_freq=0 will be ignored. Current value: bagging_freq=7\n",
            "[LightGBM] [Warning] feature_fraction is set=0.410735820209722, colsample_bytree=1.0 will be ignored. Current value: feature_fraction=0.410735820209722\n",
            "[LightGBM] [Warning] bagging_fraction is set=0.5826958039092428, subsample=1.0 will be ignored. Current value: bagging_fraction=0.5826958039092428\n",
            "[LightGBM] [Warning] lambda_l2 is set=5.583588299172314e-08, reg_lambda=0.0 will be ignored. Current value: lambda_l2=5.583588299172314e-08\n",
            "[LightGBM] [Warning] lambda_l1 is set=0.29746751231918417, reg_alpha=0.0 will be ignored. Current value: lambda_l1=0.29746751231918417\n",
            "[LightGBM] [Warning] bagging_freq is set=9, subsample_freq=0 will be ignored. Current value: bagging_freq=9\n",
            "[LightGBM] [Warning] feature_fraction is set=0.6430404837790165, colsample_bytree=1.0 will be ignored. Current value: feature_fraction=0.6430404837790165\n"
          ]
        },
        {
          "name": "stderr",
          "output_type": "stream",
          "text": [
            "<ipython-input-7-bd34402695c0>:12: FutureWarning: suggest_uniform has been deprecated in v3.0.0. This feature will be removed in v6.0.0. See https://github.com/optuna/optuna/releases/tag/v3.0.0. Use suggest_float instead.\n",
            "  'feature_fraction': trial.suggest_uniform('feature_fraction', 0.1, 1.0),\n",
            "<ipython-input-7-bd34402695c0>:13: FutureWarning: suggest_uniform has been deprecated in v3.0.0. This feature will be removed in v6.0.0. See https://github.com/optuna/optuna/releases/tag/v3.0.0. Use suggest_float instead.\n",
            "  'bagging_fraction': trial.suggest_uniform('bagging_fraction', 0.1, 1.0),\n",
            "[I 2023-07-12 14:28:26,956] Trial 61 finished with value: 28962.01151777284 and parameters: {'lambda_l1': 0.29746751231918417, 'lambda_l2': 5.583588299172314e-08, 'num_leaves': 72, 'learning_rate': 0.0987545614478666, 'feature_fraction': 0.6430404837790165, 'bagging_fraction': 0.5826958039092428, 'bagging_freq': 9, 'min_child_samples': 9}. Best is trial 12 with value: 26343.675603197094.\n",
            "<ipython-input-7-bd34402695c0>:8: FutureWarning: suggest_loguniform has been deprecated in v3.0.0. This feature will be removed in v6.0.0. See https://github.com/optuna/optuna/releases/tag/v3.0.0. Use suggest_float(..., log=True) instead.\n",
            "  'lambda_l1': trial.suggest_loguniform('lambda_l1', 1e-8, 10.0),\n",
            "<ipython-input-7-bd34402695c0>:9: FutureWarning: suggest_loguniform has been deprecated in v3.0.0. This feature will be removed in v6.0.0. See https://github.com/optuna/optuna/releases/tag/v3.0.0. Use suggest_float(..., log=True) instead.\n",
            "  'lambda_l2': trial.suggest_loguniform('lambda_l2', 1e-8, 10.0),\n",
            "<ipython-input-7-bd34402695c0>:11: FutureWarning: suggest_loguniform has been deprecated in v3.0.0. This feature will be removed in v6.0.0. See https://github.com/optuna/optuna/releases/tag/v3.0.0. Use suggest_float(..., log=True) instead.\n",
            "  'learning_rate': trial.suggest_loguniform('learning_rate', 0.01, 0.5),\n",
            "<ipython-input-7-bd34402695c0>:12: FutureWarning: suggest_uniform has been deprecated in v3.0.0. This feature will be removed in v6.0.0. See https://github.com/optuna/optuna/releases/tag/v3.0.0. Use suggest_float instead.\n",
            "  'feature_fraction': trial.suggest_uniform('feature_fraction', 0.1, 1.0),\n",
            "<ipython-input-7-bd34402695c0>:13: FutureWarning: suggest_uniform has been deprecated in v3.0.0. This feature will be removed in v6.0.0. See https://github.com/optuna/optuna/releases/tag/v3.0.0. Use suggest_float instead.\n",
            "  'bagging_fraction': trial.suggest_uniform('bagging_fraction', 0.1, 1.0),\n",
            "[I 2023-07-12 14:28:27,145] Trial 62 finished with value: 29041.672245059508 and parameters: {'lambda_l1': 0.09983435320342664, 'lambda_l2': 2.3809027732374085e-07, 'num_leaves': 99, 'learning_rate': 0.11809329116456757, 'feature_fraction': 0.6754614287412785, 'bagging_fraction': 0.5268512521356792, 'bagging_freq': 8, 'min_child_samples': 17}. Best is trial 12 with value: 26343.675603197094.\n",
            "<ipython-input-7-bd34402695c0>:8: FutureWarning: suggest_loguniform has been deprecated in v3.0.0. This feature will be removed in v6.0.0. See https://github.com/optuna/optuna/releases/tag/v3.0.0. Use suggest_float(..., log=True) instead.\n",
            "  'lambda_l1': trial.suggest_loguniform('lambda_l1', 1e-8, 10.0),\n",
            "<ipython-input-7-bd34402695c0>:9: FutureWarning: suggest_loguniform has been deprecated in v3.0.0. This feature will be removed in v6.0.0. See https://github.com/optuna/optuna/releases/tag/v3.0.0. Use suggest_float(..., log=True) instead.\n",
            "  'lambda_l2': trial.suggest_loguniform('lambda_l2', 1e-8, 10.0),\n"
          ]
        },
        {
          "name": "stdout",
          "output_type": "stream",
          "text": [
            "[LightGBM] [Warning] bagging_fraction is set=0.5268512521356792, subsample=1.0 will be ignored. Current value: bagging_fraction=0.5268512521356792\n",
            "[LightGBM] [Warning] lambda_l2 is set=2.3809027732374085e-07, reg_lambda=0.0 will be ignored. Current value: lambda_l2=2.3809027732374085e-07\n",
            "[LightGBM] [Warning] lambda_l1 is set=0.09983435320342664, reg_alpha=0.0 will be ignored. Current value: lambda_l1=0.09983435320342664\n",
            "[LightGBM] [Warning] bagging_freq is set=8, subsample_freq=0 will be ignored. Current value: bagging_freq=8\n",
            "[LightGBM] [Warning] feature_fraction is set=0.6754614287412785, colsample_bytree=1.0 will be ignored. Current value: feature_fraction=0.6754614287412785\n"
          ]
        },
        {
          "name": "stderr",
          "output_type": "stream",
          "text": [
            "<ipython-input-7-bd34402695c0>:11: FutureWarning: suggest_loguniform has been deprecated in v3.0.0. This feature will be removed in v6.0.0. See https://github.com/optuna/optuna/releases/tag/v3.0.0. Use suggest_float(..., log=True) instead.\n",
            "  'learning_rate': trial.suggest_loguniform('learning_rate', 0.01, 0.5),\n",
            "<ipython-input-7-bd34402695c0>:12: FutureWarning: suggest_uniform has been deprecated in v3.0.0. This feature will be removed in v6.0.0. See https://github.com/optuna/optuna/releases/tag/v3.0.0. Use suggest_float instead.\n",
            "  'feature_fraction': trial.suggest_uniform('feature_fraction', 0.1, 1.0),\n",
            "<ipython-input-7-bd34402695c0>:13: FutureWarning: suggest_uniform has been deprecated in v3.0.0. This feature will be removed in v6.0.0. See https://github.com/optuna/optuna/releases/tag/v3.0.0. Use suggest_float instead.\n",
            "  'bagging_fraction': trial.suggest_uniform('bagging_fraction', 0.1, 1.0),\n"
          ]
        },
        {
          "name": "stdout",
          "output_type": "stream",
          "text": [
            "[LightGBM] [Warning] bagging_fraction is set=0.556091080356733, subsample=1.0 will be ignored. Current value: bagging_fraction=0.556091080356733\n",
            "[LightGBM] [Warning] lambda_l2 is set=2.1259526136596508e-08, reg_lambda=0.0 will be ignored. Current value: lambda_l2=2.1259526136596508e-08\n",
            "[LightGBM] [Warning] lambda_l1 is set=0.1643064931619882, reg_alpha=0.0 will be ignored. Current value: lambda_l1=0.1643064931619882\n",
            "[LightGBM] [Warning] bagging_freq is set=9, subsample_freq=0 will be ignored. Current value: bagging_freq=9\n",
            "[LightGBM] [Warning] feature_fraction is set=0.5576080580820746, colsample_bytree=1.0 will be ignored. Current value: feature_fraction=0.5576080580820746\n"
          ]
        },
        {
          "name": "stderr",
          "output_type": "stream",
          "text": [
            "[I 2023-07-12 14:28:27,616] Trial 63 finished with value: 26994.368245813715 and parameters: {'lambda_l1': 0.1643064931619882, 'lambda_l2': 2.1259526136596508e-08, 'num_leaves': 108, 'learning_rate': 0.13232632609512995, 'feature_fraction': 0.5576080580820746, 'bagging_fraction': 0.556091080356733, 'bagging_freq': 9, 'min_child_samples': 3}. Best is trial 12 with value: 26343.675603197094.\n",
            "<ipython-input-7-bd34402695c0>:8: FutureWarning: suggest_loguniform has been deprecated in v3.0.0. This feature will be removed in v6.0.0. See https://github.com/optuna/optuna/releases/tag/v3.0.0. Use suggest_float(..., log=True) instead.\n",
            "  'lambda_l1': trial.suggest_loguniform('lambda_l1', 1e-8, 10.0),\n",
            "<ipython-input-7-bd34402695c0>:9: FutureWarning: suggest_loguniform has been deprecated in v3.0.0. This feature will be removed in v6.0.0. See https://github.com/optuna/optuna/releases/tag/v3.0.0. Use suggest_float(..., log=True) instead.\n",
            "  'lambda_l2': trial.suggest_loguniform('lambda_l2', 1e-8, 10.0),\n",
            "<ipython-input-7-bd34402695c0>:11: FutureWarning: suggest_loguniform has been deprecated in v3.0.0. This feature will be removed in v6.0.0. See https://github.com/optuna/optuna/releases/tag/v3.0.0. Use suggest_float(..., log=True) instead.\n",
            "  'learning_rate': trial.suggest_loguniform('learning_rate', 0.01, 0.5),\n",
            "<ipython-input-7-bd34402695c0>:12: FutureWarning: suggest_uniform has been deprecated in v3.0.0. This feature will be removed in v6.0.0. See https://github.com/optuna/optuna/releases/tag/v3.0.0. Use suggest_float instead.\n",
            "  'feature_fraction': trial.suggest_uniform('feature_fraction', 0.1, 1.0),\n",
            "<ipython-input-7-bd34402695c0>:13: FutureWarning: suggest_uniform has been deprecated in v3.0.0. This feature will be removed in v6.0.0. See https://github.com/optuna/optuna/releases/tag/v3.0.0. Use suggest_float instead.\n",
            "  'bagging_fraction': trial.suggest_uniform('bagging_fraction', 0.1, 1.0),\n"
          ]
        },
        {
          "name": "stdout",
          "output_type": "stream",
          "text": [
            "[LightGBM] [Warning] bagging_fraction is set=0.5704355489710068, subsample=1.0 will be ignored. Current value: bagging_fraction=0.5704355489710068\n",
            "[LightGBM] [Warning] lambda_l2 is set=2.6774853857186367e-08, reg_lambda=0.0 will be ignored. Current value: lambda_l2=2.6774853857186367e-08\n",
            "[LightGBM] [Warning] lambda_l1 is set=0.4688546517098388, reg_alpha=0.0 will be ignored. Current value: lambda_l1=0.4688546517098388\n",
            "[LightGBM] [Warning] bagging_freq is set=8, subsample_freq=0 will be ignored. Current value: bagging_freq=8\n",
            "[LightGBM] [Warning] feature_fraction is set=0.5716862911186323, colsample_bytree=1.0 will be ignored. Current value: feature_fraction=0.5716862911186323\n"
          ]
        },
        {
          "name": "stderr",
          "output_type": "stream",
          "text": [
            "[I 2023-07-12 14:28:28,047] Trial 64 finished with value: 27703.57721012241 and parameters: {'lambda_l1': 0.4688546517098388, 'lambda_l2': 2.6774853857186367e-08, 'num_leaves': 106, 'learning_rate': 0.129097031058544, 'feature_fraction': 0.5716862911186323, 'bagging_fraction': 0.5704355489710068, 'bagging_freq': 8, 'min_child_samples': 4}. Best is trial 12 with value: 26343.675603197094.\n",
            "<ipython-input-7-bd34402695c0>:8: FutureWarning: suggest_loguniform has been deprecated in v3.0.0. This feature will be removed in v6.0.0. See https://github.com/optuna/optuna/releases/tag/v3.0.0. Use suggest_float(..., log=True) instead.\n",
            "  'lambda_l1': trial.suggest_loguniform('lambda_l1', 1e-8, 10.0),\n",
            "<ipython-input-7-bd34402695c0>:9: FutureWarning: suggest_loguniform has been deprecated in v3.0.0. This feature will be removed in v6.0.0. See https://github.com/optuna/optuna/releases/tag/v3.0.0. Use suggest_float(..., log=True) instead.\n",
            "  'lambda_l2': trial.suggest_loguniform('lambda_l2', 1e-8, 10.0),\n",
            "<ipython-input-7-bd34402695c0>:11: FutureWarning: suggest_loguniform has been deprecated in v3.0.0. This feature will be removed in v6.0.0. See https://github.com/optuna/optuna/releases/tag/v3.0.0. Use suggest_float(..., log=True) instead.\n",
            "  'learning_rate': trial.suggest_loguniform('learning_rate', 0.01, 0.5),\n",
            "<ipython-input-7-bd34402695c0>:12: FutureWarning: suggest_uniform has been deprecated in v3.0.0. This feature will be removed in v6.0.0. See https://github.com/optuna/optuna/releases/tag/v3.0.0. Use suggest_float instead.\n",
            "  'feature_fraction': trial.suggest_uniform('feature_fraction', 0.1, 1.0),\n",
            "<ipython-input-7-bd34402695c0>:13: FutureWarning: suggest_uniform has been deprecated in v3.0.0. This feature will be removed in v6.0.0. See https://github.com/optuna/optuna/releases/tag/v3.0.0. Use suggest_float instead.\n",
            "  'bagging_fraction': trial.suggest_uniform('bagging_fraction', 0.1, 1.0),\n"
          ]
        },
        {
          "name": "stdout",
          "output_type": "stream",
          "text": [
            "[LightGBM] [Warning] bagging_fraction is set=0.5608265030316917, subsample=1.0 will be ignored. Current value: bagging_fraction=0.5608265030316917\n",
            "[LightGBM] [Warning] lambda_l2 is set=2.2848137424206204e-08, reg_lambda=0.0 will be ignored. Current value: lambda_l2=2.2848137424206204e-08\n",
            "[LightGBM] [Warning] lambda_l1 is set=0.4443845837824342, reg_alpha=0.0 will be ignored. Current value: lambda_l1=0.4443845837824342\n",
            "[LightGBM] [Warning] bagging_freq is set=8, subsample_freq=0 will be ignored. Current value: bagging_freq=8\n",
            "[LightGBM] [Warning] feature_fraction is set=0.5636380897550044, colsample_bytree=1.0 will be ignored. Current value: feature_fraction=0.5636380897550044\n"
          ]
        },
        {
          "name": "stderr",
          "output_type": "stream",
          "text": [
            "[I 2023-07-12 14:28:28,638] Trial 65 finished with value: 27324.74233062759 and parameters: {'lambda_l1': 0.4443845837824342, 'lambda_l2': 2.2848137424206204e-08, 'num_leaves': 106, 'learning_rate': 0.12897451942981686, 'feature_fraction': 0.5636380897550044, 'bagging_fraction': 0.5608265030316917, 'bagging_freq': 8, 'min_child_samples': 3}. Best is trial 12 with value: 26343.675603197094.\n",
            "<ipython-input-7-bd34402695c0>:8: FutureWarning: suggest_loguniform has been deprecated in v3.0.0. This feature will be removed in v6.0.0. See https://github.com/optuna/optuna/releases/tag/v3.0.0. Use suggest_float(..., log=True) instead.\n",
            "  'lambda_l1': trial.suggest_loguniform('lambda_l1', 1e-8, 10.0),\n",
            "<ipython-input-7-bd34402695c0>:9: FutureWarning: suggest_loguniform has been deprecated in v3.0.0. This feature will be removed in v6.0.0. See https://github.com/optuna/optuna/releases/tag/v3.0.0. Use suggest_float(..., log=True) instead.\n",
            "  'lambda_l2': trial.suggest_loguniform('lambda_l2', 1e-8, 10.0),\n",
            "<ipython-input-7-bd34402695c0>:11: FutureWarning: suggest_loguniform has been deprecated in v3.0.0. This feature will be removed in v6.0.0. See https://github.com/optuna/optuna/releases/tag/v3.0.0. Use suggest_float(..., log=True) instead.\n",
            "  'learning_rate': trial.suggest_loguniform('learning_rate', 0.01, 0.5),\n",
            "<ipython-input-7-bd34402695c0>:12: FutureWarning: suggest_uniform has been deprecated in v3.0.0. This feature will be removed in v6.0.0. See https://github.com/optuna/optuna/releases/tag/v3.0.0. Use suggest_float instead.\n",
            "  'feature_fraction': trial.suggest_uniform('feature_fraction', 0.1, 1.0),\n",
            "<ipython-input-7-bd34402695c0>:13: FutureWarning: suggest_uniform has been deprecated in v3.0.0. This feature will be removed in v6.0.0. See https://github.com/optuna/optuna/releases/tag/v3.0.0. Use suggest_float instead.\n",
            "  'bagging_fraction': trial.suggest_uniform('bagging_fraction', 0.1, 1.0),\n"
          ]
        },
        {
          "name": "stdout",
          "output_type": "stream",
          "text": [
            "[LightGBM] [Warning] bagging_fraction is set=0.520666771100876, subsample=1.0 will be ignored. Current value: bagging_fraction=0.520666771100876\n",
            "[LightGBM] [Warning] lambda_l2 is set=1.8147743751896654e-08, reg_lambda=0.0 will be ignored. Current value: lambda_l2=1.8147743751896654e-08\n",
            "[LightGBM] [Warning] lambda_l1 is set=0.43032447778898175, reg_alpha=0.0 will be ignored. Current value: lambda_l1=0.43032447778898175\n",
            "[LightGBM] [Warning] bagging_freq is set=9, subsample_freq=0 will be ignored. Current value: bagging_freq=9\n",
            "[LightGBM] [Warning] feature_fraction is set=0.4704669114179261, colsample_bytree=1.0 will be ignored. Current value: feature_fraction=0.4704669114179261\n"
          ]
        },
        {
          "name": "stderr",
          "output_type": "stream",
          "text": [
            "[I 2023-07-12 14:28:31,137] Trial 66 finished with value: 27473.04700112963 and parameters: {'lambda_l1': 0.43032447778898175, 'lambda_l2': 1.8147743751896654e-08, 'num_leaves': 108, 'learning_rate': 0.08594751705834179, 'feature_fraction': 0.4704669114179261, 'bagging_fraction': 0.520666771100876, 'bagging_freq': 9, 'min_child_samples': 1}. Best is trial 12 with value: 26343.675603197094.\n",
            "<ipython-input-7-bd34402695c0>:8: FutureWarning: suggest_loguniform has been deprecated in v3.0.0. This feature will be removed in v6.0.0. See https://github.com/optuna/optuna/releases/tag/v3.0.0. Use suggest_float(..., log=True) instead.\n",
            "  'lambda_l1': trial.suggest_loguniform('lambda_l1', 1e-8, 10.0),\n",
            "<ipython-input-7-bd34402695c0>:9: FutureWarning: suggest_loguniform has been deprecated in v3.0.0. This feature will be removed in v6.0.0. See https://github.com/optuna/optuna/releases/tag/v3.0.0. Use suggest_float(..., log=True) instead.\n",
            "  'lambda_l2': trial.suggest_loguniform('lambda_l2', 1e-8, 10.0),\n",
            "<ipython-input-7-bd34402695c0>:11: FutureWarning: suggest_loguniform has been deprecated in v3.0.0. This feature will be removed in v6.0.0. See https://github.com/optuna/optuna/releases/tag/v3.0.0. Use suggest_float(..., log=True) instead.\n",
            "  'learning_rate': trial.suggest_loguniform('learning_rate', 0.01, 0.5),\n",
            "<ipython-input-7-bd34402695c0>:12: FutureWarning: suggest_uniform has been deprecated in v3.0.0. This feature will be removed in v6.0.0. See https://github.com/optuna/optuna/releases/tag/v3.0.0. Use suggest_float instead.\n",
            "  'feature_fraction': trial.suggest_uniform('feature_fraction', 0.1, 1.0),\n",
            "<ipython-input-7-bd34402695c0>:13: FutureWarning: suggest_uniform has been deprecated in v3.0.0. This feature will be removed in v6.0.0. See https://github.com/optuna/optuna/releases/tag/v3.0.0. Use suggest_float instead.\n",
            "  'bagging_fraction': trial.suggest_uniform('bagging_fraction', 0.1, 1.0),\n"
          ]
        },
        {
          "name": "stdout",
          "output_type": "stream",
          "text": [
            "[LightGBM] [Warning] bagging_fraction is set=0.6210943245555632, subsample=1.0 will be ignored. Current value: bagging_fraction=0.6210943245555632\n",
            "[LightGBM] [Warning] lambda_l2 is set=1.3419044668047557e-08, reg_lambda=0.0 will be ignored. Current value: lambda_l2=1.3419044668047557e-08\n",
            "[LightGBM] [Warning] lambda_l1 is set=1.3291777854869735, reg_alpha=0.0 will be ignored. Current value: lambda_l1=1.3291777854869735\n",
            "[LightGBM] [Warning] bagging_freq is set=9, subsample_freq=0 will be ignored. Current value: bagging_freq=9\n",
            "[LightGBM] [Warning] feature_fraction is set=0.5195348185363983, colsample_bytree=1.0 will be ignored. Current value: feature_fraction=0.5195348185363983\n"
          ]
        },
        {
          "name": "stderr",
          "output_type": "stream",
          "text": [
            "[I 2023-07-12 14:28:31,673] Trial 67 finished with value: 28065.006469505475 and parameters: {'lambda_l1': 1.3291777854869735, 'lambda_l2': 1.3419044668047557e-08, 'num_leaves': 123, 'learning_rate': 0.0838014030606902, 'feature_fraction': 0.5195348185363983, 'bagging_fraction': 0.6210943245555632, 'bagging_freq': 9, 'min_child_samples': 2}. Best is trial 12 with value: 26343.675603197094.\n",
            "<ipython-input-7-bd34402695c0>:8: FutureWarning: suggest_loguniform has been deprecated in v3.0.0. This feature will be removed in v6.0.0. See https://github.com/optuna/optuna/releases/tag/v3.0.0. Use suggest_float(..., log=True) instead.\n",
            "  'lambda_l1': trial.suggest_loguniform('lambda_l1', 1e-8, 10.0),\n",
            "<ipython-input-7-bd34402695c0>:9: FutureWarning: suggest_loguniform has been deprecated in v3.0.0. This feature will be removed in v6.0.0. See https://github.com/optuna/optuna/releases/tag/v3.0.0. Use suggest_float(..., log=True) instead.\n",
            "  'lambda_l2': trial.suggest_loguniform('lambda_l2', 1e-8, 10.0),\n",
            "<ipython-input-7-bd34402695c0>:11: FutureWarning: suggest_loguniform has been deprecated in v3.0.0. This feature will be removed in v6.0.0. See https://github.com/optuna/optuna/releases/tag/v3.0.0. Use suggest_float(..., log=True) instead.\n",
            "  'learning_rate': trial.suggest_loguniform('learning_rate', 0.01, 0.5),\n",
            "<ipython-input-7-bd34402695c0>:12: FutureWarning: suggest_uniform has been deprecated in v3.0.0. This feature will be removed in v6.0.0. See https://github.com/optuna/optuna/releases/tag/v3.0.0. Use suggest_float instead.\n",
            "  'feature_fraction': trial.suggest_uniform('feature_fraction', 0.1, 1.0),\n",
            "<ipython-input-7-bd34402695c0>:13: FutureWarning: suggest_uniform has been deprecated in v3.0.0. This feature will be removed in v6.0.0. See https://github.com/optuna/optuna/releases/tag/v3.0.0. Use suggest_float instead.\n",
            "  'bagging_fraction': trial.suggest_uniform('bagging_fraction', 0.1, 1.0),\n",
            "[I 2023-07-12 14:28:31,868] Trial 68 finished with value: 29913.242451970094 and parameters: {'lambda_l1': 2.1599176819478507, 'lambda_l2': 8.164756251654034e-08, 'num_leaves': 140, 'learning_rate': 0.09257656797880282, 'feature_fraction': 0.47178729527965013, 'bagging_fraction': 0.5061528360713583, 'bagging_freq': 10, 'min_child_samples': 13}. Best is trial 12 with value: 26343.675603197094.\n",
            "<ipython-input-7-bd34402695c0>:8: FutureWarning: suggest_loguniform has been deprecated in v3.0.0. This feature will be removed in v6.0.0. See https://github.com/optuna/optuna/releases/tag/v3.0.0. Use suggest_float(..., log=True) instead.\n",
            "  'lambda_l1': trial.suggest_loguniform('lambda_l1', 1e-8, 10.0),\n"
          ]
        },
        {
          "name": "stdout",
          "output_type": "stream",
          "text": [
            "[LightGBM] [Warning] bagging_fraction is set=0.5061528360713583, subsample=1.0 will be ignored. Current value: bagging_fraction=0.5061528360713583\n",
            "[LightGBM] [Warning] lambda_l2 is set=8.164756251654034e-08, reg_lambda=0.0 will be ignored. Current value: lambda_l2=8.164756251654034e-08\n",
            "[LightGBM] [Warning] lambda_l1 is set=2.1599176819478507, reg_alpha=0.0 will be ignored. Current value: lambda_l1=2.1599176819478507\n",
            "[LightGBM] [Warning] bagging_freq is set=10, subsample_freq=0 will be ignored. Current value: bagging_freq=10\n",
            "[LightGBM] [Warning] feature_fraction is set=0.47178729527965013, colsample_bytree=1.0 will be ignored. Current value: feature_fraction=0.47178729527965013\n"
          ]
        },
        {
          "name": "stderr",
          "output_type": "stream",
          "text": [
            "<ipython-input-7-bd34402695c0>:9: FutureWarning: suggest_loguniform has been deprecated in v3.0.0. This feature will be removed in v6.0.0. See https://github.com/optuna/optuna/releases/tag/v3.0.0. Use suggest_float(..., log=True) instead.\n",
            "  'lambda_l2': trial.suggest_loguniform('lambda_l2', 1e-8, 10.0),\n",
            "<ipython-input-7-bd34402695c0>:11: FutureWarning: suggest_loguniform has been deprecated in v3.0.0. This feature will be removed in v6.0.0. See https://github.com/optuna/optuna/releases/tag/v3.0.0. Use suggest_float(..., log=True) instead.\n",
            "  'learning_rate': trial.suggest_loguniform('learning_rate', 0.01, 0.5),\n",
            "<ipython-input-7-bd34402695c0>:12: FutureWarning: suggest_uniform has been deprecated in v3.0.0. This feature will be removed in v6.0.0. See https://github.com/optuna/optuna/releases/tag/v3.0.0. Use suggest_float instead.\n",
            "  'feature_fraction': trial.suggest_uniform('feature_fraction', 0.1, 1.0),\n",
            "<ipython-input-7-bd34402695c0>:13: FutureWarning: suggest_uniform has been deprecated in v3.0.0. This feature will be removed in v6.0.0. See https://github.com/optuna/optuna/releases/tag/v3.0.0. Use suggest_float instead.\n",
            "  'bagging_fraction': trial.suggest_uniform('bagging_fraction', 0.1, 1.0),\n"
          ]
        },
        {
          "name": "stdout",
          "output_type": "stream",
          "text": [
            "[LightGBM] [Warning] bagging_fraction is set=0.5514334270657343, subsample=1.0 will be ignored. Current value: bagging_fraction=0.5514334270657343\n",
            "[LightGBM] [Warning] lambda_l2 is set=1.629251079741242e-08, reg_lambda=0.0 will be ignored. Current value: lambda_l2=1.629251079741242e-08\n",
            "[LightGBM] [Warning] lambda_l1 is set=0.8354903924536607, reg_alpha=0.0 will be ignored. Current value: lambda_l1=0.8354903924536607\n",
            "[LightGBM] [Warning] bagging_freq is set=9, subsample_freq=0 will be ignored. Current value: bagging_freq=9\n",
            "[LightGBM] [Warning] feature_fraction is set=0.47760112479471584, colsample_bytree=1.0 will be ignored. Current value: feature_fraction=0.47760112479471584\n"
          ]
        },
        {
          "name": "stderr",
          "output_type": "stream",
          "text": [
            "[I 2023-07-12 14:28:32,185] Trial 69 finished with value: 27927.808589240944 and parameters: {'lambda_l1': 0.8354903924536607, 'lambda_l2': 1.629251079741242e-08, 'num_leaves': 149, 'learning_rate': 0.10000096495772712, 'feature_fraction': 0.47760112479471584, 'bagging_fraction': 0.5514334270657343, 'bagging_freq': 9, 'min_child_samples': 7}. Best is trial 12 with value: 26343.675603197094.\n",
            "<ipython-input-7-bd34402695c0>:8: FutureWarning: suggest_loguniform has been deprecated in v3.0.0. This feature will be removed in v6.0.0. See https://github.com/optuna/optuna/releases/tag/v3.0.0. Use suggest_float(..., log=True) instead.\n",
            "  'lambda_l1': trial.suggest_loguniform('lambda_l1', 1e-8, 10.0),\n",
            "<ipython-input-7-bd34402695c0>:9: FutureWarning: suggest_loguniform has been deprecated in v3.0.0. This feature will be removed in v6.0.0. See https://github.com/optuna/optuna/releases/tag/v3.0.0. Use suggest_float(..., log=True) instead.\n",
            "  'lambda_l2': trial.suggest_loguniform('lambda_l2', 1e-8, 10.0),\n",
            "<ipython-input-7-bd34402695c0>:11: FutureWarning: suggest_loguniform has been deprecated in v3.0.0. This feature will be removed in v6.0.0. See https://github.com/optuna/optuna/releases/tag/v3.0.0. Use suggest_float(..., log=True) instead.\n",
            "  'learning_rate': trial.suggest_loguniform('learning_rate', 0.01, 0.5),\n",
            "<ipython-input-7-bd34402695c0>:12: FutureWarning: suggest_uniform has been deprecated in v3.0.0. This feature will be removed in v6.0.0. See https://github.com/optuna/optuna/releases/tag/v3.0.0. Use suggest_float instead.\n",
            "  'feature_fraction': trial.suggest_uniform('feature_fraction', 0.1, 1.0),\n",
            "<ipython-input-7-bd34402695c0>:13: FutureWarning: suggest_uniform has been deprecated in v3.0.0. This feature will be removed in v6.0.0. See https://github.com/optuna/optuna/releases/tag/v3.0.0. Use suggest_float instead.\n",
            "  'bagging_fraction': trial.suggest_uniform('bagging_fraction', 0.1, 1.0),\n"
          ]
        },
        {
          "name": "stdout",
          "output_type": "stream",
          "text": [
            "[LightGBM] [Warning] bagging_fraction is set=0.6935873240337153, subsample=1.0 will be ignored. Current value: bagging_fraction=0.6935873240337153\n",
            "[LightGBM] [Warning] lambda_l2 is set=5.5834453246178054e-08, reg_lambda=0.0 will be ignored. Current value: lambda_l2=5.5834453246178054e-08\n",
            "[LightGBM] [Warning] lambda_l1 is set=0.2752159486130776, reg_alpha=0.0 will be ignored. Current value: lambda_l1=0.2752159486130776\n",
            "[LightGBM] [Warning] bagging_freq is set=9, subsample_freq=0 will be ignored. Current value: bagging_freq=9\n",
            "[LightGBM] [Warning] feature_fraction is set=0.5147846915555068, colsample_bytree=1.0 will be ignored. Current value: feature_fraction=0.5147846915555068\n"
          ]
        },
        {
          "name": "stderr",
          "output_type": "stream",
          "text": [
            "[I 2023-07-12 14:28:32,628] Trial 70 finished with value: 26864.632294408046 and parameters: {'lambda_l1': 0.2752159486130776, 'lambda_l2': 5.5834453246178054e-08, 'num_leaves': 108, 'learning_rate': 0.07510411408237326, 'feature_fraction': 0.5147846915555068, 'bagging_fraction': 0.6935873240337153, 'bagging_freq': 9, 'min_child_samples': 3}. Best is trial 12 with value: 26343.675603197094.\n",
            "<ipython-input-7-bd34402695c0>:8: FutureWarning: suggest_loguniform has been deprecated in v3.0.0. This feature will be removed in v6.0.0. See https://github.com/optuna/optuna/releases/tag/v3.0.0. Use suggest_float(..., log=True) instead.\n",
            "  'lambda_l1': trial.suggest_loguniform('lambda_l1', 1e-8, 10.0),\n",
            "<ipython-input-7-bd34402695c0>:9: FutureWarning: suggest_loguniform has been deprecated in v3.0.0. This feature will be removed in v6.0.0. See https://github.com/optuna/optuna/releases/tag/v3.0.0. Use suggest_float(..., log=True) instead.\n",
            "  'lambda_l2': trial.suggest_loguniform('lambda_l2', 1e-8, 10.0),\n",
            "<ipython-input-7-bd34402695c0>:11: FutureWarning: suggest_loguniform has been deprecated in v3.0.0. This feature will be removed in v6.0.0. See https://github.com/optuna/optuna/releases/tag/v3.0.0. Use suggest_float(..., log=True) instead.\n",
            "  'learning_rate': trial.suggest_loguniform('learning_rate', 0.01, 0.5),\n",
            "<ipython-input-7-bd34402695c0>:12: FutureWarning: suggest_uniform has been deprecated in v3.0.0. This feature will be removed in v6.0.0. See https://github.com/optuna/optuna/releases/tag/v3.0.0. Use suggest_float instead.\n",
            "  'feature_fraction': trial.suggest_uniform('feature_fraction', 0.1, 1.0),\n",
            "<ipython-input-7-bd34402695c0>:13: FutureWarning: suggest_uniform has been deprecated in v3.0.0. This feature will be removed in v6.0.0. See https://github.com/optuna/optuna/releases/tag/v3.0.0. Use suggest_float instead.\n",
            "  'bagging_fraction': trial.suggest_uniform('bagging_fraction', 0.1, 1.0),\n"
          ]
        },
        {
          "name": "stdout",
          "output_type": "stream",
          "text": [
            "[LightGBM] [Warning] bagging_fraction is set=0.6368827828482013, subsample=1.0 will be ignored. Current value: bagging_fraction=0.6368827828482013\n",
            "[LightGBM] [Warning] lambda_l2 is set=4.0800923498417606e-08, reg_lambda=0.0 will be ignored. Current value: lambda_l2=4.0800923498417606e-08\n",
            "[LightGBM] [Warning] lambda_l1 is set=0.3409397084591971, reg_alpha=0.0 will be ignored. Current value: lambda_l1=0.3409397084591971\n",
            "[LightGBM] [Warning] bagging_freq is set=9, subsample_freq=0 will be ignored. Current value: bagging_freq=9\n",
            "[LightGBM] [Warning] feature_fraction is set=0.5181153633996946, colsample_bytree=1.0 will be ignored. Current value: feature_fraction=0.5181153633996946\n"
          ]
        },
        {
          "name": "stderr",
          "output_type": "stream",
          "text": [
            "[I 2023-07-12 14:28:33,116] Trial 71 finished with value: 28498.043056415936 and parameters: {'lambda_l1': 0.3409397084591971, 'lambda_l2': 4.0800923498417606e-08, 'num_leaves': 107, 'learning_rate': 0.07600158088154538, 'feature_fraction': 0.5181153633996946, 'bagging_fraction': 0.6368827828482013, 'bagging_freq': 9, 'min_child_samples': 1}. Best is trial 12 with value: 26343.675603197094.\n",
            "<ipython-input-7-bd34402695c0>:8: FutureWarning: suggest_loguniform has been deprecated in v3.0.0. This feature will be removed in v6.0.0. See https://github.com/optuna/optuna/releases/tag/v3.0.0. Use suggest_float(..., log=True) instead.\n",
            "  'lambda_l1': trial.suggest_loguniform('lambda_l1', 1e-8, 10.0),\n",
            "<ipython-input-7-bd34402695c0>:9: FutureWarning: suggest_loguniform has been deprecated in v3.0.0. This feature will be removed in v6.0.0. See https://github.com/optuna/optuna/releases/tag/v3.0.0. Use suggest_float(..., log=True) instead.\n",
            "  'lambda_l2': trial.suggest_loguniform('lambda_l2', 1e-8, 10.0),\n",
            "<ipython-input-7-bd34402695c0>:11: FutureWarning: suggest_loguniform has been deprecated in v3.0.0. This feature will be removed in v6.0.0. See https://github.com/optuna/optuna/releases/tag/v3.0.0. Use suggest_float(..., log=True) instead.\n",
            "  'learning_rate': trial.suggest_loguniform('learning_rate', 0.01, 0.5),\n",
            "<ipython-input-7-bd34402695c0>:12: FutureWarning: suggest_uniform has been deprecated in v3.0.0. This feature will be removed in v6.0.0. See https://github.com/optuna/optuna/releases/tag/v3.0.0. Use suggest_float instead.\n",
            "  'feature_fraction': trial.suggest_uniform('feature_fraction', 0.1, 1.0),\n",
            "<ipython-input-7-bd34402695c0>:13: FutureWarning: suggest_uniform has been deprecated in v3.0.0. This feature will be removed in v6.0.0. See https://github.com/optuna/optuna/releases/tag/v3.0.0. Use suggest_float instead.\n",
            "  'bagging_fraction': trial.suggest_uniform('bagging_fraction', 0.1, 1.0),\n"
          ]
        },
        {
          "name": "stdout",
          "output_type": "stream",
          "text": [
            "[LightGBM] [Warning] bagging_fraction is set=0.7066116926743218, subsample=1.0 will be ignored. Current value: bagging_fraction=0.7066116926743218\n",
            "[LightGBM] [Warning] lambda_l2 is set=9.044821411598826e-08, reg_lambda=0.0 will be ignored. Current value: lambda_l2=9.044821411598826e-08\n",
            "[LightGBM] [Warning] lambda_l1 is set=0.1863647163122077, reg_alpha=0.0 will be ignored. Current value: lambda_l1=0.1863647163122077\n",
            "[LightGBM] [Warning] bagging_freq is set=9, subsample_freq=0 will be ignored. Current value: bagging_freq=9\n",
            "[LightGBM] [Warning] feature_fraction is set=0.44208840661725385, colsample_bytree=1.0 will be ignored. Current value: feature_fraction=0.44208840661725385\n"
          ]
        },
        {
          "name": "stderr",
          "output_type": "stream",
          "text": [
            "[I 2023-07-12 14:28:33,478] Trial 72 finished with value: 26799.038255841162 and parameters: {'lambda_l1': 0.1863647163122077, 'lambda_l2': 9.044821411598826e-08, 'num_leaves': 94, 'learning_rate': 0.06562979127288557, 'feature_fraction': 0.44208840661725385, 'bagging_fraction': 0.7066116926743218, 'bagging_freq': 9, 'min_child_samples': 4}. Best is trial 12 with value: 26343.675603197094.\n",
            "<ipython-input-7-bd34402695c0>:8: FutureWarning: suggest_loguniform has been deprecated in v3.0.0. This feature will be removed in v6.0.0. See https://github.com/optuna/optuna/releases/tag/v3.0.0. Use suggest_float(..., log=True) instead.\n",
            "  'lambda_l1': trial.suggest_loguniform('lambda_l1', 1e-8, 10.0),\n",
            "<ipython-input-7-bd34402695c0>:9: FutureWarning: suggest_loguniform has been deprecated in v3.0.0. This feature will be removed in v6.0.0. See https://github.com/optuna/optuna/releases/tag/v3.0.0. Use suggest_float(..., log=True) instead.\n",
            "  'lambda_l2': trial.suggest_loguniform('lambda_l2', 1e-8, 10.0),\n",
            "<ipython-input-7-bd34402695c0>:11: FutureWarning: suggest_loguniform has been deprecated in v3.0.0. This feature will be removed in v6.0.0. See https://github.com/optuna/optuna/releases/tag/v3.0.0. Use suggest_float(..., log=True) instead.\n",
            "  'learning_rate': trial.suggest_loguniform('learning_rate', 0.01, 0.5),\n",
            "<ipython-input-7-bd34402695c0>:12: FutureWarning: suggest_uniform has been deprecated in v3.0.0. This feature will be removed in v6.0.0. See https://github.com/optuna/optuna/releases/tag/v3.0.0. Use suggest_float instead.\n",
            "  'feature_fraction': trial.suggest_uniform('feature_fraction', 0.1, 1.0),\n",
            "<ipython-input-7-bd34402695c0>:13: FutureWarning: suggest_uniform has been deprecated in v3.0.0. This feature will be removed in v6.0.0. See https://github.com/optuna/optuna/releases/tag/v3.0.0. Use suggest_float instead.\n",
            "  'bagging_fraction': trial.suggest_uniform('bagging_fraction', 0.1, 1.0),\n"
          ]
        },
        {
          "name": "stdout",
          "output_type": "stream",
          "text": [
            "[LightGBM] [Warning] bagging_fraction is set=0.9961928582452115, subsample=1.0 will be ignored. Current value: bagging_fraction=0.9961928582452115\n",
            "[LightGBM] [Warning] lambda_l2 is set=6.30998700362309e-08, reg_lambda=0.0 will be ignored. Current value: lambda_l2=6.30998700362309e-08\n",
            "[LightGBM] [Warning] lambda_l1 is set=0.16982538702841982, reg_alpha=0.0 will be ignored. Current value: lambda_l1=0.16982538702841982\n",
            "[LightGBM] [Warning] bagging_freq is set=9, subsample_freq=0 will be ignored. Current value: bagging_freq=9\n",
            "[LightGBM] [Warning] feature_fraction is set=0.427478296272162, colsample_bytree=1.0 will be ignored. Current value: feature_fraction=0.427478296272162\n"
          ]
        },
        {
          "name": "stderr",
          "output_type": "stream",
          "text": [
            "[I 2023-07-12 14:28:34,053] Trial 73 finished with value: 26873.98510653056 and parameters: {'lambda_l1': 0.16982538702841982, 'lambda_l2': 6.30998700362309e-08, 'num_leaves': 130, 'learning_rate': 0.05622775593291208, 'feature_fraction': 0.427478296272162, 'bagging_fraction': 0.9961928582452115, 'bagging_freq': 9, 'min_child_samples': 3}. Best is trial 12 with value: 26343.675603197094.\n",
            "<ipython-input-7-bd34402695c0>:8: FutureWarning: suggest_loguniform has been deprecated in v3.0.0. This feature will be removed in v6.0.0. See https://github.com/optuna/optuna/releases/tag/v3.0.0. Use suggest_float(..., log=True) instead.\n",
            "  'lambda_l1': trial.suggest_loguniform('lambda_l1', 1e-8, 10.0),\n",
            "<ipython-input-7-bd34402695c0>:9: FutureWarning: suggest_loguniform has been deprecated in v3.0.0. This feature will be removed in v6.0.0. See https://github.com/optuna/optuna/releases/tag/v3.0.0. Use suggest_float(..., log=True) instead.\n",
            "  'lambda_l2': trial.suggest_loguniform('lambda_l2', 1e-8, 10.0),\n",
            "<ipython-input-7-bd34402695c0>:11: FutureWarning: suggest_loguniform has been deprecated in v3.0.0. This feature will be removed in v6.0.0. See https://github.com/optuna/optuna/releases/tag/v3.0.0. Use suggest_float(..., log=True) instead.\n",
            "  'learning_rate': trial.suggest_loguniform('learning_rate', 0.01, 0.5),\n",
            "<ipython-input-7-bd34402695c0>:12: FutureWarning: suggest_uniform has been deprecated in v3.0.0. This feature will be removed in v6.0.0. See https://github.com/optuna/optuna/releases/tag/v3.0.0. Use suggest_float instead.\n",
            "  'feature_fraction': trial.suggest_uniform('feature_fraction', 0.1, 1.0),\n",
            "<ipython-input-7-bd34402695c0>:13: FutureWarning: suggest_uniform has been deprecated in v3.0.0. This feature will be removed in v6.0.0. See https://github.com/optuna/optuna/releases/tag/v3.0.0. Use suggest_float instead.\n",
            "  'bagging_fraction': trial.suggest_uniform('bagging_fraction', 0.1, 1.0),\n"
          ]
        },
        {
          "name": "stdout",
          "output_type": "stream",
          "text": [
            "[LightGBM] [Warning] bagging_fraction is set=0.9291710196950487, subsample=1.0 will be ignored. Current value: bagging_fraction=0.9291710196950487\n",
            "[LightGBM] [Warning] lambda_l2 is set=6.633408169074075e-08, reg_lambda=0.0 will be ignored. Current value: lambda_l2=6.633408169074075e-08\n",
            "[LightGBM] [Warning] lambda_l1 is set=0.16061140026471996, reg_alpha=0.0 will be ignored. Current value: lambda_l1=0.16061140026471996\n",
            "[LightGBM] [Warning] bagging_freq is set=10, subsample_freq=0 will be ignored. Current value: bagging_freq=10\n",
            "[LightGBM] [Warning] feature_fraction is set=0.43612578981433703, colsample_bytree=1.0 will be ignored. Current value: feature_fraction=0.43612578981433703\n"
          ]
        },
        {
          "name": "stderr",
          "output_type": "stream",
          "text": [
            "[I 2023-07-12 14:28:34,445] Trial 74 finished with value: 26675.50425288167 and parameters: {'lambda_l1': 0.16061140026471996, 'lambda_l2': 6.633408169074075e-08, 'num_leaves': 94, 'learning_rate': 0.054576463954283845, 'feature_fraction': 0.43612578981433703, 'bagging_fraction': 0.9291710196950487, 'bagging_freq': 10, 'min_child_samples': 4}. Best is trial 12 with value: 26343.675603197094.\n",
            "<ipython-input-7-bd34402695c0>:8: FutureWarning: suggest_loguniform has been deprecated in v3.0.0. This feature will be removed in v6.0.0. See https://github.com/optuna/optuna/releases/tag/v3.0.0. Use suggest_float(..., log=True) instead.\n",
            "  'lambda_l1': trial.suggest_loguniform('lambda_l1', 1e-8, 10.0),\n",
            "<ipython-input-7-bd34402695c0>:9: FutureWarning: suggest_loguniform has been deprecated in v3.0.0. This feature will be removed in v6.0.0. See https://github.com/optuna/optuna/releases/tag/v3.0.0. Use suggest_float(..., log=True) instead.\n",
            "  'lambda_l2': trial.suggest_loguniform('lambda_l2', 1e-8, 10.0),\n",
            "<ipython-input-7-bd34402695c0>:11: FutureWarning: suggest_loguniform has been deprecated in v3.0.0. This feature will be removed in v6.0.0. See https://github.com/optuna/optuna/releases/tag/v3.0.0. Use suggest_float(..., log=True) instead.\n",
            "  'learning_rate': trial.suggest_loguniform('learning_rate', 0.01, 0.5),\n",
            "<ipython-input-7-bd34402695c0>:12: FutureWarning: suggest_uniform has been deprecated in v3.0.0. This feature will be removed in v6.0.0. See https://github.com/optuna/optuna/releases/tag/v3.0.0. Use suggest_float instead.\n",
            "  'feature_fraction': trial.suggest_uniform('feature_fraction', 0.1, 1.0),\n",
            "<ipython-input-7-bd34402695c0>:13: FutureWarning: suggest_uniform has been deprecated in v3.0.0. This feature will be removed in v6.0.0. See https://github.com/optuna/optuna/releases/tag/v3.0.0. Use suggest_float instead.\n",
            "  'bagging_fraction': trial.suggest_uniform('bagging_fraction', 0.1, 1.0),\n"
          ]
        },
        {
          "name": "stdout",
          "output_type": "stream",
          "text": [
            "[LightGBM] [Warning] bagging_fraction is set=0.9732764975990105, subsample=1.0 will be ignored. Current value: bagging_fraction=0.9732764975990105\n",
            "[LightGBM] [Warning] lambda_l2 is set=7.663464857504691e-08, reg_lambda=0.0 will be ignored. Current value: lambda_l2=7.663464857504691e-08\n",
            "[LightGBM] [Warning] lambda_l1 is set=0.13055227771747338, reg_alpha=0.0 will be ignored. Current value: lambda_l1=0.13055227771747338\n",
            "[LightGBM] [Warning] bagging_freq is set=10, subsample_freq=0 will be ignored. Current value: bagging_freq=10\n",
            "[LightGBM] [Warning] feature_fraction is set=0.43465122898098524, colsample_bytree=1.0 will be ignored. Current value: feature_fraction=0.43465122898098524\n"
          ]
        },
        {
          "name": "stderr",
          "output_type": "stream",
          "text": [
            "[I 2023-07-12 14:28:34,792] Trial 75 finished with value: 29175.377288656477 and parameters: {'lambda_l1': 0.13055227771747338, 'lambda_l2': 7.663464857504691e-08, 'num_leaves': 132, 'learning_rate': 0.044268083980076436, 'feature_fraction': 0.43465122898098524, 'bagging_fraction': 0.9732764975990105, 'bagging_freq': 10, 'min_child_samples': 11}. Best is trial 12 with value: 26343.675603197094.\n",
            "<ipython-input-7-bd34402695c0>:8: FutureWarning: suggest_loguniform has been deprecated in v3.0.0. This feature will be removed in v6.0.0. See https://github.com/optuna/optuna/releases/tag/v3.0.0. Use suggest_float(..., log=True) instead.\n",
            "  'lambda_l1': trial.suggest_loguniform('lambda_l1', 1e-8, 10.0),\n",
            "<ipython-input-7-bd34402695c0>:9: FutureWarning: suggest_loguniform has been deprecated in v3.0.0. This feature will be removed in v6.0.0. See https://github.com/optuna/optuna/releases/tag/v3.0.0. Use suggest_float(..., log=True) instead.\n",
            "  'lambda_l2': trial.suggest_loguniform('lambda_l2', 1e-8, 10.0),\n",
            "<ipython-input-7-bd34402695c0>:11: FutureWarning: suggest_loguniform has been deprecated in v3.0.0. This feature will be removed in v6.0.0. See https://github.com/optuna/optuna/releases/tag/v3.0.0. Use suggest_float(..., log=True) instead.\n",
            "  'learning_rate': trial.suggest_loguniform('learning_rate', 0.01, 0.5),\n",
            "<ipython-input-7-bd34402695c0>:12: FutureWarning: suggest_uniform has been deprecated in v3.0.0. This feature will be removed in v6.0.0. See https://github.com/optuna/optuna/releases/tag/v3.0.0. Use suggest_float instead.\n",
            "  'feature_fraction': trial.suggest_uniform('feature_fraction', 0.1, 1.0),\n",
            "<ipython-input-7-bd34402695c0>:13: FutureWarning: suggest_uniform has been deprecated in v3.0.0. This feature will be removed in v6.0.0. See https://github.com/optuna/optuna/releases/tag/v3.0.0. Use suggest_float instead.\n",
            "  'bagging_fraction': trial.suggest_uniform('bagging_fraction', 0.1, 1.0),\n"
          ]
        },
        {
          "name": "stdout",
          "output_type": "stream",
          "text": [
            "[LightGBM] [Warning] bagging_fraction is set=0.9325400128793799, subsample=1.0 will be ignored. Current value: bagging_fraction=0.9325400128793799\n",
            "[LightGBM] [Warning] lambda_l2 is set=1.6546264254250277e-07, reg_lambda=0.0 will be ignored. Current value: lambda_l2=1.6546264254250277e-07\n",
            "[LightGBM] [Warning] lambda_l1 is set=0.018505759313863956, reg_alpha=0.0 will be ignored. Current value: lambda_l1=0.018505759313863956\n",
            "[LightGBM] [Warning] bagging_freq is set=10, subsample_freq=0 will be ignored. Current value: bagging_freq=10\n",
            "[LightGBM] [Warning] feature_fraction is set=0.37034573152986827, colsample_bytree=1.0 will be ignored. Current value: feature_fraction=0.37034573152986827\n"
          ]
        },
        {
          "name": "stderr",
          "output_type": "stream",
          "text": [
            "[I 2023-07-12 14:28:35,159] Trial 76 finished with value: 27044.66723221796 and parameters: {'lambda_l1': 0.018505759313863956, 'lambda_l2': 1.6546264254250277e-07, 'num_leaves': 94, 'learning_rate': 0.05337678422125361, 'feature_fraction': 0.37034573152986827, 'bagging_fraction': 0.9325400128793799, 'bagging_freq': 10, 'min_child_samples': 5}. Best is trial 12 with value: 26343.675603197094.\n",
            "<ipython-input-7-bd34402695c0>:8: FutureWarning: suggest_loguniform has been deprecated in v3.0.0. This feature will be removed in v6.0.0. See https://github.com/optuna/optuna/releases/tag/v3.0.0. Use suggest_float(..., log=True) instead.\n",
            "  'lambda_l1': trial.suggest_loguniform('lambda_l1', 1e-8, 10.0),\n",
            "<ipython-input-7-bd34402695c0>:9: FutureWarning: suggest_loguniform has been deprecated in v3.0.0. This feature will be removed in v6.0.0. See https://github.com/optuna/optuna/releases/tag/v3.0.0. Use suggest_float(..., log=True) instead.\n",
            "  'lambda_l2': trial.suggest_loguniform('lambda_l2', 1e-8, 10.0),\n",
            "<ipython-input-7-bd34402695c0>:11: FutureWarning: suggest_loguniform has been deprecated in v3.0.0. This feature will be removed in v6.0.0. See https://github.com/optuna/optuna/releases/tag/v3.0.0. Use suggest_float(..., log=True) instead.\n",
            "  'learning_rate': trial.suggest_loguniform('learning_rate', 0.01, 0.5),\n",
            "<ipython-input-7-bd34402695c0>:12: FutureWarning: suggest_uniform has been deprecated in v3.0.0. This feature will be removed in v6.0.0. See https://github.com/optuna/optuna/releases/tag/v3.0.0. Use suggest_float instead.\n",
            "  'feature_fraction': trial.suggest_uniform('feature_fraction', 0.1, 1.0),\n",
            "<ipython-input-7-bd34402695c0>:13: FutureWarning: suggest_uniform has been deprecated in v3.0.0. This feature will be removed in v6.0.0. See https://github.com/optuna/optuna/releases/tag/v3.0.0. Use suggest_float instead.\n",
            "  'bagging_fraction': trial.suggest_uniform('bagging_fraction', 0.1, 1.0),\n",
            "[I 2023-07-12 14:28:35,375] Trial 77 finished with value: 30295.090384247902 and parameters: {'lambda_l1': 0.014961433327738605, 'lambda_l2': 4.3748349187948514e-07, 'num_leaves': 94, 'learning_rate': 0.0523266047549944, 'feature_fraction': 0.3670537767971698, 'bagging_fraction': 0.931058496381362, 'bagging_freq': 10, 'min_child_samples': 17}. Best is trial 12 with value: 26343.675603197094.\n"
          ]
        },
        {
          "name": "stdout",
          "output_type": "stream",
          "text": [
            "[LightGBM] [Warning] bagging_fraction is set=0.931058496381362, subsample=1.0 will be ignored. Current value: bagging_fraction=0.931058496381362\n",
            "[LightGBM] [Warning] lambda_l2 is set=4.3748349187948514e-07, reg_lambda=0.0 will be ignored. Current value: lambda_l2=4.3748349187948514e-07\n",
            "[LightGBM] [Warning] lambda_l1 is set=0.014961433327738605, reg_alpha=0.0 will be ignored. Current value: lambda_l1=0.014961433327738605\n",
            "[LightGBM] [Warning] bagging_freq is set=10, subsample_freq=0 will be ignored. Current value: bagging_freq=10\n",
            "[LightGBM] [Warning] feature_fraction is set=0.3670537767971698, colsample_bytree=1.0 will be ignored. Current value: feature_fraction=0.3670537767971698\n"
          ]
        },
        {
          "name": "stderr",
          "output_type": "stream",
          "text": [
            "<ipython-input-7-bd34402695c0>:8: FutureWarning: suggest_loguniform has been deprecated in v3.0.0. This feature will be removed in v6.0.0. See https://github.com/optuna/optuna/releases/tag/v3.0.0. Use suggest_float(..., log=True) instead.\n",
            "  'lambda_l1': trial.suggest_loguniform('lambda_l1', 1e-8, 10.0),\n",
            "<ipython-input-7-bd34402695c0>:9: FutureWarning: suggest_loguniform has been deprecated in v3.0.0. This feature will be removed in v6.0.0. See https://github.com/optuna/optuna/releases/tag/v3.0.0. Use suggest_float(..., log=True) instead.\n",
            "  'lambda_l2': trial.suggest_loguniform('lambda_l2', 1e-8, 10.0),\n",
            "<ipython-input-7-bd34402695c0>:11: FutureWarning: suggest_loguniform has been deprecated in v3.0.0. This feature will be removed in v6.0.0. See https://github.com/optuna/optuna/releases/tag/v3.0.0. Use suggest_float(..., log=True) instead.\n",
            "  'learning_rate': trial.suggest_loguniform('learning_rate', 0.01, 0.5),\n",
            "<ipython-input-7-bd34402695c0>:12: FutureWarning: suggest_uniform has been deprecated in v3.0.0. This feature will be removed in v6.0.0. See https://github.com/optuna/optuna/releases/tag/v3.0.0. Use suggest_float instead.\n",
            "  'feature_fraction': trial.suggest_uniform('feature_fraction', 0.1, 1.0),\n",
            "<ipython-input-7-bd34402695c0>:13: FutureWarning: suggest_uniform has been deprecated in v3.0.0. This feature will be removed in v6.0.0. See https://github.com/optuna/optuna/releases/tag/v3.0.0. Use suggest_float instead.\n",
            "  'bagging_fraction': trial.suggest_uniform('bagging_fraction', 0.1, 1.0),\n"
          ]
        },
        {
          "name": "stdout",
          "output_type": "stream",
          "text": [
            "[LightGBM] [Warning] bagging_fraction is set=0.9935562519517633, subsample=1.0 will be ignored. Current value: bagging_fraction=0.9935562519517633\n",
            "[LightGBM] [Warning] lambda_l2 is set=1.7119575671433108e-07, reg_lambda=0.0 will be ignored. Current value: lambda_l2=1.7119575671433108e-07\n",
            "[LightGBM] [Warning] lambda_l1 is set=0.04917248298634905, reg_alpha=0.0 will be ignored. Current value: lambda_l1=0.04917248298634905\n",
            "[LightGBM] [Warning] bagging_freq is set=10, subsample_freq=0 will be ignored. Current value: bagging_freq=10\n",
            "[LightGBM] [Warning] feature_fraction is set=0.35599235366631493, colsample_bytree=1.0 will be ignored. Current value: feature_fraction=0.35599235366631493\n"
          ]
        },
        {
          "name": "stderr",
          "output_type": "stream",
          "text": [
            "[I 2023-07-12 14:28:35,853] Trial 78 finished with value: 26707.693097065672 and parameters: {'lambda_l1': 0.04917248298634905, 'lambda_l2': 1.7119575671433108e-07, 'num_leaves': 125, 'learning_rate': 0.0657204472303045, 'feature_fraction': 0.35599235366631493, 'bagging_fraction': 0.9935562519517633, 'bagging_freq': 10, 'min_child_samples': 4}. Best is trial 12 with value: 26343.675603197094.\n",
            "<ipython-input-7-bd34402695c0>:8: FutureWarning: suggest_loguniform has been deprecated in v3.0.0. This feature will be removed in v6.0.0. See https://github.com/optuna/optuna/releases/tag/v3.0.0. Use suggest_float(..., log=True) instead.\n",
            "  'lambda_l1': trial.suggest_loguniform('lambda_l1', 1e-8, 10.0),\n",
            "<ipython-input-7-bd34402695c0>:9: FutureWarning: suggest_loguniform has been deprecated in v3.0.0. This feature will be removed in v6.0.0. See https://github.com/optuna/optuna/releases/tag/v3.0.0. Use suggest_float(..., log=True) instead.\n",
            "  'lambda_l2': trial.suggest_loguniform('lambda_l2', 1e-8, 10.0),\n",
            "<ipython-input-7-bd34402695c0>:11: FutureWarning: suggest_loguniform has been deprecated in v3.0.0. This feature will be removed in v6.0.0. See https://github.com/optuna/optuna/releases/tag/v3.0.0. Use suggest_float(..., log=True) instead.\n",
            "  'learning_rate': trial.suggest_loguniform('learning_rate', 0.01, 0.5),\n",
            "<ipython-input-7-bd34402695c0>:12: FutureWarning: suggest_uniform has been deprecated in v3.0.0. This feature will be removed in v6.0.0. See https://github.com/optuna/optuna/releases/tag/v3.0.0. Use suggest_float instead.\n",
            "  'feature_fraction': trial.suggest_uniform('feature_fraction', 0.1, 1.0),\n",
            "<ipython-input-7-bd34402695c0>:13: FutureWarning: suggest_uniform has been deprecated in v3.0.0. This feature will be removed in v6.0.0. See https://github.com/optuna/optuna/releases/tag/v3.0.0. Use suggest_float instead.\n",
            "  'bagging_fraction': trial.suggest_uniform('bagging_fraction', 0.1, 1.0),\n"
          ]
        },
        {
          "name": "stdout",
          "output_type": "stream",
          "text": [
            "[LightGBM] [Warning] bagging_fraction is set=0.9959336274282149, subsample=1.0 will be ignored. Current value: bagging_fraction=0.9959336274282149\n",
            "[LightGBM] [Warning] lambda_l2 is set=5.619670798593306e-07, reg_lambda=0.0 will be ignored. Current value: lambda_l2=5.619670798593306e-07\n",
            "[LightGBM] [Warning] lambda_l1 is set=0.20186814947448467, reg_alpha=0.0 will be ignored. Current value: lambda_l1=0.20186814947448467\n",
            "[LightGBM] [Warning] bagging_freq is set=10, subsample_freq=0 will be ignored. Current value: bagging_freq=10\n",
            "[LightGBM] [Warning] feature_fraction is set=0.4999587397614115, colsample_bytree=1.0 will be ignored. Current value: feature_fraction=0.4999587397614115\n"
          ]
        },
        {
          "name": "stderr",
          "output_type": "stream",
          "text": [
            "[I 2023-07-12 14:28:36,155] Trial 79 finished with value: 28656.052242515965 and parameters: {'lambda_l1': 0.20186814947448467, 'lambda_l2': 5.619670798593306e-07, 'num_leaves': 122, 'learning_rate': 0.07018942188527551, 'feature_fraction': 0.4999587397614115, 'bagging_fraction': 0.9959336274282149, 'bagging_freq': 10, 'min_child_samples': 12}. Best is trial 12 with value: 26343.675603197094.\n",
            "<ipython-input-7-bd34402695c0>:8: FutureWarning: suggest_loguniform has been deprecated in v3.0.0. This feature will be removed in v6.0.0. See https://github.com/optuna/optuna/releases/tag/v3.0.0. Use suggest_float(..., log=True) instead.\n",
            "  'lambda_l1': trial.suggest_loguniform('lambda_l1', 1e-8, 10.0),\n",
            "<ipython-input-7-bd34402695c0>:9: FutureWarning: suggest_loguniform has been deprecated in v3.0.0. This feature will be removed in v6.0.0. See https://github.com/optuna/optuna/releases/tag/v3.0.0. Use suggest_float(..., log=True) instead.\n",
            "  'lambda_l2': trial.suggest_loguniform('lambda_l2', 1e-8, 10.0),\n",
            "<ipython-input-7-bd34402695c0>:11: FutureWarning: suggest_loguniform has been deprecated in v3.0.0. This feature will be removed in v6.0.0. See https://github.com/optuna/optuna/releases/tag/v3.0.0. Use suggest_float(..., log=True) instead.\n",
            "  'learning_rate': trial.suggest_loguniform('learning_rate', 0.01, 0.5),\n",
            "<ipython-input-7-bd34402695c0>:12: FutureWarning: suggest_uniform has been deprecated in v3.0.0. This feature will be removed in v6.0.0. See https://github.com/optuna/optuna/releases/tag/v3.0.0. Use suggest_float instead.\n",
            "  'feature_fraction': trial.suggest_uniform('feature_fraction', 0.1, 1.0),\n",
            "<ipython-input-7-bd34402695c0>:13: FutureWarning: suggest_uniform has been deprecated in v3.0.0. This feature will be removed in v6.0.0. See https://github.com/optuna/optuna/releases/tag/v3.0.0. Use suggest_float instead.\n",
            "  'bagging_fraction': trial.suggest_uniform('bagging_fraction', 0.1, 1.0),\n",
            "[I 2023-07-12 14:28:36,305] Trial 80 finished with value: 33667.375904600165 and parameters: {'lambda_l1': 0.03349690737820552, 'lambda_l2': 1.7043417577502784e-07, 'num_leaves': 167, 'learning_rate': 0.06588732475428229, 'feature_fraction': 0.4409782957902124, 'bagging_fraction': 0.9615408643888284, 'bagging_freq': 10, 'min_child_samples': 54}. Best is trial 12 with value: 26343.675603197094.\n",
            "<ipython-input-7-bd34402695c0>:8: FutureWarning: suggest_loguniform has been deprecated in v3.0.0. This feature will be removed in v6.0.0. See https://github.com/optuna/optuna/releases/tag/v3.0.0. Use suggest_float(..., log=True) instead.\n",
            "  'lambda_l1': trial.suggest_loguniform('lambda_l1', 1e-8, 10.0),\n",
            "<ipython-input-7-bd34402695c0>:9: FutureWarning: suggest_loguniform has been deprecated in v3.0.0. This feature will be removed in v6.0.0. See https://github.com/optuna/optuna/releases/tag/v3.0.0. Use suggest_float(..., log=True) instead.\n",
            "  'lambda_l2': trial.suggest_loguniform('lambda_l2', 1e-8, 10.0),\n",
            "<ipython-input-7-bd34402695c0>:11: FutureWarning: suggest_loguniform has been deprecated in v3.0.0. This feature will be removed in v6.0.0. See https://github.com/optuna/optuna/releases/tag/v3.0.0. Use suggest_float(..., log=True) instead.\n",
            "  'learning_rate': trial.suggest_loguniform('learning_rate', 0.01, 0.5),\n",
            "<ipython-input-7-bd34402695c0>:12: FutureWarning: suggest_uniform has been deprecated in v3.0.0. This feature will be removed in v6.0.0. See https://github.com/optuna/optuna/releases/tag/v3.0.0. Use suggest_float instead.\n",
            "  'feature_fraction': trial.suggest_uniform('feature_fraction', 0.1, 1.0),\n",
            "<ipython-input-7-bd34402695c0>:13: FutureWarning: suggest_uniform has been deprecated in v3.0.0. This feature will be removed in v6.0.0. See https://github.com/optuna/optuna/releases/tag/v3.0.0. Use suggest_float instead.\n",
            "  'bagging_fraction': trial.suggest_uniform('bagging_fraction', 0.1, 1.0),\n"
          ]
        },
        {
          "name": "stdout",
          "output_type": "stream",
          "text": [
            "[LightGBM] [Warning] bagging_fraction is set=0.9615408643888284, subsample=1.0 will be ignored. Current value: bagging_fraction=0.9615408643888284\n",
            "[LightGBM] [Warning] lambda_l2 is set=1.7043417577502784e-07, reg_lambda=0.0 will be ignored. Current value: lambda_l2=1.7043417577502784e-07\n",
            "[LightGBM] [Warning] lambda_l1 is set=0.03349690737820552, reg_alpha=0.0 will be ignored. Current value: lambda_l1=0.03349690737820552\n",
            "[LightGBM] [Warning] bagging_freq is set=10, subsample_freq=0 will be ignored. Current value: bagging_freq=10\n",
            "[LightGBM] [Warning] feature_fraction is set=0.4409782957902124, colsample_bytree=1.0 will be ignored. Current value: feature_fraction=0.4409782957902124\n",
            "[LightGBM] [Warning] bagging_fraction is set=0.924498746899967, subsample=1.0 will be ignored. Current value: bagging_fraction=0.924498746899967\n",
            "[LightGBM] [Warning] lambda_l2 is set=1.3476288900005892e-07, reg_lambda=0.0 will be ignored. Current value: lambda_l2=1.3476288900005892e-07\n",
            "[LightGBM] [Warning] lambda_l1 is set=0.007063996219828021, reg_alpha=0.0 will be ignored. Current value: lambda_l1=0.007063996219828021\n",
            "[LightGBM] [Warning] bagging_freq is set=10, subsample_freq=0 will be ignored. Current value: bagging_freq=10\n",
            "[LightGBM] [Warning] feature_fraction is set=0.3957601213149258, colsample_bytree=1.0 will be ignored. Current value: feature_fraction=0.3957601213149258\n"
          ]
        },
        {
          "name": "stderr",
          "output_type": "stream",
          "text": [
            "[I 2023-07-12 14:28:37,143] Trial 81 finished with value: 28573.69347617924 and parameters: {'lambda_l1': 0.007063996219828021, 'lambda_l2': 1.3476288900005892e-07, 'num_leaves': 114, 'learning_rate': 0.04234574827825975, 'feature_fraction': 0.3957601213149258, 'bagging_fraction': 0.924498746899967, 'bagging_freq': 10, 'min_child_samples': 5}. Best is trial 12 with value: 26343.675603197094.\n",
            "<ipython-input-7-bd34402695c0>:8: FutureWarning: suggest_loguniform has been deprecated in v3.0.0. This feature will be removed in v6.0.0. See https://github.com/optuna/optuna/releases/tag/v3.0.0. Use suggest_float(..., log=True) instead.\n",
            "  'lambda_l1': trial.suggest_loguniform('lambda_l1', 1e-8, 10.0),\n",
            "<ipython-input-7-bd34402695c0>:9: FutureWarning: suggest_loguniform has been deprecated in v3.0.0. This feature will be removed in v6.0.0. See https://github.com/optuna/optuna/releases/tag/v3.0.0. Use suggest_float(..., log=True) instead.\n",
            "  'lambda_l2': trial.suggest_loguniform('lambda_l2', 1e-8, 10.0),\n",
            "<ipython-input-7-bd34402695c0>:11: FutureWarning: suggest_loguniform has been deprecated in v3.0.0. This feature will be removed in v6.0.0. See https://github.com/optuna/optuna/releases/tag/v3.0.0. Use suggest_float(..., log=True) instead.\n",
            "  'learning_rate': trial.suggest_loguniform('learning_rate', 0.01, 0.5),\n",
            "<ipython-input-7-bd34402695c0>:12: FutureWarning: suggest_uniform has been deprecated in v3.0.0. This feature will be removed in v6.0.0. See https://github.com/optuna/optuna/releases/tag/v3.0.0. Use suggest_float instead.\n",
            "  'feature_fraction': trial.suggest_uniform('feature_fraction', 0.1, 1.0),\n",
            "<ipython-input-7-bd34402695c0>:13: FutureWarning: suggest_uniform has been deprecated in v3.0.0. This feature will be removed in v6.0.0. See https://github.com/optuna/optuna/releases/tag/v3.0.0. Use suggest_float instead.\n",
            "  'bagging_fraction': trial.suggest_uniform('bagging_fraction', 0.1, 1.0),\n"
          ]
        },
        {
          "name": "stdout",
          "output_type": "stream",
          "text": [
            "[LightGBM] [Warning] bagging_fraction is set=0.9921334183617825, subsample=1.0 will be ignored. Current value: bagging_fraction=0.9921334183617825\n",
            "[LightGBM] [Warning] lambda_l2 is set=6.254722257788538e-08, reg_lambda=0.0 will be ignored. Current value: lambda_l2=6.254722257788538e-08\n",
            "[LightGBM] [Warning] lambda_l1 is set=0.05551704510354228, reg_alpha=0.0 will be ignored. Current value: lambda_l1=0.05551704510354228\n",
            "[LightGBM] [Warning] bagging_freq is set=10, subsample_freq=0 will be ignored. Current value: bagging_freq=10\n",
            "[LightGBM] [Warning] feature_fraction is set=0.34983912148764895, colsample_bytree=1.0 will be ignored. Current value: feature_fraction=0.34983912148764895\n"
          ]
        },
        {
          "name": "stderr",
          "output_type": "stream",
          "text": [
            "[I 2023-07-12 14:28:37,487] Trial 82 finished with value: 29060.77025385056 and parameters: {'lambda_l1': 0.05551704510354228, 'lambda_l2': 6.254722257788538e-08, 'num_leaves': 95, 'learning_rate': 0.0586591482349838, 'feature_fraction': 0.34983912148764895, 'bagging_fraction': 0.9921334183617825, 'bagging_freq': 10, 'min_child_samples': 7}. Best is trial 12 with value: 26343.675603197094.\n",
            "<ipython-input-7-bd34402695c0>:8: FutureWarning: suggest_loguniform has been deprecated in v3.0.0. This feature will be removed in v6.0.0. See https://github.com/optuna/optuna/releases/tag/v3.0.0. Use suggest_float(..., log=True) instead.\n",
            "  'lambda_l1': trial.suggest_loguniform('lambda_l1', 1e-8, 10.0),\n",
            "<ipython-input-7-bd34402695c0>:9: FutureWarning: suggest_loguniform has been deprecated in v3.0.0. This feature will be removed in v6.0.0. See https://github.com/optuna/optuna/releases/tag/v3.0.0. Use suggest_float(..., log=True) instead.\n",
            "  'lambda_l2': trial.suggest_loguniform('lambda_l2', 1e-8, 10.0),\n",
            "<ipython-input-7-bd34402695c0>:11: FutureWarning: suggest_loguniform has been deprecated in v3.0.0. This feature will be removed in v6.0.0. See https://github.com/optuna/optuna/releases/tag/v3.0.0. Use suggest_float(..., log=True) instead.\n",
            "  'learning_rate': trial.suggest_loguniform('learning_rate', 0.01, 0.5),\n",
            "<ipython-input-7-bd34402695c0>:12: FutureWarning: suggest_uniform has been deprecated in v3.0.0. This feature will be removed in v6.0.0. See https://github.com/optuna/optuna/releases/tag/v3.0.0. Use suggest_float instead.\n",
            "  'feature_fraction': trial.suggest_uniform('feature_fraction', 0.1, 1.0),\n",
            "<ipython-input-7-bd34402695c0>:13: FutureWarning: suggest_uniform has been deprecated in v3.0.0. This feature will be removed in v6.0.0. See https://github.com/optuna/optuna/releases/tag/v3.0.0. Use suggest_float instead.\n",
            "  'bagging_fraction': trial.suggest_uniform('bagging_fraction', 0.1, 1.0),\n"
          ]
        },
        {
          "name": "stdout",
          "output_type": "stream",
          "text": [
            "[LightGBM] [Warning] bagging_fraction is set=0.871315673993125, subsample=1.0 will be ignored. Current value: bagging_fraction=0.871315673993125\n",
            "[LightGBM] [Warning] lambda_l2 is set=1.9098788638723895e-07, reg_lambda=0.0 will be ignored. Current value: lambda_l2=1.9098788638723895e-07\n",
            "[LightGBM] [Warning] lambda_l1 is set=0.04932578547906111, reg_alpha=0.0 will be ignored. Current value: lambda_l1=0.04932578547906111\n",
            "[LightGBM] [Warning] bagging_freq is set=9, subsample_freq=0 will be ignored. Current value: bagging_freq=9\n",
            "[LightGBM] [Warning] feature_fraction is set=0.4906760192469139, colsample_bytree=1.0 will be ignored. Current value: feature_fraction=0.4906760192469139\n"
          ]
        },
        {
          "name": "stderr",
          "output_type": "stream",
          "text": [
            "[I 2023-07-12 14:28:38,020] Trial 83 finished with value: 26109.413233971536 and parameters: {'lambda_l1': 0.04932578547906111, 'lambda_l2': 1.9098788638723895e-07, 'num_leaves': 127, 'learning_rate': 0.050005191223548226, 'feature_fraction': 0.4906760192469139, 'bagging_fraction': 0.871315673993125, 'bagging_freq': 9, 'min_child_samples': 4}. Best is trial 83 with value: 26109.413233971536.\n",
            "<ipython-input-7-bd34402695c0>:8: FutureWarning: suggest_loguniform has been deprecated in v3.0.0. This feature will be removed in v6.0.0. See https://github.com/optuna/optuna/releases/tag/v3.0.0. Use suggest_float(..., log=True) instead.\n",
            "  'lambda_l1': trial.suggest_loguniform('lambda_l1', 1e-8, 10.0),\n",
            "<ipython-input-7-bd34402695c0>:9: FutureWarning: suggest_loguniform has been deprecated in v3.0.0. This feature will be removed in v6.0.0. See https://github.com/optuna/optuna/releases/tag/v3.0.0. Use suggest_float(..., log=True) instead.\n",
            "  'lambda_l2': trial.suggest_loguniform('lambda_l2', 1e-8, 10.0),\n",
            "<ipython-input-7-bd34402695c0>:11: FutureWarning: suggest_loguniform has been deprecated in v3.0.0. This feature will be removed in v6.0.0. See https://github.com/optuna/optuna/releases/tag/v3.0.0. Use suggest_float(..., log=True) instead.\n",
            "  'learning_rate': trial.suggest_loguniform('learning_rate', 0.01, 0.5),\n",
            "<ipython-input-7-bd34402695c0>:12: FutureWarning: suggest_uniform has been deprecated in v3.0.0. This feature will be removed in v6.0.0. See https://github.com/optuna/optuna/releases/tag/v3.0.0. Use suggest_float instead.\n",
            "  'feature_fraction': trial.suggest_uniform('feature_fraction', 0.1, 1.0),\n",
            "<ipython-input-7-bd34402695c0>:13: FutureWarning: suggest_uniform has been deprecated in v3.0.0. This feature will be removed in v6.0.0. See https://github.com/optuna/optuna/releases/tag/v3.0.0. Use suggest_float instead.\n",
            "  'bagging_fraction': trial.suggest_uniform('bagging_fraction', 0.1, 1.0),\n"
          ]
        },
        {
          "name": "stdout",
          "output_type": "stream",
          "text": [
            "[LightGBM] [Warning] bagging_fraction is set=0.8859067557873033, subsample=1.0 will be ignored. Current value: bagging_fraction=0.8859067557873033\n",
            "[LightGBM] [Warning] lambda_l2 is set=4.718819570591006e-08, reg_lambda=0.0 will be ignored. Current value: lambda_l2=4.718819570591006e-08\n",
            "[LightGBM] [Warning] lambda_l1 is set=0.054696771540875884, reg_alpha=0.0 will be ignored. Current value: lambda_l1=0.054696771540875884\n",
            "[LightGBM] [Warning] bagging_freq is set=9, subsample_freq=0 will be ignored. Current value: bagging_freq=9\n",
            "[LightGBM] [Warning] feature_fraction is set=0.4593745522919521, colsample_bytree=1.0 will be ignored. Current value: feature_fraction=0.4593745522919521\n"
          ]
        },
        {
          "name": "stderr",
          "output_type": "stream",
          "text": [
            "[I 2023-07-12 14:28:38,559] Trial 84 finished with value: 27430.052602351847 and parameters: {'lambda_l1': 0.054696771540875884, 'lambda_l2': 4.718819570591006e-08, 'num_leaves': 128, 'learning_rate': 0.06436291448878542, 'feature_fraction': 0.4593745522919521, 'bagging_fraction': 0.8859067557873033, 'bagging_freq': 9, 'min_child_samples': 4}. Best is trial 83 with value: 26109.413233971536.\n",
            "<ipython-input-7-bd34402695c0>:8: FutureWarning: suggest_loguniform has been deprecated in v3.0.0. This feature will be removed in v6.0.0. See https://github.com/optuna/optuna/releases/tag/v3.0.0. Use suggest_float(..., log=True) instead.\n",
            "  'lambda_l1': trial.suggest_loguniform('lambda_l1', 1e-8, 10.0),\n",
            "<ipython-input-7-bd34402695c0>:9: FutureWarning: suggest_loguniform has been deprecated in v3.0.0. This feature will be removed in v6.0.0. See https://github.com/optuna/optuna/releases/tag/v3.0.0. Use suggest_float(..., log=True) instead.\n",
            "  'lambda_l2': trial.suggest_loguniform('lambda_l2', 1e-8, 10.0),\n",
            "<ipython-input-7-bd34402695c0>:11: FutureWarning: suggest_loguniform has been deprecated in v3.0.0. This feature will be removed in v6.0.0. See https://github.com/optuna/optuna/releases/tag/v3.0.0. Use suggest_float(..., log=True) instead.\n",
            "  'learning_rate': trial.suggest_loguniform('learning_rate', 0.01, 0.5),\n",
            "<ipython-input-7-bd34402695c0>:12: FutureWarning: suggest_uniform has been deprecated in v3.0.0. This feature will be removed in v6.0.0. See https://github.com/optuna/optuna/releases/tag/v3.0.0. Use suggest_float instead.\n",
            "  'feature_fraction': trial.suggest_uniform('feature_fraction', 0.1, 1.0),\n",
            "<ipython-input-7-bd34402695c0>:13: FutureWarning: suggest_uniform has been deprecated in v3.0.0. This feature will be removed in v6.0.0. See https://github.com/optuna/optuna/releases/tag/v3.0.0. Use suggest_float instead.\n",
            "  'bagging_fraction': trial.suggest_uniform('bagging_fraction', 0.1, 1.0),\n"
          ]
        },
        {
          "name": "stdout",
          "output_type": "stream",
          "text": [
            "[LightGBM] [Warning] bagging_fraction is set=0.8639851542903908, subsample=1.0 will be ignored. Current value: bagging_fraction=0.8639851542903908\n",
            "[LightGBM] [Warning] lambda_l2 is set=2.7807714716892297e-07, reg_lambda=0.0 will be ignored. Current value: lambda_l2=2.7807714716892297e-07\n",
            "[LightGBM] [Warning] lambda_l1 is set=0.1548143102618555, reg_alpha=0.0 will be ignored. Current value: lambda_l1=0.1548143102618555\n",
            "[LightGBM] [Warning] bagging_freq is set=9, subsample_freq=0 will be ignored. Current value: bagging_freq=9\n",
            "[LightGBM] [Warning] feature_fraction is set=0.5355769538181158, colsample_bytree=1.0 will be ignored. Current value: feature_fraction=0.5355769538181158\n"
          ]
        },
        {
          "name": "stderr",
          "output_type": "stream",
          "text": [
            "[I 2023-07-12 14:28:38,901] Trial 85 finished with value: 29860.563235541304 and parameters: {'lambda_l1': 0.1548143102618555, 'lambda_l2': 2.7807714716892297e-07, 'num_leaves': 150, 'learning_rate': 0.03984144299151489, 'feature_fraction': 0.5355769538181158, 'bagging_fraction': 0.8639851542903908, 'bagging_freq': 9, 'min_child_samples': 12}. Best is trial 83 with value: 26109.413233971536.\n",
            "<ipython-input-7-bd34402695c0>:8: FutureWarning: suggest_loguniform has been deprecated in v3.0.0. This feature will be removed in v6.0.0. See https://github.com/optuna/optuna/releases/tag/v3.0.0. Use suggest_float(..., log=True) instead.\n",
            "  'lambda_l1': trial.suggest_loguniform('lambda_l1', 1e-8, 10.0),\n",
            "<ipython-input-7-bd34402695c0>:9: FutureWarning: suggest_loguniform has been deprecated in v3.0.0. This feature will be removed in v6.0.0. See https://github.com/optuna/optuna/releases/tag/v3.0.0. Use suggest_float(..., log=True) instead.\n",
            "  'lambda_l2': trial.suggest_loguniform('lambda_l2', 1e-8, 10.0),\n",
            "<ipython-input-7-bd34402695c0>:11: FutureWarning: suggest_loguniform has been deprecated in v3.0.0. This feature will be removed in v6.0.0. See https://github.com/optuna/optuna/releases/tag/v3.0.0. Use suggest_float(..., log=True) instead.\n",
            "  'learning_rate': trial.suggest_loguniform('learning_rate', 0.01, 0.5),\n",
            "<ipython-input-7-bd34402695c0>:12: FutureWarning: suggest_uniform has been deprecated in v3.0.0. This feature will be removed in v6.0.0. See https://github.com/optuna/optuna/releases/tag/v3.0.0. Use suggest_float instead.\n",
            "  'feature_fraction': trial.suggest_uniform('feature_fraction', 0.1, 1.0),\n",
            "<ipython-input-7-bd34402695c0>:13: FutureWarning: suggest_uniform has been deprecated in v3.0.0. This feature will be removed in v6.0.0. See https://github.com/optuna/optuna/releases/tag/v3.0.0. Use suggest_float instead.\n",
            "  'bagging_fraction': trial.suggest_uniform('bagging_fraction', 0.1, 1.0),\n"
          ]
        },
        {
          "name": "stdout",
          "output_type": "stream",
          "text": [
            "[LightGBM] [Warning] bagging_fraction is set=0.9563947445690671, subsample=1.0 will be ignored. Current value: bagging_fraction=0.9563947445690671\n",
            "[LightGBM] [Warning] lambda_l2 is set=9.180017796757347e-08, reg_lambda=0.0 will be ignored. Current value: lambda_l2=9.180017796757347e-08\n",
            "[LightGBM] [Warning] lambda_l1 is set=0.17993918678276016, reg_alpha=0.0 will be ignored. Current value: lambda_l1=0.17993918678276016\n",
            "[LightGBM] [Warning] bagging_freq is set=9, subsample_freq=0 will be ignored. Current value: bagging_freq=9\n",
            "[LightGBM] [Warning] feature_fraction is set=0.49497150187006816, colsample_bytree=1.0 will be ignored. Current value: feature_fraction=0.49497150187006816\n"
          ]
        },
        {
          "name": "stderr",
          "output_type": "stream",
          "text": [
            "[I 2023-07-12 14:28:39,327] Trial 86 finished with value: 27592.36410271867 and parameters: {'lambda_l1': 0.17993918678276016, 'lambda_l2': 9.180017796757347e-08, 'num_leaves': 118, 'learning_rate': 0.04867879914067625, 'feature_fraction': 0.49497150187006816, 'bagging_fraction': 0.9563947445690671, 'bagging_freq': 9, 'min_child_samples': 8}. Best is trial 83 with value: 26109.413233971536.\n",
            "<ipython-input-7-bd34402695c0>:8: FutureWarning: suggest_loguniform has been deprecated in v3.0.0. This feature will be removed in v6.0.0. See https://github.com/optuna/optuna/releases/tag/v3.0.0. Use suggest_float(..., log=True) instead.\n",
            "  'lambda_l1': trial.suggest_loguniform('lambda_l1', 1e-8, 10.0),\n",
            "<ipython-input-7-bd34402695c0>:9: FutureWarning: suggest_loguniform has been deprecated in v3.0.0. This feature will be removed in v6.0.0. See https://github.com/optuna/optuna/releases/tag/v3.0.0. Use suggest_float(..., log=True) instead.\n",
            "  'lambda_l2': trial.suggest_loguniform('lambda_l2', 1e-8, 10.0),\n",
            "<ipython-input-7-bd34402695c0>:11: FutureWarning: suggest_loguniform has been deprecated in v3.0.0. This feature will be removed in v6.0.0. See https://github.com/optuna/optuna/releases/tag/v3.0.0. Use suggest_float(..., log=True) instead.\n",
            "  'learning_rate': trial.suggest_loguniform('learning_rate', 0.01, 0.5),\n",
            "<ipython-input-7-bd34402695c0>:12: FutureWarning: suggest_uniform has been deprecated in v3.0.0. This feature will be removed in v6.0.0. See https://github.com/optuna/optuna/releases/tag/v3.0.0. Use suggest_float instead.\n",
            "  'feature_fraction': trial.suggest_uniform('feature_fraction', 0.1, 1.0),\n",
            "<ipython-input-7-bd34402695c0>:13: FutureWarning: suggest_uniform has been deprecated in v3.0.0. This feature will be removed in v6.0.0. See https://github.com/optuna/optuna/releases/tag/v3.0.0. Use suggest_float instead.\n",
            "  'bagging_fraction': trial.suggest_uniform('bagging_fraction', 0.1, 1.0),\n"
          ]
        },
        {
          "name": "stdout",
          "output_type": "stream",
          "text": [
            "[LightGBM] [Warning] bagging_fraction is set=0.9155443992261142, subsample=1.0 will be ignored. Current value: bagging_fraction=0.9155443992261142\n",
            "[LightGBM] [Warning] lambda_l2 is set=2.2864068768577905e-06, reg_lambda=0.0 will be ignored. Current value: lambda_l2=2.2864068768577905e-06\n",
            "[LightGBM] [Warning] lambda_l1 is set=0.04548176303448254, reg_alpha=0.0 will be ignored. Current value: lambda_l1=0.04548176303448254\n",
            "[LightGBM] [Warning] bagging_freq is set=9, subsample_freq=0 will be ignored. Current value: bagging_freq=9\n",
            "[LightGBM] [Warning] feature_fraction is set=0.48634474074107714, colsample_bytree=1.0 will be ignored. Current value: feature_fraction=0.48634474074107714\n"
          ]
        },
        {
          "name": "stderr",
          "output_type": "stream",
          "text": [
            "[I 2023-07-12 14:28:39,909] Trial 87 finished with value: 26163.327042930225 and parameters: {'lambda_l1': 0.04548176303448254, 'lambda_l2': 2.2864068768577905e-06, 'num_leaves': 133, 'learning_rate': 0.05704862092463365, 'feature_fraction': 0.48634474074107714, 'bagging_fraction': 0.9155443992261142, 'bagging_freq': 9, 'min_child_samples': 3}. Best is trial 83 with value: 26109.413233971536.\n",
            "<ipython-input-7-bd34402695c0>:8: FutureWarning: suggest_loguniform has been deprecated in v3.0.0. This feature will be removed in v6.0.0. See https://github.com/optuna/optuna/releases/tag/v3.0.0. Use suggest_float(..., log=True) instead.\n",
            "  'lambda_l1': trial.suggest_loguniform('lambda_l1', 1e-8, 10.0),\n",
            "<ipython-input-7-bd34402695c0>:9: FutureWarning: suggest_loguniform has been deprecated in v3.0.0. This feature will be removed in v6.0.0. See https://github.com/optuna/optuna/releases/tag/v3.0.0. Use suggest_float(..., log=True) instead.\n",
            "  'lambda_l2': trial.suggest_loguniform('lambda_l2', 1e-8, 10.0),\n",
            "<ipython-input-7-bd34402695c0>:11: FutureWarning: suggest_loguniform has been deprecated in v3.0.0. This feature will be removed in v6.0.0. See https://github.com/optuna/optuna/releases/tag/v3.0.0. Use suggest_float(..., log=True) instead.\n",
            "  'learning_rate': trial.suggest_loguniform('learning_rate', 0.01, 0.5),\n",
            "<ipython-input-7-bd34402695c0>:12: FutureWarning: suggest_uniform has been deprecated in v3.0.0. This feature will be removed in v6.0.0. See https://github.com/optuna/optuna/releases/tag/v3.0.0. Use suggest_float instead.\n",
            "  'feature_fraction': trial.suggest_uniform('feature_fraction', 0.1, 1.0),\n",
            "<ipython-input-7-bd34402695c0>:13: FutureWarning: suggest_uniform has been deprecated in v3.0.0. This feature will be removed in v6.0.0. See https://github.com/optuna/optuna/releases/tag/v3.0.0. Use suggest_float instead.\n",
            "  'bagging_fraction': trial.suggest_uniform('bagging_fraction', 0.1, 1.0),\n",
            "[I 2023-07-12 14:28:40,041] Trial 88 finished with value: 35763.264632023776 and parameters: {'lambda_l1': 0.02616635882133154, 'lambda_l2': 2.5068761984069925e-06, 'num_leaves': 146, 'learning_rate': 0.056076872437567295, 'feature_fraction': 0.43120686027795474, 'bagging_fraction': 0.9214358576467755, 'bagging_freq': 10, 'min_child_samples': 75}. Best is trial 83 with value: 26109.413233971536.\n",
            "<ipython-input-7-bd34402695c0>:8: FutureWarning: suggest_loguniform has been deprecated in v3.0.0. This feature will be removed in v6.0.0. See https://github.com/optuna/optuna/releases/tag/v3.0.0. Use suggest_float(..., log=True) instead.\n",
            "  'lambda_l1': trial.suggest_loguniform('lambda_l1', 1e-8, 10.0),\n",
            "<ipython-input-7-bd34402695c0>:9: FutureWarning: suggest_loguniform has been deprecated in v3.0.0. This feature will be removed in v6.0.0. See https://github.com/optuna/optuna/releases/tag/v3.0.0. Use suggest_float(..., log=True) instead.\n",
            "  'lambda_l2': trial.suggest_loguniform('lambda_l2', 1e-8, 10.0),\n",
            "<ipython-input-7-bd34402695c0>:11: FutureWarning: suggest_loguniform has been deprecated in v3.0.0. This feature will be removed in v6.0.0. See https://github.com/optuna/optuna/releases/tag/v3.0.0. Use suggest_float(..., log=True) instead.\n",
            "  'learning_rate': trial.suggest_loguniform('learning_rate', 0.01, 0.5),\n",
            "<ipython-input-7-bd34402695c0>:12: FutureWarning: suggest_uniform has been deprecated in v3.0.0. This feature will be removed in v6.0.0. See https://github.com/optuna/optuna/releases/tag/v3.0.0. Use suggest_float instead.\n",
            "  'feature_fraction': trial.suggest_uniform('feature_fraction', 0.1, 1.0),\n",
            "<ipython-input-7-bd34402695c0>:13: FutureWarning: suggest_uniform has been deprecated in v3.0.0. This feature will be removed in v6.0.0. See https://github.com/optuna/optuna/releases/tag/v3.0.0. Use suggest_float instead.\n",
            "  'bagging_fraction': trial.suggest_uniform('bagging_fraction', 0.1, 1.0),\n"
          ]
        },
        {
          "name": "stdout",
          "output_type": "stream",
          "text": [
            "[LightGBM] [Warning] bagging_fraction is set=0.9214358576467755, subsample=1.0 will be ignored. Current value: bagging_fraction=0.9214358576467755\n",
            "[LightGBM] [Warning] lambda_l2 is set=2.5068761984069925e-06, reg_lambda=0.0 will be ignored. Current value: lambda_l2=2.5068761984069925e-06\n",
            "[LightGBM] [Warning] lambda_l1 is set=0.02616635882133154, reg_alpha=0.0 will be ignored. Current value: lambda_l1=0.02616635882133154\n",
            "[LightGBM] [Warning] bagging_freq is set=10, subsample_freq=0 will be ignored. Current value: bagging_freq=10\n",
            "[LightGBM] [Warning] feature_fraction is set=0.43120686027795474, colsample_bytree=1.0 will be ignored. Current value: feature_fraction=0.43120686027795474\n",
            "[LightGBM] [Warning] bagging_fraction is set=0.822962214302128, subsample=1.0 will be ignored. Current value: bagging_fraction=0.822962214302128\n",
            "[LightGBM] [Warning] lambda_l2 is set=7.176095091943976e-07, reg_lambda=0.0 will be ignored. Current value: lambda_l2=7.176095091943976e-07\n",
            "[LightGBM] [Warning] lambda_l1 is set=0.04794834370365451, reg_alpha=0.0 will be ignored. Current value: lambda_l1=0.04794834370365451\n",
            "[LightGBM] [Warning] bagging_freq is set=9, subsample_freq=0 will be ignored. Current value: bagging_freq=9\n",
            "[LightGBM] [Warning] feature_fraction is set=0.48565004708995646, colsample_bytree=1.0 will be ignored. Current value: feature_fraction=0.48565004708995646\n"
          ]
        },
        {
          "name": "stderr",
          "output_type": "stream",
          "text": [
            "[I 2023-07-12 14:28:40,279] Trial 89 finished with value: 29546.04005274936 and parameters: {'lambda_l1': 0.04794834370365451, 'lambda_l2': 7.176095091943976e-07, 'num_leaves': 133, 'learning_rate': 0.06390560776487833, 'feature_fraction': 0.48565004708995646, 'bagging_fraction': 0.822962214302128, 'bagging_freq': 9, 'min_child_samples': 18}. Best is trial 83 with value: 26109.413233971536.\n",
            "<ipython-input-7-bd34402695c0>:8: FutureWarning: suggest_loguniform has been deprecated in v3.0.0. This feature will be removed in v6.0.0. See https://github.com/optuna/optuna/releases/tag/v3.0.0. Use suggest_float(..., log=True) instead.\n",
            "  'lambda_l1': trial.suggest_loguniform('lambda_l1', 1e-8, 10.0),\n",
            "<ipython-input-7-bd34402695c0>:9: FutureWarning: suggest_loguniform has been deprecated in v3.0.0. This feature will be removed in v6.0.0. See https://github.com/optuna/optuna/releases/tag/v3.0.0. Use suggest_float(..., log=True) instead.\n",
            "  'lambda_l2': trial.suggest_loguniform('lambda_l2', 1e-8, 10.0),\n",
            "<ipython-input-7-bd34402695c0>:11: FutureWarning: suggest_loguniform has been deprecated in v3.0.0. This feature will be removed in v6.0.0. See https://github.com/optuna/optuna/releases/tag/v3.0.0. Use suggest_float(..., log=True) instead.\n",
            "  'learning_rate': trial.suggest_loguniform('learning_rate', 0.01, 0.5),\n",
            "<ipython-input-7-bd34402695c0>:12: FutureWarning: suggest_uniform has been deprecated in v3.0.0. This feature will be removed in v6.0.0. See https://github.com/optuna/optuna/releases/tag/v3.0.0. Use suggest_float instead.\n",
            "  'feature_fraction': trial.suggest_uniform('feature_fraction', 0.1, 1.0),\n",
            "<ipython-input-7-bd34402695c0>:13: FutureWarning: suggest_uniform has been deprecated in v3.0.0. This feature will be removed in v6.0.0. See https://github.com/optuna/optuna/releases/tag/v3.0.0. Use suggest_float instead.\n",
            "  'bagging_fraction': trial.suggest_uniform('bagging_fraction', 0.1, 1.0),\n"
          ]
        },
        {
          "name": "stdout",
          "output_type": "stream",
          "text": [
            "[LightGBM] [Warning] bagging_fraction is set=0.9789791758659405, subsample=1.0 will be ignored. Current value: bagging_fraction=0.9789791758659405\n",
            "[LightGBM] [Warning] lambda_l2 is set=4.69796467618473e-07, reg_lambda=0.0 will be ignored. Current value: lambda_l2=4.69796467618473e-07\n",
            "[LightGBM] [Warning] lambda_l1 is set=0.009336354990164913, reg_alpha=0.0 will be ignored. Current value: lambda_l1=0.009336354990164913\n",
            "[LightGBM] [Warning] bagging_freq is set=3, subsample_freq=0 will be ignored. Current value: bagging_freq=3\n",
            "[LightGBM] [Warning] feature_fraction is set=0.4566232228246725, colsample_bytree=1.0 will be ignored. Current value: feature_fraction=0.4566232228246725\n"
          ]
        },
        {
          "name": "stderr",
          "output_type": "stream",
          "text": [
            "[I 2023-07-12 14:28:41,136] Trial 90 finished with value: 29446.14083573429 and parameters: {'lambda_l1': 0.009336354990164913, 'lambda_l2': 4.69796467618473e-07, 'num_leaves': 160, 'learning_rate': 0.05121647369692719, 'feature_fraction': 0.4566232228246725, 'bagging_fraction': 0.9789791758659405, 'bagging_freq': 3, 'min_child_samples': 1}. Best is trial 83 with value: 26109.413233971536.\n",
            "<ipython-input-7-bd34402695c0>:8: FutureWarning: suggest_loguniform has been deprecated in v3.0.0. This feature will be removed in v6.0.0. See https://github.com/optuna/optuna/releases/tag/v3.0.0. Use suggest_float(..., log=True) instead.\n",
            "  'lambda_l1': trial.suggest_loguniform('lambda_l1', 1e-8, 10.0),\n",
            "<ipython-input-7-bd34402695c0>:9: FutureWarning: suggest_loguniform has been deprecated in v3.0.0. This feature will be removed in v6.0.0. See https://github.com/optuna/optuna/releases/tag/v3.0.0. Use suggest_float(..., log=True) instead.\n",
            "  'lambda_l2': trial.suggest_loguniform('lambda_l2', 1e-8, 10.0),\n",
            "<ipython-input-7-bd34402695c0>:11: FutureWarning: suggest_loguniform has been deprecated in v3.0.0. This feature will be removed in v6.0.0. See https://github.com/optuna/optuna/releases/tag/v3.0.0. Use suggest_float(..., log=True) instead.\n",
            "  'learning_rate': trial.suggest_loguniform('learning_rate', 0.01, 0.5),\n",
            "<ipython-input-7-bd34402695c0>:12: FutureWarning: suggest_uniform has been deprecated in v3.0.0. This feature will be removed in v6.0.0. See https://github.com/optuna/optuna/releases/tag/v3.0.0. Use suggest_float instead.\n",
            "  'feature_fraction': trial.suggest_uniform('feature_fraction', 0.1, 1.0),\n",
            "<ipython-input-7-bd34402695c0>:13: FutureWarning: suggest_uniform has been deprecated in v3.0.0. This feature will be removed in v6.0.0. See https://github.com/optuna/optuna/releases/tag/v3.0.0. Use suggest_float instead.\n",
            "  'bagging_fraction': trial.suggest_uniform('bagging_fraction', 0.1, 1.0),\n"
          ]
        },
        {
          "name": "stdout",
          "output_type": "stream",
          "text": [
            "[LightGBM] [Warning] bagging_fraction is set=0.9491597957522886, subsample=1.0 will be ignored. Current value: bagging_fraction=0.9491597957522886\n",
            "[LightGBM] [Warning] lambda_l2 is set=1.8806685131247887e-07, reg_lambda=0.0 will be ignored. Current value: lambda_l2=1.8806685131247887e-07\n",
            "[LightGBM] [Warning] lambda_l1 is set=0.09126416977825592, reg_alpha=0.0 will be ignored. Current value: lambda_l1=0.09126416977825592\n",
            "[LightGBM] [Warning] bagging_freq is set=9, subsample_freq=0 will be ignored. Current value: bagging_freq=9\n",
            "[LightGBM] [Warning] feature_fraction is set=0.512789413433571, colsample_bytree=1.0 will be ignored. Current value: feature_fraction=0.512789413433571\n"
          ]
        },
        {
          "name": "stderr",
          "output_type": "stream",
          "text": [
            "[I 2023-07-12 14:28:43,682] Trial 91 finished with value: 26114.87984019101 and parameters: {'lambda_l1': 0.09126416977825592, 'lambda_l2': 1.8806685131247887e-07, 'num_leaves': 121, 'learning_rate': 0.07238568039718417, 'feature_fraction': 0.512789413433571, 'bagging_fraction': 0.9491597957522886, 'bagging_freq': 9, 'min_child_samples': 3}. Best is trial 83 with value: 26109.413233971536.\n",
            "<ipython-input-7-bd34402695c0>:8: FutureWarning: suggest_loguniform has been deprecated in v3.0.0. This feature will be removed in v6.0.0. See https://github.com/optuna/optuna/releases/tag/v3.0.0. Use suggest_float(..., log=True) instead.\n",
            "  'lambda_l1': trial.suggest_loguniform('lambda_l1', 1e-8, 10.0),\n",
            "<ipython-input-7-bd34402695c0>:9: FutureWarning: suggest_loguniform has been deprecated in v3.0.0. This feature will be removed in v6.0.0. See https://github.com/optuna/optuna/releases/tag/v3.0.0. Use suggest_float(..., log=True) instead.\n",
            "  'lambda_l2': trial.suggest_loguniform('lambda_l2', 1e-8, 10.0),\n",
            "<ipython-input-7-bd34402695c0>:11: FutureWarning: suggest_loguniform has been deprecated in v3.0.0. This feature will be removed in v6.0.0. See https://github.com/optuna/optuna/releases/tag/v3.0.0. Use suggest_float(..., log=True) instead.\n",
            "  'learning_rate': trial.suggest_loguniform('learning_rate', 0.01, 0.5),\n",
            "<ipython-input-7-bd34402695c0>:12: FutureWarning: suggest_uniform has been deprecated in v3.0.0. This feature will be removed in v6.0.0. See https://github.com/optuna/optuna/releases/tag/v3.0.0. Use suggest_float instead.\n",
            "  'feature_fraction': trial.suggest_uniform('feature_fraction', 0.1, 1.0),\n",
            "<ipython-input-7-bd34402695c0>:13: FutureWarning: suggest_uniform has been deprecated in v3.0.0. This feature will be removed in v6.0.0. See https://github.com/optuna/optuna/releases/tag/v3.0.0. Use suggest_float instead.\n",
            "  'bagging_fraction': trial.suggest_uniform('bagging_fraction', 0.1, 1.0),\n"
          ]
        },
        {
          "name": "stdout",
          "output_type": "stream",
          "text": [
            "[LightGBM] [Warning] bagging_fraction is set=0.907612698072745, subsample=1.0 will be ignored. Current value: bagging_fraction=0.907612698072745\n",
            "[LightGBM] [Warning] lambda_l2 is set=2.0675393408278924e-07, reg_lambda=0.0 will be ignored. Current value: lambda_l2=2.0675393408278924e-07\n",
            "[LightGBM] [Warning] lambda_l1 is set=0.0742862377859721, reg_alpha=0.0 will be ignored. Current value: lambda_l1=0.0742862377859721\n",
            "[LightGBM] [Warning] bagging_freq is set=9, subsample_freq=0 will be ignored. Current value: bagging_freq=9\n",
            "[LightGBM] [Warning] feature_fraction is set=0.5192385983481609, colsample_bytree=1.0 will be ignored. Current value: feature_fraction=0.5192385983481609\n"
          ]
        },
        {
          "name": "stderr",
          "output_type": "stream",
          "text": [
            "[I 2023-07-12 14:28:44,163] Trial 92 finished with value: 28037.268850663284 and parameters: {'lambda_l1': 0.0742862377859721, 'lambda_l2': 2.0675393408278924e-07, 'num_leaves': 123, 'learning_rate': 0.058975813801261795, 'feature_fraction': 0.5192385983481609, 'bagging_fraction': 0.907612698072745, 'bagging_freq': 9, 'min_child_samples': 7}. Best is trial 83 with value: 26109.413233971536.\n",
            "<ipython-input-7-bd34402695c0>:8: FutureWarning: suggest_loguniform has been deprecated in v3.0.0. This feature will be removed in v6.0.0. See https://github.com/optuna/optuna/releases/tag/v3.0.0. Use suggest_float(..., log=True) instead.\n",
            "  'lambda_l1': trial.suggest_loguniform('lambda_l1', 1e-8, 10.0),\n",
            "<ipython-input-7-bd34402695c0>:9: FutureWarning: suggest_loguniform has been deprecated in v3.0.0. This feature will be removed in v6.0.0. See https://github.com/optuna/optuna/releases/tag/v3.0.0. Use suggest_float(..., log=True) instead.\n",
            "  'lambda_l2': trial.suggest_loguniform('lambda_l2', 1e-8, 10.0),\n",
            "<ipython-input-7-bd34402695c0>:11: FutureWarning: suggest_loguniform has been deprecated in v3.0.0. This feature will be removed in v6.0.0. See https://github.com/optuna/optuna/releases/tag/v3.0.0. Use suggest_float(..., log=True) instead.\n",
            "  'learning_rate': trial.suggest_loguniform('learning_rate', 0.01, 0.5),\n",
            "<ipython-input-7-bd34402695c0>:12: FutureWarning: suggest_uniform has been deprecated in v3.0.0. This feature will be removed in v6.0.0. See https://github.com/optuna/optuna/releases/tag/v3.0.0. Use suggest_float instead.\n",
            "  'feature_fraction': trial.suggest_uniform('feature_fraction', 0.1, 1.0),\n",
            "<ipython-input-7-bd34402695c0>:13: FutureWarning: suggest_uniform has been deprecated in v3.0.0. This feature will be removed in v6.0.0. See https://github.com/optuna/optuna/releases/tag/v3.0.0. Use suggest_float instead.\n",
            "  'bagging_fraction': trial.suggest_uniform('bagging_fraction', 0.1, 1.0),\n"
          ]
        },
        {
          "name": "stdout",
          "output_type": "stream",
          "text": [
            "[LightGBM] [Warning] bagging_fraction is set=0.9450445406298583, subsample=1.0 will be ignored. Current value: bagging_fraction=0.9450445406298583\n",
            "[LightGBM] [Warning] lambda_l2 is set=1.0706942293053998e-07, reg_lambda=0.0 will be ignored. Current value: lambda_l2=1.0706942293053998e-07\n",
            "[LightGBM] [Warning] lambda_l1 is set=0.10799834333787468, reg_alpha=0.0 will be ignored. Current value: lambda_l1=0.10799834333787468\n",
            "[LightGBM] [Warning] bagging_freq is set=9, subsample_freq=0 will be ignored. Current value: bagging_freq=9\n",
            "[LightGBM] [Warning] feature_fraction is set=0.49015734367353314, colsample_bytree=1.0 will be ignored. Current value: feature_fraction=0.49015734367353314\n"
          ]
        },
        {
          "name": "stderr",
          "output_type": "stream",
          "text": [
            "[I 2023-07-12 14:28:44,733] Trial 93 finished with value: 25833.169059244683 and parameters: {'lambda_l1': 0.10799834333787468, 'lambda_l2': 1.0706942293053998e-07, 'num_leaves': 143, 'learning_rate': 0.07438082072642226, 'feature_fraction': 0.49015734367353314, 'bagging_fraction': 0.9450445406298583, 'bagging_freq': 9, 'min_child_samples': 3}. Best is trial 93 with value: 25833.169059244683.\n",
            "<ipython-input-7-bd34402695c0>:8: FutureWarning: suggest_loguniform has been deprecated in v3.0.0. This feature will be removed in v6.0.0. See https://github.com/optuna/optuna/releases/tag/v3.0.0. Use suggest_float(..., log=True) instead.\n",
            "  'lambda_l1': trial.suggest_loguniform('lambda_l1', 1e-8, 10.0),\n",
            "<ipython-input-7-bd34402695c0>:9: FutureWarning: suggest_loguniform has been deprecated in v3.0.0. This feature will be removed in v6.0.0. See https://github.com/optuna/optuna/releases/tag/v3.0.0. Use suggest_float(..., log=True) instead.\n",
            "  'lambda_l2': trial.suggest_loguniform('lambda_l2', 1e-8, 10.0),\n",
            "<ipython-input-7-bd34402695c0>:11: FutureWarning: suggest_loguniform has been deprecated in v3.0.0. This feature will be removed in v6.0.0. See https://github.com/optuna/optuna/releases/tag/v3.0.0. Use suggest_float(..., log=True) instead.\n",
            "  'learning_rate': trial.suggest_loguniform('learning_rate', 0.01, 0.5),\n",
            "<ipython-input-7-bd34402695c0>:12: FutureWarning: suggest_uniform has been deprecated in v3.0.0. This feature will be removed in v6.0.0. See https://github.com/optuna/optuna/releases/tag/v3.0.0. Use suggest_float instead.\n",
            "  'feature_fraction': trial.suggest_uniform('feature_fraction', 0.1, 1.0),\n",
            "<ipython-input-7-bd34402695c0>:13: FutureWarning: suggest_uniform has been deprecated in v3.0.0. This feature will be removed in v6.0.0. See https://github.com/optuna/optuna/releases/tag/v3.0.0. Use suggest_float instead.\n",
            "  'bagging_fraction': trial.suggest_uniform('bagging_fraction', 0.1, 1.0),\n"
          ]
        },
        {
          "name": "stdout",
          "output_type": "stream",
          "text": [
            "[LightGBM] [Warning] bagging_fraction is set=0.944851425280819, subsample=1.0 will be ignored. Current value: bagging_fraction=0.944851425280819\n",
            "[LightGBM] [Warning] lambda_l2 is set=1.0901206632313183e-07, reg_lambda=0.0 will be ignored. Current value: lambda_l2=1.0901206632313183e-07\n",
            "[LightGBM] [Warning] lambda_l1 is set=0.0949640209810806, reg_alpha=0.0 will be ignored. Current value: lambda_l1=0.0949640209810806\n",
            "[LightGBM] [Warning] bagging_freq is set=10, subsample_freq=0 will be ignored. Current value: bagging_freq=10\n",
            "[LightGBM] [Warning] feature_fraction is set=0.47545227459359796, colsample_bytree=1.0 will be ignored. Current value: feature_fraction=0.47545227459359796\n"
          ]
        },
        {
          "name": "stderr",
          "output_type": "stream",
          "text": [
            "[I 2023-07-12 14:28:45,035] Trial 94 finished with value: 28399.263435551566 and parameters: {'lambda_l1': 0.0949640209810806, 'lambda_l2': 1.0901206632313183e-07, 'num_leaves': 141, 'learning_rate': 0.07160544106417949, 'feature_fraction': 0.47545227459359796, 'bagging_fraction': 0.944851425280819, 'bagging_freq': 10, 'min_child_samples': 14}. Best is trial 93 with value: 25833.169059244683.\n",
            "<ipython-input-7-bd34402695c0>:8: FutureWarning: suggest_loguniform has been deprecated in v3.0.0. This feature will be removed in v6.0.0. See https://github.com/optuna/optuna/releases/tag/v3.0.0. Use suggest_float(..., log=True) instead.\n",
            "  'lambda_l1': trial.suggest_loguniform('lambda_l1', 1e-8, 10.0),\n",
            "<ipython-input-7-bd34402695c0>:9: FutureWarning: suggest_loguniform has been deprecated in v3.0.0. This feature will be removed in v6.0.0. See https://github.com/optuna/optuna/releases/tag/v3.0.0. Use suggest_float(..., log=True) instead.\n",
            "  'lambda_l2': trial.suggest_loguniform('lambda_l2', 1e-8, 10.0),\n",
            "<ipython-input-7-bd34402695c0>:11: FutureWarning: suggest_loguniform has been deprecated in v3.0.0. This feature will be removed in v6.0.0. See https://github.com/optuna/optuna/releases/tag/v3.0.0. Use suggest_float(..., log=True) instead.\n",
            "  'learning_rate': trial.suggest_loguniform('learning_rate', 0.01, 0.5),\n",
            "<ipython-input-7-bd34402695c0>:12: FutureWarning: suggest_uniform has been deprecated in v3.0.0. This feature will be removed in v6.0.0. See https://github.com/optuna/optuna/releases/tag/v3.0.0. Use suggest_float instead.\n",
            "  'feature_fraction': trial.suggest_uniform('feature_fraction', 0.1, 1.0),\n",
            "<ipython-input-7-bd34402695c0>:13: FutureWarning: suggest_uniform has been deprecated in v3.0.0. This feature will be removed in v6.0.0. See https://github.com/optuna/optuna/releases/tag/v3.0.0. Use suggest_float instead.\n",
            "  'bagging_fraction': trial.suggest_uniform('bagging_fraction', 0.1, 1.0),\n"
          ]
        },
        {
          "name": "stdout",
          "output_type": "stream",
          "text": [
            "[LightGBM] [Warning] bagging_fraction is set=0.9684605296180893, subsample=1.0 will be ignored. Current value: bagging_fraction=0.9684605296180893\n",
            "[LightGBM] [Warning] lambda_l2 is set=1.4509736025876824e-06, reg_lambda=0.0 will be ignored. Current value: lambda_l2=1.4509736025876824e-06\n",
            "[LightGBM] [Warning] lambda_l1 is set=0.02114006190460109, reg_alpha=0.0 will be ignored. Current value: lambda_l1=0.02114006190460109\n",
            "[LightGBM] [Warning] bagging_freq is set=9, subsample_freq=0 will be ignored. Current value: bagging_freq=9\n",
            "[LightGBM] [Warning] feature_fraction is set=0.503362389761127, colsample_bytree=1.0 will be ignored. Current value: feature_fraction=0.503362389761127\n"
          ]
        },
        {
          "name": "stderr",
          "output_type": "stream",
          "text": [
            "[I 2023-07-12 14:28:45,381] Trial 95 finished with value: 27694.734572390043 and parameters: {'lambda_l1': 0.02114006190460109, 'lambda_l2': 1.4509736025876824e-06, 'num_leaves': 128, 'learning_rate': 0.08001374286393746, 'feature_fraction': 0.503362389761127, 'bagging_fraction': 0.9684605296180893, 'bagging_freq': 9, 'min_child_samples': 10}. Best is trial 93 with value: 25833.169059244683.\n",
            "<ipython-input-7-bd34402695c0>:8: FutureWarning: suggest_loguniform has been deprecated in v3.0.0. This feature will be removed in v6.0.0. See https://github.com/optuna/optuna/releases/tag/v3.0.0. Use suggest_float(..., log=True) instead.\n",
            "  'lambda_l1': trial.suggest_loguniform('lambda_l1', 1e-8, 10.0),\n",
            "<ipython-input-7-bd34402695c0>:9: FutureWarning: suggest_loguniform has been deprecated in v3.0.0. This feature will be removed in v6.0.0. See https://github.com/optuna/optuna/releases/tag/v3.0.0. Use suggest_float(..., log=True) instead.\n",
            "  'lambda_l2': trial.suggest_loguniform('lambda_l2', 1e-8, 10.0),\n",
            "<ipython-input-7-bd34402695c0>:11: FutureWarning: suggest_loguniform has been deprecated in v3.0.0. This feature will be removed in v6.0.0. See https://github.com/optuna/optuna/releases/tag/v3.0.0. Use suggest_float(..., log=True) instead.\n",
            "  'learning_rate': trial.suggest_loguniform('learning_rate', 0.01, 0.5),\n",
            "<ipython-input-7-bd34402695c0>:12: FutureWarning: suggest_uniform has been deprecated in v3.0.0. This feature will be removed in v6.0.0. See https://github.com/optuna/optuna/releases/tag/v3.0.0. Use suggest_float instead.\n",
            "  'feature_fraction': trial.suggest_uniform('feature_fraction', 0.1, 1.0),\n",
            "<ipython-input-7-bd34402695c0>:13: FutureWarning: suggest_uniform has been deprecated in v3.0.0. This feature will be removed in v6.0.0. See https://github.com/optuna/optuna/releases/tag/v3.0.0. Use suggest_float instead.\n",
            "  'bagging_fraction': trial.suggest_uniform('bagging_fraction', 0.1, 1.0),\n"
          ]
        },
        {
          "name": "stdout",
          "output_type": "stream",
          "text": [
            "[LightGBM] [Warning] bagging_fraction is set=0.8843986047810711, subsample=1.0 will be ignored. Current value: bagging_fraction=0.8843986047810711\n",
            "[LightGBM] [Warning] lambda_l2 is set=3.1247324570668865e-07, reg_lambda=0.0 will be ignored. Current value: lambda_l2=3.1247324570668865e-07\n",
            "[LightGBM] [Warning] lambda_l1 is set=0.04179200301634474, reg_alpha=0.0 will be ignored. Current value: lambda_l1=0.04179200301634474\n",
            "[LightGBM] [Warning] bagging_freq is set=10, subsample_freq=0 will be ignored. Current value: bagging_freq=10\n",
            "[LightGBM] [Warning] feature_fraction is set=0.4224323310733835, colsample_bytree=1.0 will be ignored. Current value: feature_fraction=0.4224323310733835\n"
          ]
        },
        {
          "name": "stderr",
          "output_type": "stream",
          "text": [
            "[I 2023-07-12 14:28:45,998] Trial 96 finished with value: 26346.78393418683 and parameters: {'lambda_l1': 0.04179200301634474, 'lambda_l2': 3.1247324570668865e-07, 'num_leaves': 173, 'learning_rate': 0.06406726982930491, 'feature_fraction': 0.4224323310733835, 'bagging_fraction': 0.8843986047810711, 'bagging_freq': 10, 'min_child_samples': 3}. Best is trial 93 with value: 25833.169059244683.\n",
            "<ipython-input-7-bd34402695c0>:8: FutureWarning: suggest_loguniform has been deprecated in v3.0.0. This feature will be removed in v6.0.0. See https://github.com/optuna/optuna/releases/tag/v3.0.0. Use suggest_float(..., log=True) instead.\n",
            "  'lambda_l1': trial.suggest_loguniform('lambda_l1', 1e-8, 10.0),\n",
            "<ipython-input-7-bd34402695c0>:9: FutureWarning: suggest_loguniform has been deprecated in v3.0.0. This feature will be removed in v6.0.0. See https://github.com/optuna/optuna/releases/tag/v3.0.0. Use suggest_float(..., log=True) instead.\n",
            "  'lambda_l2': trial.suggest_loguniform('lambda_l2', 1e-8, 10.0),\n",
            "<ipython-input-7-bd34402695c0>:11: FutureWarning: suggest_loguniform has been deprecated in v3.0.0. This feature will be removed in v6.0.0. See https://github.com/optuna/optuna/releases/tag/v3.0.0. Use suggest_float(..., log=True) instead.\n",
            "  'learning_rate': trial.suggest_loguniform('learning_rate', 0.01, 0.5),\n",
            "<ipython-input-7-bd34402695c0>:12: FutureWarning: suggest_uniform has been deprecated in v3.0.0. This feature will be removed in v6.0.0. See https://github.com/optuna/optuna/releases/tag/v3.0.0. Use suggest_float instead.\n",
            "  'feature_fraction': trial.suggest_uniform('feature_fraction', 0.1, 1.0),\n",
            "<ipython-input-7-bd34402695c0>:13: FutureWarning: suggest_uniform has been deprecated in v3.0.0. This feature will be removed in v6.0.0. See https://github.com/optuna/optuna/releases/tag/v3.0.0. Use suggest_float instead.\n",
            "  'bagging_fraction': trial.suggest_uniform('bagging_fraction', 0.1, 1.0),\n"
          ]
        },
        {
          "name": "stdout",
          "output_type": "stream",
          "text": [
            "[LightGBM] [Warning] bagging_fraction is set=0.8722685024825839, subsample=1.0 will be ignored. Current value: bagging_fraction=0.8722685024825839\n",
            "[LightGBM] [Warning] lambda_l2 is set=3.3301610938046604e-07, reg_lambda=0.0 will be ignored. Current value: lambda_l2=3.3301610938046604e-07\n",
            "[LightGBM] [Warning] lambda_l1 is set=0.039850425111013076, reg_alpha=0.0 will be ignored. Current value: lambda_l1=0.039850425111013076\n",
            "[LightGBM] [Warning] bagging_freq is set=10, subsample_freq=0 will be ignored. Current value: bagging_freq=10\n",
            "[LightGBM] [Warning] feature_fraction is set=0.45649390869603507, colsample_bytree=1.0 will be ignored. Current value: feature_fraction=0.45649390869603507\n"
          ]
        },
        {
          "name": "stderr",
          "output_type": "stream",
          "text": [
            "[I 2023-07-12 14:28:46,377] Trial 97 finished with value: 28847.21204146541 and parameters: {'lambda_l1': 0.039850425111013076, 'lambda_l2': 3.3301610938046604e-07, 'num_leaves': 182, 'learning_rate': 0.06581657418559764, 'feature_fraction': 0.45649390869603507, 'bagging_fraction': 0.8722685024825839, 'bagging_freq': 10, 'min_child_samples': 8}. Best is trial 93 with value: 25833.169059244683.\n",
            "<ipython-input-7-bd34402695c0>:8: FutureWarning: suggest_loguniform has been deprecated in v3.0.0. This feature will be removed in v6.0.0. See https://github.com/optuna/optuna/releases/tag/v3.0.0. Use suggest_float(..., log=True) instead.\n",
            "  'lambda_l1': trial.suggest_loguniform('lambda_l1', 1e-8, 10.0),\n",
            "<ipython-input-7-bd34402695c0>:9: FutureWarning: suggest_loguniform has been deprecated in v3.0.0. This feature will be removed in v6.0.0. See https://github.com/optuna/optuna/releases/tag/v3.0.0. Use suggest_float(..., log=True) instead.\n",
            "  'lambda_l2': trial.suggest_loguniform('lambda_l2', 1e-8, 10.0),\n",
            "<ipython-input-7-bd34402695c0>:11: FutureWarning: suggest_loguniform has been deprecated in v3.0.0. This feature will be removed in v6.0.0. See https://github.com/optuna/optuna/releases/tag/v3.0.0. Use suggest_float(..., log=True) instead.\n",
            "  'learning_rate': trial.suggest_loguniform('learning_rate', 0.01, 0.5),\n",
            "<ipython-input-7-bd34402695c0>:12: FutureWarning: suggest_uniform has been deprecated in v3.0.0. This feature will be removed in v6.0.0. See https://github.com/optuna/optuna/releases/tag/v3.0.0. Use suggest_float instead.\n",
            "  'feature_fraction': trial.suggest_uniform('feature_fraction', 0.1, 1.0),\n",
            "<ipython-input-7-bd34402695c0>:13: FutureWarning: suggest_uniform has been deprecated in v3.0.0. This feature will be removed in v6.0.0. See https://github.com/optuna/optuna/releases/tag/v3.0.0. Use suggest_float instead.\n",
            "  'bagging_fraction': trial.suggest_uniform('bagging_fraction', 0.1, 1.0),\n"
          ]
        },
        {
          "name": "stdout",
          "output_type": "stream",
          "text": [
            "[LightGBM] [Warning] bagging_fraction is set=0.9455421856385503, subsample=1.0 will be ignored. Current value: bagging_fraction=0.9455421856385503\n",
            "[LightGBM] [Warning] lambda_l2 is set=9.269941922754347e-07, reg_lambda=0.0 will be ignored. Current value: lambda_l2=9.269941922754347e-07\n",
            "[LightGBM] [Warning] lambda_l1 is set=0.09977367479851128, reg_alpha=0.0 will be ignored. Current value: lambda_l1=0.09977367479851128\n",
            "[LightGBM] [Warning] bagging_freq is set=10, subsample_freq=0 will be ignored. Current value: bagging_freq=10\n",
            "[LightGBM] [Warning] feature_fraction is set=0.40253192006137634, colsample_bytree=1.0 will be ignored. Current value: feature_fraction=0.40253192006137634\n"
          ]
        },
        {
          "name": "stderr",
          "output_type": "stream",
          "text": [
            "[I 2023-07-12 14:28:46,937] Trial 98 finished with value: 27213.329137304652 and parameters: {'lambda_l1': 0.09977367479851128, 'lambda_l2': 9.269941922754347e-07, 'num_leaves': 173, 'learning_rate': 0.07434390641441621, 'feature_fraction': 0.40253192006137634, 'bagging_fraction': 0.9455421856385503, 'bagging_freq': 10, 'min_child_samples': 5}. Best is trial 93 with value: 25833.169059244683.\n",
            "<ipython-input-7-bd34402695c0>:8: FutureWarning: suggest_loguniform has been deprecated in v3.0.0. This feature will be removed in v6.0.0. See https://github.com/optuna/optuna/releases/tag/v3.0.0. Use suggest_float(..., log=True) instead.\n",
            "  'lambda_l1': trial.suggest_loguniform('lambda_l1', 1e-8, 10.0),\n",
            "<ipython-input-7-bd34402695c0>:9: FutureWarning: suggest_loguniform has been deprecated in v3.0.0. This feature will be removed in v6.0.0. See https://github.com/optuna/optuna/releases/tag/v3.0.0. Use suggest_float(..., log=True) instead.\n",
            "  'lambda_l2': trial.suggest_loguniform('lambda_l2', 1e-8, 10.0),\n",
            "<ipython-input-7-bd34402695c0>:11: FutureWarning: suggest_loguniform has been deprecated in v3.0.0. This feature will be removed in v6.0.0. See https://github.com/optuna/optuna/releases/tag/v3.0.0. Use suggest_float(..., log=True) instead.\n",
            "  'learning_rate': trial.suggest_loguniform('learning_rate', 0.01, 0.5),\n",
            "<ipython-input-7-bd34402695c0>:12: FutureWarning: suggest_uniform has been deprecated in v3.0.0. This feature will be removed in v6.0.0. See https://github.com/optuna/optuna/releases/tag/v3.0.0. Use suggest_float instead.\n",
            "  'feature_fraction': trial.suggest_uniform('feature_fraction', 0.1, 1.0),\n",
            "<ipython-input-7-bd34402695c0>:13: FutureWarning: suggest_uniform has been deprecated in v3.0.0. This feature will be removed in v6.0.0. See https://github.com/optuna/optuna/releases/tag/v3.0.0. Use suggest_float instead.\n",
            "  'bagging_fraction': trial.suggest_uniform('bagging_fraction', 0.1, 1.0),\n"
          ]
        },
        {
          "name": "stdout",
          "output_type": "stream",
          "text": [
            "[LightGBM] [Warning] bagging_fraction is set=0.8502075680120728, subsample=1.0 will be ignored. Current value: bagging_fraction=0.8502075680120728\n",
            "[LightGBM] [Warning] lambda_l2 is set=1.796483574235435e-07, reg_lambda=0.0 will be ignored. Current value: lambda_l2=1.796483574235435e-07\n",
            "[LightGBM] [Warning] lambda_l1 is set=0.05527198267184064, reg_alpha=0.0 will be ignored. Current value: lambda_l1=0.05527198267184064\n",
            "[LightGBM] [Warning] bagging_freq is set=10, subsample_freq=0 will be ignored. Current value: bagging_freq=10\n",
            "[LightGBM] [Warning] feature_fraction is set=0.48532052268317916, colsample_bytree=1.0 will be ignored. Current value: feature_fraction=0.48532052268317916\n"
          ]
        },
        {
          "name": "stderr",
          "output_type": "stream",
          "text": [
            "[I 2023-07-12 14:28:47,279] Trial 99 finished with value: 27627.22032223094 and parameters: {'lambda_l1': 0.05527198267184064, 'lambda_l2': 1.796483574235435e-07, 'num_leaves': 163, 'learning_rate': 0.0813799768386652, 'feature_fraction': 0.48532052268317916, 'bagging_fraction': 0.8502075680120728, 'bagging_freq': 10, 'min_child_samples': 11}. Best is trial 93 with value: 25833.169059244683.\n"
          ]
        }
      ],
      "source": [
        "# Running the hyperparameter optimization\n",
        "study = optuna.create_study(direction='minimize')\n",
        "study.optimize(objective, n_trials=100)"
      ]
    },
    {
      "cell_type": "code",
      "execution_count": null,
      "metadata": {
        "id": "nmBTrSWLgVZG"
      },
      "outputs": [],
      "source": [
        "# Getting the best hyperparameters\n",
        "best_params = study.best_params"
      ]
    },
    {
      "cell_type": "code",
      "execution_count": null,
      "metadata": {
        "colab": {
          "base_uri": "https://localhost:8080/",
          "height": 233
        },
        "id": "CJmp-YEngZVR",
        "outputId": "82f4d129-c123-4445-e1af-c8ae7462a203"
      },
      "outputs": [
        {
          "name": "stdout",
          "output_type": "stream",
          "text": [
            "[LightGBM] [Warning] lambda_l1 is set=0.10799834333787468, reg_alpha=0.0 will be ignored. Current value: lambda_l1=0.10799834333787468\n",
            "[LightGBM] [Warning] feature_fraction is set=0.49015734367353314, colsample_bytree=1.0 will be ignored. Current value: feature_fraction=0.49015734367353314\n",
            "[LightGBM] [Warning] bagging_freq is set=9, subsample_freq=0 will be ignored. Current value: bagging_freq=9\n",
            "[LightGBM] [Warning] lambda_l2 is set=1.0706942293053998e-07, reg_lambda=0.0 will be ignored. Current value: lambda_l2=1.0706942293053998e-07\n",
            "[LightGBM] [Warning] bagging_fraction is set=0.9450445406298583, subsample=1.0 will be ignored. Current value: bagging_fraction=0.9450445406298583\n"
          ]
        },
        {
          "data": {
            "text/html": [
              "<style>#sk-container-id-1 {color: black;background-color: white;}#sk-container-id-1 pre{padding: 0;}#sk-container-id-1 div.sk-toggleable {background-color: white;}#sk-container-id-1 label.sk-toggleable__label {cursor: pointer;display: block;width: 100%;margin-bottom: 0;padding: 0.3em;box-sizing: border-box;text-align: center;}#sk-container-id-1 label.sk-toggleable__label-arrow:before {content: \"▸\";float: left;margin-right: 0.25em;color: #696969;}#sk-container-id-1 label.sk-toggleable__label-arrow:hover:before {color: black;}#sk-container-id-1 div.sk-estimator:hover label.sk-toggleable__label-arrow:before {color: black;}#sk-container-id-1 div.sk-toggleable__content {max-height: 0;max-width: 0;overflow: hidden;text-align: left;background-color: #f0f8ff;}#sk-container-id-1 div.sk-toggleable__content pre {margin: 0.2em;color: black;border-radius: 0.25em;background-color: #f0f8ff;}#sk-container-id-1 input.sk-toggleable__control:checked~div.sk-toggleable__content {max-height: 200px;max-width: 100%;overflow: auto;}#sk-container-id-1 input.sk-toggleable__control:checked~label.sk-toggleable__label-arrow:before {content: \"▾\";}#sk-container-id-1 div.sk-estimator input.sk-toggleable__control:checked~label.sk-toggleable__label {background-color: #d4ebff;}#sk-container-id-1 div.sk-label input.sk-toggleable__control:checked~label.sk-toggleable__label {background-color: #d4ebff;}#sk-container-id-1 input.sk-hidden--visually {border: 0;clip: rect(1px 1px 1px 1px);clip: rect(1px, 1px, 1px, 1px);height: 1px;margin: -1px;overflow: hidden;padding: 0;position: absolute;width: 1px;}#sk-container-id-1 div.sk-estimator {font-family: monospace;background-color: #f0f8ff;border: 1px dotted black;border-radius: 0.25em;box-sizing: border-box;margin-bottom: 0.5em;}#sk-container-id-1 div.sk-estimator:hover {background-color: #d4ebff;}#sk-container-id-1 div.sk-parallel-item::after {content: \"\";width: 100%;border-bottom: 1px solid gray;flex-grow: 1;}#sk-container-id-1 div.sk-label:hover label.sk-toggleable__label {background-color: #d4ebff;}#sk-container-id-1 div.sk-serial::before {content: \"\";position: absolute;border-left: 1px solid gray;box-sizing: border-box;top: 0;bottom: 0;left: 50%;z-index: 0;}#sk-container-id-1 div.sk-serial {display: flex;flex-direction: column;align-items: center;background-color: white;padding-right: 0.2em;padding-left: 0.2em;position: relative;}#sk-container-id-1 div.sk-item {position: relative;z-index: 1;}#sk-container-id-1 div.sk-parallel {display: flex;align-items: stretch;justify-content: center;background-color: white;position: relative;}#sk-container-id-1 div.sk-item::before, #sk-container-id-1 div.sk-parallel-item::before {content: \"\";position: absolute;border-left: 1px solid gray;box-sizing: border-box;top: 0;bottom: 0;left: 50%;z-index: -1;}#sk-container-id-1 div.sk-parallel-item {display: flex;flex-direction: column;z-index: 1;position: relative;background-color: white;}#sk-container-id-1 div.sk-parallel-item:first-child::after {align-self: flex-end;width: 50%;}#sk-container-id-1 div.sk-parallel-item:last-child::after {align-self: flex-start;width: 50%;}#sk-container-id-1 div.sk-parallel-item:only-child::after {width: 0;}#sk-container-id-1 div.sk-dashed-wrapped {border: 1px dashed gray;margin: 0 0.4em 0.5em 0.4em;box-sizing: border-box;padding-bottom: 0.4em;background-color: white;}#sk-container-id-1 div.sk-label label {font-family: monospace;font-weight: bold;display: inline-block;line-height: 1.2em;}#sk-container-id-1 div.sk-label-container {text-align: center;}#sk-container-id-1 div.sk-container {/* jupyter's `normalize.less` sets `[hidden] { display: none; }` but bootstrap.min.css set `[hidden] { display: none !important; }` so we also need the `!important` here to be able to override the default hidden behavior on the sphinx rendered scikit-learn.org. See: https://github.com/scikit-learn/scikit-learn/issues/21755 */display: inline-block !important;position: relative;}#sk-container-id-1 div.sk-text-repr-fallback {display: none;}</style><div id=\"sk-container-id-1\" class=\"sk-top-container\"><div class=\"sk-text-repr-fallback\"><pre>LGBMRegressor(bagging_fraction=0.9450445406298583, bagging_freq=9,\n",
              "              feature_fraction=0.49015734367353314,\n",
              "              lambda_l1=0.10799834333787468, lambda_l2=1.0706942293053998e-07,\n",
              "              learning_rate=0.07438082072642226, min_child_samples=3,\n",
              "              num_leaves=143)</pre><b>In a Jupyter environment, please rerun this cell to show the HTML representation or trust the notebook. <br />On GitHub, the HTML representation is unable to render, please try loading this page with nbviewer.org.</b></div><div class=\"sk-container\" hidden><div class=\"sk-item\"><div class=\"sk-estimator sk-toggleable\"><input class=\"sk-toggleable__control sk-hidden--visually\" id=\"sk-estimator-id-1\" type=\"checkbox\" checked><label for=\"sk-estimator-id-1\" class=\"sk-toggleable__label sk-toggleable__label-arrow\">LGBMRegressor</label><div class=\"sk-toggleable__content\"><pre>LGBMRegressor(bagging_fraction=0.9450445406298583, bagging_freq=9,\n",
              "              feature_fraction=0.49015734367353314,\n",
              "              lambda_l1=0.10799834333787468, lambda_l2=1.0706942293053998e-07,\n",
              "              learning_rate=0.07438082072642226, min_child_samples=3,\n",
              "              num_leaves=143)</pre></div></div></div></div></div>"
            ],
            "text/plain": [
              "LGBMRegressor(bagging_fraction=0.9450445406298583, bagging_freq=9,\n",
              "              feature_fraction=0.49015734367353314,\n",
              "              lambda_l1=0.10799834333787468, lambda_l2=1.0706942293053998e-07,\n",
              "              learning_rate=0.07438082072642226, min_child_samples=3,\n",
              "              num_leaves=143)"
            ]
          },
          "execution_count": 10,
          "metadata": {},
          "output_type": "execute_result"
        }
      ],
      "source": [
        "# Training the final LightGBM model with the best hyperparameters\n",
        "final_model = lgb.LGBMRegressor(**best_params)\n",
        "final_model.fit(X, y)"
      ]
    }
  ],
  "metadata": {
    "colab": {
      "provenance": []
    },
    "kernelspec": {
      "display_name": "Python 3",
      "name": "python3"
    },
    "language_info": {
      "name": "python"
    }
  },
  "nbformat": 4,
  "nbformat_minor": 0
}
